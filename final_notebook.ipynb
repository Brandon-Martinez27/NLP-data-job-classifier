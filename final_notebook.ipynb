{
 "cells": [
  {
   "cell_type": "markdown",
   "metadata": {},
   "source": [
    "# Data Job Resume Booster\n"
   ]
  },
  {
   "cell_type": "markdown",
   "metadata": {},
   "source": [
    "### Environment Setup"
   ]
  },
  {
   "cell_type": "code",
   "execution_count": 1,
   "metadata": {},
   "outputs": [],
   "source": [
    "import pandas as pd\n",
    "import numpy as np\n",
    "\n",
    "import os\n",
    "import unicodedata\n",
    "import re\n",
    "import json\n",
    "\n",
    "import nltk\n",
    "from nltk.tokenize.toktok import ToktokTokenizer\n",
    "from nltk.corpus import stopwords\n",
    "import warnings\n",
    "warnings.filterwarnings(\"ignore\")\n",
    "\n",
    "%matplotlib inline\n",
    "import matplotlib.pyplot as plt\n",
    "import seaborn as sns\n",
    "\n",
    "from prepare import prep_create_labels\n",
    "from preprocess import prep_job_data, split_job_data, add_columns\n",
    "from explore import words_by_label, freq_by_label, word_count_label"
   ]
  },
  {
   "cell_type": "markdown",
   "metadata": {},
   "source": [
    "# WRANGLE\n",
    "Acquire data from local CSV and prepare it using local scripts"
   ]
  },
  {
   "cell_type": "code",
   "execution_count": 2,
   "metadata": {},
   "outputs": [
    {
     "data": {
      "text/html": [
       "<div>\n",
       "<style scoped>\n",
       "    .dataframe tbody tr th:only-of-type {\n",
       "        vertical-align: middle;\n",
       "    }\n",
       "\n",
       "    .dataframe tbody tr th {\n",
       "        vertical-align: top;\n",
       "    }\n",
       "\n",
       "    .dataframe thead th {\n",
       "        text-align: right;\n",
       "    }\n",
       "</style>\n",
       "<table border=\"1\" class=\"dataframe\">\n",
       "  <thead>\n",
       "    <tr style=\"text-align: right;\">\n",
       "      <th></th>\n",
       "      <th>job_title</th>\n",
       "      <th>company</th>\n",
       "      <th>location</th>\n",
       "      <th>is_remote</th>\n",
       "      <th>salary</th>\n",
       "      <th>post_date</th>\n",
       "      <th>date_accessed</th>\n",
       "      <th>job_description</th>\n",
       "      <th>label</th>\n",
       "      <th>clean</th>\n",
       "      <th>stemmed</th>\n",
       "      <th>lemmatized</th>\n",
       "      <th>words</th>\n",
       "      <th>doc_length</th>\n",
       "    </tr>\n",
       "  </thead>\n",
       "  <tbody>\n",
       "    <tr>\n",
       "      <th>371</th>\n",
       "      <td>Data Engineer</td>\n",
       "      <td>iknowvate technologies</td>\n",
       "      <td>Basking Ridge, NJ</td>\n",
       "      <td>1</td>\n",
       "      <td></td>\n",
       "      <td>30+ days ago</td>\n",
       "      <td>2021-03-05</td>\n",
       "      <td>Basking ridge, New Jersey - United States | Po...</td>\n",
       "      <td>DE</td>\n",
       "      <td>basking ridge new jersey united state posted 0...</td>\n",
       "      <td>bask ridg new jersey unit state post 090220 ov...</td>\n",
       "      <td>basking ridge new jersey united state posted 0...</td>\n",
       "      <td>[basking, ridge, new, jersey, united, state, p...</td>\n",
       "      <td>146</td>\n",
       "    </tr>\n",
       "    <tr>\n",
       "      <th>181</th>\n",
       "      <td>Data Analyst</td>\n",
       "      <td>Interapt</td>\n",
       "      <td>San Antonio, TX 78249</td>\n",
       "      <td>1</td>\n",
       "      <td>From $40,000 a year</td>\n",
       "      <td>30+ days ago</td>\n",
       "      <td>2021-03-05</td>\n",
       "      <td>Data AnalystAt Interapt we transform clients a...</td>\n",
       "      <td>DA</td>\n",
       "      <td>data analystat interapt transform client empow...</td>\n",
       "      <td>data analystat interapt we transform client an...</td>\n",
       "      <td>data analystat interapt we transform client an...</td>\n",
       "      <td>[data, analystat, interapt, transform, client,...</td>\n",
       "      <td>232</td>\n",
       "    </tr>\n",
       "    <tr>\n",
       "      <th>589</th>\n",
       "      <td>Machine Learning Engineer</td>\n",
       "      <td>Immunai</td>\n",
       "      <td>New York, NY</td>\n",
       "      <td>0</td>\n",
       "      <td></td>\n",
       "      <td>11 days ago</td>\n",
       "      <td>2021-03-05</td>\n",
       "      <td>Mission Statement  Through single-cell biology...</td>\n",
       "      <td>MLE</td>\n",
       "      <td>mission statement singlecell biology computati...</td>\n",
       "      <td>mission statement through singlecel biolog com...</td>\n",
       "      <td>mission statement through singlecell biology c...</td>\n",
       "      <td>[mission, statement, singlecell, biology, comp...</td>\n",
       "      <td>334</td>\n",
       "    </tr>\n",
       "  </tbody>\n",
       "</table>\n",
       "</div>"
      ],
      "text/plain": [
       "                     job_title                 company               location  \\\n",
       "371              Data Engineer  iknowvate technologies      Basking Ridge, NJ   \n",
       "181               Data Analyst                Interapt  San Antonio, TX 78249   \n",
       "589  Machine Learning Engineer                 Immunai           New York, NY   \n",
       "\n",
       "     is_remote               salary     post_date date_accessed  \\\n",
       "371          1                       30+ days ago    2021-03-05   \n",
       "181          1  From $40,000 a year  30+ days ago    2021-03-05   \n",
       "589          0                        11 days ago    2021-03-05   \n",
       "\n",
       "                                       job_description label  \\\n",
       "371  Basking ridge, New Jersey - United States | Po...    DE   \n",
       "181  Data AnalystAt Interapt we transform clients a...    DA   \n",
       "589  Mission Statement  Through single-cell biology...   MLE   \n",
       "\n",
       "                                                 clean  \\\n",
       "371  basking ridge new jersey united state posted 0...   \n",
       "181  data analystat interapt transform client empow...   \n",
       "589  mission statement singlecell biology computati...   \n",
       "\n",
       "                                               stemmed  \\\n",
       "371  bask ridg new jersey unit state post 090220 ov...   \n",
       "181  data analystat interapt we transform client an...   \n",
       "589  mission statement through singlecel biolog com...   \n",
       "\n",
       "                                            lemmatized  \\\n",
       "371  basking ridge new jersey united state posted 0...   \n",
       "181  data analystat interapt we transform client an...   \n",
       "589  mission statement through singlecell biology c...   \n",
       "\n",
       "                                                 words  doc_length  \n",
       "371  [basking, ridge, new, jersey, united, state, p...         146  \n",
       "181  [data, analystat, interapt, transform, client,...         232  \n",
       "589  [mission, statement, singlecell, biology, comp...         334  "
      ]
     },
     "execution_count": 2,
     "metadata": {},
     "output_type": "execute_result"
    }
   ],
   "source": [
    "# read csv data\n",
    "df = pd.read_json('indeed-data-jobs-FINAL.json')\n",
    "# add the labels\n",
    "df = prep_create_labels(df).reset_index(drop=True)\n",
    "# prepare the data\n",
    "df = prep_job_data(df, 'job_description', extra_words=['job', 'description']).reset_index(drop=True)\n",
    "# add columns with extra variables [doc_length and words list]\n",
    "df = add_columns(df)\n",
    "df.sample(3)"
   ]
  },
  {
   "cell_type": "markdown",
   "metadata": {},
   "source": [
    "### Split the data\n",
    "Train, validate, and test sets"
   ]
  },
  {
   "cell_type": "code",
   "execution_count": 3,
   "metadata": {},
   "outputs": [
    {
     "name": "stdout",
     "output_type": "stream",
     "text": [
      "train: 0.6\n",
      "validate: 0.2\n",
      "test: 0.2\n"
     ]
    }
   ],
   "source": [
    "train, validate, test = split_job_data(df)\n",
    "print(f'train: {round(train.shape[0]/len(df),2)}')\n",
    "print(f'validate: {round(validate.shape[0]/len(df),2)}')\n",
    "print(f'test: {round(test.shape[0]/len(df),2)}')"
   ]
  },
  {
   "cell_type": "markdown",
   "metadata": {},
   "source": [
    "### Train Data Summary"
   ]
  },
  {
   "cell_type": "code",
   "execution_count": 4,
   "metadata": {},
   "outputs": [
    {
     "name": "stdout",
     "output_type": "stream",
     "text": [
      "<class 'pandas.core.frame.DataFrame'>\n",
      "Int64Index: 426 entries, 420 to 531\n",
      "Data columns (total 5 columns):\n",
      " #   Column      Non-Null Count  Dtype \n",
      "---  ------      --------------  ----- \n",
      " 0   label       426 non-null    object\n",
      " 1   job_title   426 non-null    object\n",
      " 2   clean       426 non-null    object\n",
      " 3   words       426 non-null    object\n",
      " 4   doc_length  426 non-null    int64 \n",
      "dtypes: int64(1), object(4)\n",
      "memory usage: 20.0+ KB\n"
     ]
    }
   ],
   "source": [
    "train.info()"
   ]
  },
  {
   "cell_type": "code",
   "execution_count": 5,
   "metadata": {},
   "outputs": [
    {
     "data": {
      "text/html": [
       "<div>\n",
       "<style scoped>\n",
       "    .dataframe tbody tr th:only-of-type {\n",
       "        vertical-align: middle;\n",
       "    }\n",
       "\n",
       "    .dataframe tbody tr th {\n",
       "        vertical-align: top;\n",
       "    }\n",
       "\n",
       "    .dataframe thead th {\n",
       "        text-align: right;\n",
       "    }\n",
       "</style>\n",
       "<table border=\"1\" class=\"dataframe\">\n",
       "  <thead>\n",
       "    <tr style=\"text-align: right;\">\n",
       "      <th></th>\n",
       "      <th>label</th>\n",
       "      <th>job_title</th>\n",
       "      <th>clean</th>\n",
       "      <th>words</th>\n",
       "      <th>doc_length</th>\n",
       "    </tr>\n",
       "  </thead>\n",
       "  <tbody>\n",
       "    <tr>\n",
       "      <th>657</th>\n",
       "      <td>MLE</td>\n",
       "      <td>Machine Learning Engineer</td>\n",
       "      <td>reporting director engineering responsible pla...</td>\n",
       "      <td>[reporting, director, engineering, responsible...</td>\n",
       "      <td>303</td>\n",
       "    </tr>\n",
       "    <tr>\n",
       "      <th>531</th>\n",
       "      <td>MLE</td>\n",
       "      <td>Machine Learning Engineer</td>\n",
       "      <td>language io delivers marketleading multilingua...</td>\n",
       "      <td>[language, io, delivers, marketleading, multil...</td>\n",
       "      <td>312</td>\n",
       "    </tr>\n",
       "    <tr>\n",
       "      <th>583</th>\n",
       "      <td>MLE</td>\n",
       "      <td>Machine Learning Engineer - Office of the CTO ...</td>\n",
       "      <td>machine learning engineer office cto xlabs vmw...</td>\n",
       "      <td>[machine, learning, engineer, office, cto, xla...</td>\n",
       "      <td>406</td>\n",
       "    </tr>\n",
       "  </tbody>\n",
       "</table>\n",
       "</div>"
      ],
      "text/plain": [
       "    label                                          job_title  \\\n",
       "657   MLE                          Machine Learning Engineer   \n",
       "531   MLE                          Machine Learning Engineer   \n",
       "583   MLE  Machine Learning Engineer - Office of the CTO ...   \n",
       "\n",
       "                                                 clean  \\\n",
       "657  reporting director engineering responsible pla...   \n",
       "531  language io delivers marketleading multilingua...   \n",
       "583  machine learning engineer office cto xlabs vmw...   \n",
       "\n",
       "                                                 words  doc_length  \n",
       "657  [reporting, director, engineering, responsible...         303  \n",
       "531  [language, io, delivers, marketleading, multil...         312  \n",
       "583  [machine, learning, engineer, office, cto, xla...         406  "
      ]
     },
     "execution_count": 5,
     "metadata": {},
     "output_type": "execute_result"
    }
   ],
   "source": [
    "train.sample(3)"
   ]
  },
  {
   "cell_type": "markdown",
   "metadata": {},
   "source": [
    "# EXPLORE"
   ]
  },
  {
   "cell_type": "markdown",
   "metadata": {},
   "source": [
    "### Label Count & %"
   ]
  },
  {
   "cell_type": "code",
   "execution_count": 6,
   "metadata": {},
   "outputs": [
    {
     "data": {
      "text/html": [
       "<div>\n",
       "<style scoped>\n",
       "    .dataframe tbody tr th:only-of-type {\n",
       "        vertical-align: middle;\n",
       "    }\n",
       "\n",
       "    .dataframe tbody tr th {\n",
       "        vertical-align: top;\n",
       "    }\n",
       "\n",
       "    .dataframe thead th {\n",
       "        text-align: right;\n",
       "    }\n",
       "</style>\n",
       "<table border=\"1\" class=\"dataframe\">\n",
       "  <thead>\n",
       "    <tr style=\"text-align: right;\">\n",
       "      <th></th>\n",
       "      <th>n</th>\n",
       "      <th>percent</th>\n",
       "    </tr>\n",
       "  </thead>\n",
       "  <tbody>\n",
       "    <tr>\n",
       "      <th>DA</th>\n",
       "      <td>112</td>\n",
       "      <td>0.262911</td>\n",
       "    </tr>\n",
       "    <tr>\n",
       "      <th>MLE</th>\n",
       "      <td>108</td>\n",
       "      <td>0.253521</td>\n",
       "    </tr>\n",
       "    <tr>\n",
       "      <th>DE</th>\n",
       "      <td>103</td>\n",
       "      <td>0.241784</td>\n",
       "    </tr>\n",
       "    <tr>\n",
       "      <th>DS</th>\n",
       "      <td>103</td>\n",
       "      <td>0.241784</td>\n",
       "    </tr>\n",
       "  </tbody>\n",
       "</table>\n",
       "</div>"
      ],
      "text/plain": [
       "       n   percent\n",
       "DA   112  0.262911\n",
       "MLE  108  0.253521\n",
       "DE   103  0.241784\n",
       "DS   103  0.241784"
      ]
     },
     "execution_count": 6,
     "metadata": {},
     "output_type": "execute_result"
    }
   ],
   "source": [
    "labels = pd.concat([train.label.value_counts(),\n",
    "                    train.label.value_counts(normalize=True)], axis=1)\n",
    "labels.columns = ['n', 'percent']\n",
    "labels"
   ]
  },
  {
   "cell_type": "markdown",
   "metadata": {},
   "source": [
    "### Word Lists by Label"
   ]
  },
  {
   "cell_type": "code",
   "execution_count": 7,
   "metadata": {},
   "outputs": [],
   "source": [
    "da_words, ds_words, de_words, mle_words, all_words = words_by_label(train)"
   ]
  },
  {
   "cell_type": "code",
   "execution_count": 8,
   "metadata": {},
   "outputs": [
    {
     "data": {
      "text/plain": [
       "['gap', 'inc', 'brand', 'bridge', 'gap']"
      ]
     },
     "execution_count": 8,
     "metadata": {},
     "output_type": "execute_result"
    }
   ],
   "source": [
    "# these are all the words that appear in DS labeled job descripts\n",
    "ds_words[:5]"
   ]
  },
  {
   "cell_type": "code",
   "execution_count": 9,
   "metadata": {},
   "outputs": [],
   "source": [
    "da_freq, ds_freq, de_freq, mle_freq, all_freq = freq_by_label(da_words, ds_words, de_words, mle_words, all_words)"
   ]
  },
  {
   "cell_type": "code",
   "execution_count": 10,
   "metadata": {},
   "outputs": [
    {
     "data": {
      "text/plain": [
       "data          993\n",
       "experience    392\n",
       "team          318\n",
       "work          298\n",
       "business      241\n",
       "dtype: int64"
      ]
     },
     "execution_count": 10,
     "metadata": {},
     "output_type": "execute_result"
    }
   ],
   "source": [
    "# frequency of each unique word for the DS label\n",
    "ds_freq[:5]"
   ]
  },
  {
   "cell_type": "code",
   "execution_count": 11,
   "metadata": {},
   "outputs": [],
   "source": [
    "word_counts = word_count_label(da_freq, ds_freq, de_freq, mle_freq, all_freq)"
   ]
  },
  {
   "cell_type": "code",
   "execution_count": 12,
   "metadata": {},
   "outputs": [
    {
     "data": {
      "text/html": [
       "<div>\n",
       "<style scoped>\n",
       "    .dataframe tbody tr th:only-of-type {\n",
       "        vertical-align: middle;\n",
       "    }\n",
       "\n",
       "    .dataframe tbody tr th {\n",
       "        vertical-align: top;\n",
       "    }\n",
       "\n",
       "    .dataframe thead th {\n",
       "        text-align: right;\n",
       "    }\n",
       "</style>\n",
       "<table border=\"1\" class=\"dataframe\">\n",
       "  <thead>\n",
       "    <tr style=\"text-align: right;\">\n",
       "      <th></th>\n",
       "      <th>all</th>\n",
       "      <th>DS</th>\n",
       "      <th>DA</th>\n",
       "      <th>DE</th>\n",
       "      <th>MLE</th>\n",
       "      <th>prop_ds</th>\n",
       "      <th>prop_da</th>\n",
       "      <th>prop_de</th>\n",
       "      <th>prop_mle</th>\n",
       "    </tr>\n",
       "  </thead>\n",
       "  <tbody>\n",
       "    <tr>\n",
       "      <th>000</th>\n",
       "      <td>4</td>\n",
       "      <td>0</td>\n",
       "      <td>3</td>\n",
       "      <td>1</td>\n",
       "      <td>0</td>\n",
       "      <td>0.0</td>\n",
       "      <td>0.75</td>\n",
       "      <td>0.25</td>\n",
       "      <td>0.0</td>\n",
       "    </tr>\n",
       "    <tr>\n",
       "      <th>01</th>\n",
       "      <td>2</td>\n",
       "      <td>0</td>\n",
       "      <td>1</td>\n",
       "      <td>1</td>\n",
       "      <td>0</td>\n",
       "      <td>0.0</td>\n",
       "      <td>0.50</td>\n",
       "      <td>0.50</td>\n",
       "      <td>0.0</td>\n",
       "    </tr>\n",
       "    <tr>\n",
       "      <th>01mar2021pimco</th>\n",
       "      <td>1</td>\n",
       "      <td>0</td>\n",
       "      <td>0</td>\n",
       "      <td>0</td>\n",
       "      <td>1</td>\n",
       "      <td>0.0</td>\n",
       "      <td>0.00</td>\n",
       "      <td>0.00</td>\n",
       "      <td>1.0</td>\n",
       "    </tr>\n",
       "    <tr>\n",
       "      <th>02</th>\n",
       "      <td>5</td>\n",
       "      <td>1</td>\n",
       "      <td>2</td>\n",
       "      <td>1</td>\n",
       "      <td>1</td>\n",
       "      <td>0.2</td>\n",
       "      <td>0.40</td>\n",
       "      <td>0.20</td>\n",
       "      <td>0.2</td>\n",
       "    </tr>\n",
       "    <tr>\n",
       "      <th>02038541400</th>\n",
       "      <td>2</td>\n",
       "      <td>1</td>\n",
       "      <td>0</td>\n",
       "      <td>1</td>\n",
       "      <td>0</td>\n",
       "      <td>0.5</td>\n",
       "      <td>0.00</td>\n",
       "      <td>0.50</td>\n",
       "      <td>0.0</td>\n",
       "    </tr>\n",
       "  </tbody>\n",
       "</table>\n",
       "</div>"
      ],
      "text/plain": [
       "                all  DS  DA  DE  MLE  prop_ds  prop_da  prop_de  prop_mle\n",
       "000               4   0   3   1    0      0.0     0.75     0.25       0.0\n",
       "01                2   0   1   1    0      0.0     0.50     0.50       0.0\n",
       "01mar2021pimco    1   0   0   0    1      0.0     0.00     0.00       1.0\n",
       "02                5   1   2   1    1      0.2     0.40     0.20       0.2\n",
       "02038541400       2   1   0   1    0      0.5     0.00     0.50       0.0"
      ]
     },
     "execution_count": 12,
     "metadata": {},
     "output_type": "execute_result"
    }
   ],
   "source": [
    "# for every word (row), the number it appears is shown based on the label, \n",
    "# also the proporition of label/all words if given for each\n",
    "word_counts.head()"
   ]
  },
  {
   "cell_type": "markdown",
   "metadata": {},
   "source": [
    "---\n",
    "# What are the most frequently occurring words?"
   ]
  },
  {
   "cell_type": "code",
   "execution_count": 13,
   "metadata": {},
   "outputs": [
    {
     "data": {
      "text/html": [
       "<div>\n",
       "<style scoped>\n",
       "    .dataframe tbody tr th:only-of-type {\n",
       "        vertical-align: middle;\n",
       "    }\n",
       "\n",
       "    .dataframe tbody tr th {\n",
       "        vertical-align: top;\n",
       "    }\n",
       "\n",
       "    .dataframe thead th {\n",
       "        text-align: right;\n",
       "    }\n",
       "</style>\n",
       "<table border=\"1\" class=\"dataframe\">\n",
       "  <thead>\n",
       "    <tr style=\"text-align: right;\">\n",
       "      <th></th>\n",
       "      <th>all</th>\n",
       "      <th>DS</th>\n",
       "      <th>DA</th>\n",
       "      <th>DE</th>\n",
       "      <th>MLE</th>\n",
       "      <th>prop_ds</th>\n",
       "      <th>prop_da</th>\n",
       "      <th>prop_de</th>\n",
       "      <th>prop_mle</th>\n",
       "    </tr>\n",
       "  </thead>\n",
       "  <tbody>\n",
       "    <tr>\n",
       "      <th>data</th>\n",
       "      <td>3763</td>\n",
       "      <td>993</td>\n",
       "      <td>896</td>\n",
       "      <td>1409</td>\n",
       "      <td>465</td>\n",
       "      <td>0.263885</td>\n",
       "      <td>0.238108</td>\n",
       "      <td>0.374435</td>\n",
       "      <td>0.123572</td>\n",
       "    </tr>\n",
       "    <tr>\n",
       "      <th>experience</th>\n",
       "      <td>1622</td>\n",
       "      <td>392</td>\n",
       "      <td>291</td>\n",
       "      <td>496</td>\n",
       "      <td>443</td>\n",
       "      <td>0.241677</td>\n",
       "      <td>0.179408</td>\n",
       "      <td>0.305795</td>\n",
       "      <td>0.273120</td>\n",
       "    </tr>\n",
       "    <tr>\n",
       "      <th>team</th>\n",
       "      <td>1109</td>\n",
       "      <td>318</td>\n",
       "      <td>227</td>\n",
       "      <td>248</td>\n",
       "      <td>316</td>\n",
       "      <td>0.286745</td>\n",
       "      <td>0.204689</td>\n",
       "      <td>0.223625</td>\n",
       "      <td>0.284941</td>\n",
       "    </tr>\n",
       "    <tr>\n",
       "      <th>work</th>\n",
       "      <td>1047</td>\n",
       "      <td>298</td>\n",
       "      <td>222</td>\n",
       "      <td>257</td>\n",
       "      <td>270</td>\n",
       "      <td>0.284623</td>\n",
       "      <td>0.212034</td>\n",
       "      <td>0.245463</td>\n",
       "      <td>0.257880</td>\n",
       "    </tr>\n",
       "    <tr>\n",
       "      <th>learning</th>\n",
       "      <td>884</td>\n",
       "      <td>207</td>\n",
       "      <td>21</td>\n",
       "      <td>52</td>\n",
       "      <td>604</td>\n",
       "      <td>0.234163</td>\n",
       "      <td>0.023756</td>\n",
       "      <td>0.058824</td>\n",
       "      <td>0.683258</td>\n",
       "    </tr>\n",
       "  </tbody>\n",
       "</table>\n",
       "</div>"
      ],
      "text/plain": [
       "             all   DS   DA    DE  MLE   prop_ds   prop_da   prop_de  prop_mle\n",
       "data        3763  993  896  1409  465  0.263885  0.238108  0.374435  0.123572\n",
       "experience  1622  392  291   496  443  0.241677  0.179408  0.305795  0.273120\n",
       "team        1109  318  227   248  316  0.286745  0.204689  0.223625  0.284941\n",
       "work        1047  298  222   257  270  0.284623  0.212034  0.245463  0.257880\n",
       "learning     884  207   21    52  604  0.234163  0.023756  0.058824  0.683258"
      ]
     },
     "execution_count": 13,
     "metadata": {},
     "output_type": "execute_result"
    }
   ],
   "source": [
    "word_counts.sort_values(by='all', ascending=False).head()"
   ]
  },
  {
   "cell_type": "code",
   "execution_count": null,
   "metadata": {},
   "outputs": [],
   "source": []
  }
 ],
 "metadata": {
  "kernelspec": {
   "display_name": "Python 3",
   "language": "python",
   "name": "python3"
  },
  "language_info": {
   "codemirror_mode": {
    "name": "ipython",
    "version": 3
   },
   "file_extension": ".py",
   "mimetype": "text/x-python",
   "name": "python",
   "nbconvert_exporter": "python",
   "pygments_lexer": "ipython3",
   "version": "3.7.6"
  }
 },
 "nbformat": 4,
 "nbformat_minor": 4
}
