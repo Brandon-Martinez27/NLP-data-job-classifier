{
 "cells": [
  {
   "cell_type": "markdown",
   "metadata": {},
   "source": [
    "# Data Job Resume Booster\n"
   ]
  },
  {
   "cell_type": "markdown",
   "metadata": {},
   "source": [
    "### Environment Setup"
   ]
  },
  {
   "cell_type": "code",
   "execution_count": 1,
   "metadata": {},
   "outputs": [],
   "source": [
    "import pandas as pd\n",
    "import numpy as np\n",
    "\n",
    "import os\n",
    "import unicodedata\n",
    "import re\n",
    "import json\n",
    "\n",
    "import nltk\n",
    "from nltk.tokenize.toktok import ToktokTokenizer\n",
    "from nltk.corpus import stopwords\n",
    "import warnings\n",
    "warnings.filterwarnings(\"ignore\")\n",
    "\n",
    "%matplotlib inline\n",
    "import matplotlib.pyplot as plt\n",
    "import seaborn as sns\n",
    "\n",
    "from prepare import prep_create_labels\n",
    "from preprocess import prep_job_data, split_job_data, add_columns\n",
    "from explore import words_by_label, freq_by_label"
   ]
  },
  {
   "cell_type": "markdown",
   "metadata": {},
   "source": [
    "# WRANGLE\n",
    "Acquire data from local CSV and prepare it using local scripts"
   ]
  },
  {
   "cell_type": "code",
   "execution_count": 2,
   "metadata": {},
   "outputs": [
    {
     "data": {
      "text/html": [
       "<div>\n",
       "<style scoped>\n",
       "    .dataframe tbody tr th:only-of-type {\n",
       "        vertical-align: middle;\n",
       "    }\n",
       "\n",
       "    .dataframe tbody tr th {\n",
       "        vertical-align: top;\n",
       "    }\n",
       "\n",
       "    .dataframe thead th {\n",
       "        text-align: right;\n",
       "    }\n",
       "</style>\n",
       "<table border=\"1\" class=\"dataframe\">\n",
       "  <thead>\n",
       "    <tr style=\"text-align: right;\">\n",
       "      <th></th>\n",
       "      <th>job_title</th>\n",
       "      <th>company</th>\n",
       "      <th>location</th>\n",
       "      <th>is_remote</th>\n",
       "      <th>salary</th>\n",
       "      <th>post_date</th>\n",
       "      <th>date_accessed</th>\n",
       "      <th>job_description</th>\n",
       "      <th>label</th>\n",
       "      <th>clean</th>\n",
       "      <th>stemmed</th>\n",
       "      <th>lemmatized</th>\n",
       "      <th>words</th>\n",
       "      <th>doc_length</th>\n",
       "    </tr>\n",
       "  </thead>\n",
       "  <tbody>\n",
       "    <tr>\n",
       "      <th>368</th>\n",
       "      <td>Data Engineer</td>\n",
       "      <td>Sift Healthcare</td>\n",
       "      <td>Milwaukee, WI 53202</td>\n",
       "      <td>1</td>\n",
       "      <td>$80,000 - $120,000 a year</td>\n",
       "      <td>24 days ago</td>\n",
       "      <td>2021-03-05</td>\n",
       "      <td>We are looking for a savvy, detail-oriented Da...</td>\n",
       "      <td>DE</td>\n",
       "      <td>looking savvy detailoriented data engineer joi...</td>\n",
       "      <td>we are look for a savvi detailori data engin t...</td>\n",
       "      <td>we are looking for a savvy detailoriented data...</td>\n",
       "      <td>[looking, savvy, detailoriented, data, enginee...</td>\n",
       "      <td>378</td>\n",
       "    </tr>\n",
       "    <tr>\n",
       "      <th>386</th>\n",
       "      <td>Data Engineer - Data Warehouse - Entry Level</td>\n",
       "      <td>Pearson</td>\n",
       "      <td>Durham, NC</td>\n",
       "      <td>1</td>\n",
       "      <td></td>\n",
       "      <td>30+ days ago</td>\n",
       "      <td>2021-03-05</td>\n",
       "      <td>Description We are the world’s learning compan...</td>\n",
       "      <td>DE</td>\n",
       "      <td>world learning company 24000 employee operatin...</td>\n",
       "      <td>descript we are the world learn compani with m...</td>\n",
       "      <td>description we are the world learning company ...</td>\n",
       "      <td>[world, learning, company, 24000, employee, op...</td>\n",
       "      <td>303</td>\n",
       "    </tr>\n",
       "    <tr>\n",
       "      <th>576</th>\n",
       "      <td>Machine Learning Engineer</td>\n",
       "      <td>Pictor Labs</td>\n",
       "      <td>Los Angeles, CA 90025</td>\n",
       "      <td>1</td>\n",
       "      <td></td>\n",
       "      <td>13 days ago</td>\n",
       "      <td>2021-03-05</td>\n",
       "      <td>Spun off from UCLA Engineering and School of M...</td>\n",
       "      <td>MLE</td>\n",
       "      <td>spun ucla engineering school medicine pictor l...</td>\n",
       "      <td>spun off from ucla engin and school of medicin...</td>\n",
       "      <td>spun off from ucla engineering and school of m...</td>\n",
       "      <td>[spun, ucla, engineering, school, medicine, pi...</td>\n",
       "      <td>374</td>\n",
       "    </tr>\n",
       "  </tbody>\n",
       "</table>\n",
       "</div>"
      ],
      "text/plain": [
       "                                        job_title          company  \\\n",
       "368                                 Data Engineer  Sift Healthcare   \n",
       "386  Data Engineer - Data Warehouse - Entry Level          Pearson   \n",
       "576                     Machine Learning Engineer      Pictor Labs   \n",
       "\n",
       "                  location  is_remote                     salary  \\\n",
       "368    Milwaukee, WI 53202          1  $80,000 - $120,000 a year   \n",
       "386             Durham, NC          1                              \n",
       "576  Los Angeles, CA 90025          1                              \n",
       "\n",
       "        post_date date_accessed  \\\n",
       "368   24 days ago    2021-03-05   \n",
       "386  30+ days ago    2021-03-05   \n",
       "576   13 days ago    2021-03-05   \n",
       "\n",
       "                                       job_description label  \\\n",
       "368  We are looking for a savvy, detail-oriented Da...    DE   \n",
       "386  Description We are the world’s learning compan...    DE   \n",
       "576  Spun off from UCLA Engineering and School of M...   MLE   \n",
       "\n",
       "                                                 clean  \\\n",
       "368  looking savvy detailoriented data engineer joi...   \n",
       "386  world learning company 24000 employee operatin...   \n",
       "576  spun ucla engineering school medicine pictor l...   \n",
       "\n",
       "                                               stemmed  \\\n",
       "368  we are look for a savvi detailori data engin t...   \n",
       "386  descript we are the world learn compani with m...   \n",
       "576  spun off from ucla engin and school of medicin...   \n",
       "\n",
       "                                            lemmatized  \\\n",
       "368  we are looking for a savvy detailoriented data...   \n",
       "386  description we are the world learning company ...   \n",
       "576  spun off from ucla engineering and school of m...   \n",
       "\n",
       "                                                 words  doc_length  \n",
       "368  [looking, savvy, detailoriented, data, enginee...         378  \n",
       "386  [world, learning, company, 24000, employee, op...         303  \n",
       "576  [spun, ucla, engineering, school, medicine, pi...         374  "
      ]
     },
     "execution_count": 2,
     "metadata": {},
     "output_type": "execute_result"
    }
   ],
   "source": [
    "# read csv data\n",
    "df = pd.read_json('indeed-data-jobs-FINAL.json')\n",
    "# add the labels\n",
    "df = prep_create_labels(df).reset_index(drop=True)\n",
    "# prepare the data\n",
    "df = prep_job_data(df, 'job_description', extra_words=['job', 'description']).reset_index(drop=True)\n",
    "# add columns with extra variables [doc_length and words list]\n",
    "df = add_columns(df)\n",
    "df.sample(3)"
   ]
  },
  {
   "cell_type": "markdown",
   "metadata": {},
   "source": [
    "### Split the data\n",
    "Train, validate, and test sets"
   ]
  },
  {
   "cell_type": "code",
   "execution_count": 3,
   "metadata": {},
   "outputs": [
    {
     "name": "stdout",
     "output_type": "stream",
     "text": [
      "train: 0.6\n",
      "validate: 0.2\n",
      "test: 0.2\n"
     ]
    }
   ],
   "source": [
    "train, validate, test = split_job_data(df)\n",
    "print(f'train: {round(train.shape[0]/len(df),2)}')\n",
    "print(f'validate: {round(validate.shape[0]/len(df),2)}')\n",
    "print(f'test: {round(test.shape[0]/len(df),2)}')"
   ]
  },
  {
   "cell_type": "markdown",
   "metadata": {},
   "source": [
    "### Train Data Summary"
   ]
  },
  {
   "cell_type": "code",
   "execution_count": 4,
   "metadata": {},
   "outputs": [
    {
     "name": "stdout",
     "output_type": "stream",
     "text": [
      "<class 'pandas.core.frame.DataFrame'>\n",
      "Int64Index: 426 entries, 420 to 531\n",
      "Data columns (total 5 columns):\n",
      " #   Column      Non-Null Count  Dtype \n",
      "---  ------      --------------  ----- \n",
      " 0   label       426 non-null    object\n",
      " 1   job_title   426 non-null    object\n",
      " 2   clean       426 non-null    object\n",
      " 3   words       426 non-null    object\n",
      " 4   doc_length  426 non-null    int64 \n",
      "dtypes: int64(1), object(4)\n",
      "memory usage: 20.0+ KB\n"
     ]
    }
   ],
   "source": [
    "train.info()"
   ]
  },
  {
   "cell_type": "code",
   "execution_count": 5,
   "metadata": {},
   "outputs": [
    {
     "data": {
      "text/html": [
       "<div>\n",
       "<style scoped>\n",
       "    .dataframe tbody tr th:only-of-type {\n",
       "        vertical-align: middle;\n",
       "    }\n",
       "\n",
       "    .dataframe tbody tr th {\n",
       "        vertical-align: top;\n",
       "    }\n",
       "\n",
       "    .dataframe thead th {\n",
       "        text-align: right;\n",
       "    }\n",
       "</style>\n",
       "<table border=\"1\" class=\"dataframe\">\n",
       "  <thead>\n",
       "    <tr style=\"text-align: right;\">\n",
       "      <th></th>\n",
       "      <th>label</th>\n",
       "      <th>job_title</th>\n",
       "      <th>clean</th>\n",
       "      <th>words</th>\n",
       "      <th>doc_length</th>\n",
       "    </tr>\n",
       "  </thead>\n",
       "  <tbody>\n",
       "    <tr>\n",
       "      <th>421</th>\n",
       "      <td>DE</td>\n",
       "      <td>Data Engineer</td>\n",
       "      <td>u launched 2011 twitch global community come t...</td>\n",
       "      <td>[u, launched, 2011, twitch, global, community,...</td>\n",
       "      <td>381</td>\n",
       "    </tr>\n",
       "    <tr>\n",
       "      <th>657</th>\n",
       "      <td>MLE</td>\n",
       "      <td>Machine Learning Engineer</td>\n",
       "      <td>reporting director engineering responsible pla...</td>\n",
       "      <td>[reporting, director, engineering, responsible...</td>\n",
       "      <td>303</td>\n",
       "    </tr>\n",
       "    <tr>\n",
       "      <th>222</th>\n",
       "      <td>DA</td>\n",
       "      <td>Data analyst level 2</td>\n",
       "      <td>manage develop best practice project achieve r...</td>\n",
       "      <td>[manage, develop, best, practice, project, ach...</td>\n",
       "      <td>147</td>\n",
       "    </tr>\n",
       "  </tbody>\n",
       "</table>\n",
       "</div>"
      ],
      "text/plain": [
       "    label                  job_title  \\\n",
       "421    DE              Data Engineer   \n",
       "657   MLE  Machine Learning Engineer   \n",
       "222    DA       Data analyst level 2   \n",
       "\n",
       "                                                 clean  \\\n",
       "421  u launched 2011 twitch global community come t...   \n",
       "657  reporting director engineering responsible pla...   \n",
       "222  manage develop best practice project achieve r...   \n",
       "\n",
       "                                                 words  doc_length  \n",
       "421  [u, launched, 2011, twitch, global, community,...         381  \n",
       "657  [reporting, director, engineering, responsible...         303  \n",
       "222  [manage, develop, best, practice, project, ach...         147  "
      ]
     },
     "execution_count": 5,
     "metadata": {},
     "output_type": "execute_result"
    }
   ],
   "source": [
    "train.sample(3)"
   ]
  },
  {
   "cell_type": "markdown",
   "metadata": {},
   "source": [
    "# EXPLORE"
   ]
  },
  {
   "cell_type": "markdown",
   "metadata": {},
   "source": [
    "### Label Count & %"
   ]
  },
  {
   "cell_type": "code",
   "execution_count": 6,
   "metadata": {},
   "outputs": [
    {
     "data": {
      "text/html": [
       "<div>\n",
       "<style scoped>\n",
       "    .dataframe tbody tr th:only-of-type {\n",
       "        vertical-align: middle;\n",
       "    }\n",
       "\n",
       "    .dataframe tbody tr th {\n",
       "        vertical-align: top;\n",
       "    }\n",
       "\n",
       "    .dataframe thead th {\n",
       "        text-align: right;\n",
       "    }\n",
       "</style>\n",
       "<table border=\"1\" class=\"dataframe\">\n",
       "  <thead>\n",
       "    <tr style=\"text-align: right;\">\n",
       "      <th></th>\n",
       "      <th>n</th>\n",
       "      <th>percent</th>\n",
       "    </tr>\n",
       "  </thead>\n",
       "  <tbody>\n",
       "    <tr>\n",
       "      <th>DA</th>\n",
       "      <td>112</td>\n",
       "      <td>0.262911</td>\n",
       "    </tr>\n",
       "    <tr>\n",
       "      <th>MLE</th>\n",
       "      <td>108</td>\n",
       "      <td>0.253521</td>\n",
       "    </tr>\n",
       "    <tr>\n",
       "      <th>DE</th>\n",
       "      <td>103</td>\n",
       "      <td>0.241784</td>\n",
       "    </tr>\n",
       "    <tr>\n",
       "      <th>DS</th>\n",
       "      <td>103</td>\n",
       "      <td>0.241784</td>\n",
       "    </tr>\n",
       "  </tbody>\n",
       "</table>\n",
       "</div>"
      ],
      "text/plain": [
       "       n   percent\n",
       "DA   112  0.262911\n",
       "MLE  108  0.253521\n",
       "DE   103  0.241784\n",
       "DS   103  0.241784"
      ]
     },
     "execution_count": 6,
     "metadata": {},
     "output_type": "execute_result"
    }
   ],
   "source": [
    "labels = pd.concat([train.label.value_counts(),\n",
    "                    train.label.value_counts(normalize=True)], axis=1)\n",
    "labels.columns = ['n', 'percent']\n",
    "labels"
   ]
  },
  {
   "cell_type": "markdown",
   "metadata": {},
   "source": [
    "### Word Lists by Label"
   ]
  },
  {
   "cell_type": "code",
   "execution_count": 7,
   "metadata": {},
   "outputs": [],
   "source": [
    "da_words, ds_words, de_words, mle_words, all_words = words_by_label(train)"
   ]
  },
  {
   "cell_type": "code",
   "execution_count": 8,
   "metadata": {},
   "outputs": [
    {
     "data": {
      "text/plain": [
       "['gap', 'inc', 'brand', 'bridge', 'gap']"
      ]
     },
     "execution_count": 8,
     "metadata": {},
     "output_type": "execute_result"
    }
   ],
   "source": [
    "# these are all the words that appear in DS labeled job descripts\n",
    "ds_words[:5]"
   ]
  },
  {
   "cell_type": "code",
   "execution_count": 9,
   "metadata": {},
   "outputs": [],
   "source": [
    "da_freq, ds_freq, de_freq, mle_freq, all_freq = freq_by_label(da_words, ds_words, de_words, mle_words, all_words)"
   ]
  },
  {
   "cell_type": "code",
   "execution_count": 10,
   "metadata": {},
   "outputs": [
    {
     "data": {
      "text/plain": [
       "data          993\n",
       "experience    392\n",
       "team          318\n",
       "work          298\n",
       "business      241\n",
       "dtype: int64"
      ]
     },
     "execution_count": 10,
     "metadata": {},
     "output_type": "execute_result"
    }
   ],
   "source": [
    "# frequency of each unique word for the DS label\n",
    "ds_freq[:5]"
   ]
  }
 ],
 "metadata": {
  "kernelspec": {
   "display_name": "Python 3",
   "language": "python",
   "name": "python3"
  },
  "language_info": {
   "codemirror_mode": {
    "name": "ipython",
    "version": 3
   },
   "file_extension": ".py",
   "mimetype": "text/x-python",
   "name": "python",
   "nbconvert_exporter": "python",
   "pygments_lexer": "ipython3",
   "version": "3.7.6"
  }
 },
 "nbformat": 4,
 "nbformat_minor": 4
}
