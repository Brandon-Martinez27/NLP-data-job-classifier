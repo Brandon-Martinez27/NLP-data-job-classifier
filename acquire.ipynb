{
 "cells": [
  {
   "cell_type": "code",
   "execution_count": 1,
   "metadata": {},
   "outputs": [],
   "source": [
    "import pandas as pd\n",
    "import numpy as np\n",
    "from acquire import get_job_urls"
   ]
  },
  {
   "cell_type": "code",
   "execution_count": 2,
   "metadata": {},
   "outputs": [
    {
     "data": {
      "text/plain": [
       "['https://www.linkedin.com/jobs/search/?f_L=United%20States&geoId=103644278&keywords=data%20scientist&location=United%20States&start=0',\n",
       " 'https://www.linkedin.com/jobs/search/?f_L=United%20States&geoId=103644278&keywords=data%20scientist&location=United%20States&start=25',\n",
       " 'https://www.linkedin.com/jobs/search/?f_L=United%20States&geoId=103644278&keywords=data%20scientist&location=United%20States&start=50',\n",
       " 'https://www.linkedin.com/jobs/search/?f_L=United%20States&geoId=103644278&keywords=data%20scientist&location=United%20States&start=75',\n",
       " 'https://www.linkedin.com/jobs/search/?f_L=United%20States&geoId=103644278&keywords=data%20scientist&location=United%20States&start=100',\n",
       " 'https://www.linkedin.com/jobs/search/?f_L=United%20States&geoId=103644278&keywords=data%20scientist&location=United%20States&start=125',\n",
       " 'https://www.linkedin.com/jobs/search/?f_L=United%20States&geoId=103644278&keywords=data%20scientist&location=United%20States&start=150',\n",
       " 'https://www.linkedin.com/jobs/search/?f_L=United%20States&geoId=103644278&keywords=data%20scientist&location=United%20States&start=175',\n",
       " 'https://www.linkedin.com/jobs/search/?f_L=United%20States&geoId=103644278&keywords=data%20scientist&location=United%20States&start=200',\n",
       " 'https://www.linkedin.com/jobs/search/?f_L=United%20States&geoId=103644278&keywords=data%20scientist&location=United%20States&start=225',\n",
       " 'https://www.linkedin.com/jobs/search/?f_L=United%20States&geoId=103644278&keywords=data%20scientist&location=United%20States&start=250',\n",
       " 'https://www.linkedin.com/jobs/search/?f_L=United%20States&geoId=103644278&keywords=data%20scientist&location=United%20States&start=275',\n",
       " 'https://www.linkedin.com/jobs/search/?f_L=United%20States&geoId=103644278&keywords=data%20scientist&location=United%20States&start=300',\n",
       " 'https://www.linkedin.com/jobs/search/?f_L=United%20States&geoId=103644278&keywords=data%20scientist&location=United%20States&start=325',\n",
       " 'https://www.linkedin.com/jobs/search/?f_L=United%20States&geoId=103644278&keywords=data%20scientist&location=United%20States&start=350',\n",
       " 'https://www.linkedin.com/jobs/search/?f_L=United%20States&geoId=103644278&keywords=data%20scientist&location=United%20States&start=375',\n",
       " 'https://www.linkedin.com/jobs/search/?f_L=United%20States&geoId=103644278&keywords=data%20analyst&location=United%20States&start=0',\n",
       " 'https://www.linkedin.com/jobs/search/?f_L=United%20States&geoId=103644278&keywords=data%20analyst&location=United%20States&start=25',\n",
       " 'https://www.linkedin.com/jobs/search/?f_L=United%20States&geoId=103644278&keywords=data%20analyst&location=United%20States&start=50',\n",
       " 'https://www.linkedin.com/jobs/search/?f_L=United%20States&geoId=103644278&keywords=data%20analyst&location=United%20States&start=75',\n",
       " 'https://www.linkedin.com/jobs/search/?f_L=United%20States&geoId=103644278&keywords=data%20analyst&location=United%20States&start=100',\n",
       " 'https://www.linkedin.com/jobs/search/?f_L=United%20States&geoId=103644278&keywords=data%20analyst&location=United%20States&start=125',\n",
       " 'https://www.linkedin.com/jobs/search/?f_L=United%20States&geoId=103644278&keywords=data%20analyst&location=United%20States&start=150',\n",
       " 'https://www.linkedin.com/jobs/search/?f_L=United%20States&geoId=103644278&keywords=data%20analyst&location=United%20States&start=175',\n",
       " 'https://www.linkedin.com/jobs/search/?f_L=United%20States&geoId=103644278&keywords=data%20analyst&location=United%20States&start=200',\n",
       " 'https://www.linkedin.com/jobs/search/?f_L=United%20States&geoId=103644278&keywords=data%20analyst&location=United%20States&start=225',\n",
       " 'https://www.linkedin.com/jobs/search/?f_L=United%20States&geoId=103644278&keywords=data%20analyst&location=United%20States&start=250',\n",
       " 'https://www.linkedin.com/jobs/search/?f_L=United%20States&geoId=103644278&keywords=data%20analyst&location=United%20States&start=275',\n",
       " 'https://www.linkedin.com/jobs/search/?f_L=United%20States&geoId=103644278&keywords=data%20analyst&location=United%20States&start=300',\n",
       " 'https://www.linkedin.com/jobs/search/?f_L=United%20States&geoId=103644278&keywords=data%20analyst&location=United%20States&start=325',\n",
       " 'https://www.linkedin.com/jobs/search/?f_L=United%20States&geoId=103644278&keywords=data%20analyst&location=United%20States&start=350',\n",
       " 'https://www.linkedin.com/jobs/search/?f_L=United%20States&geoId=103644278&keywords=data%20analyst&location=United%20States&start=375',\n",
       " 'https://www.linkedin.com/jobs/search/?f_L=United%20States&geoId=103644278&keywords=data%20engineer&location=United%20States&start=0',\n",
       " 'https://www.linkedin.com/jobs/search/?f_L=United%20States&geoId=103644278&keywords=data%20engineer&location=United%20States&start=25',\n",
       " 'https://www.linkedin.com/jobs/search/?f_L=United%20States&geoId=103644278&keywords=data%20engineer&location=United%20States&start=50',\n",
       " 'https://www.linkedin.com/jobs/search/?f_L=United%20States&geoId=103644278&keywords=data%20engineer&location=United%20States&start=75',\n",
       " 'https://www.linkedin.com/jobs/search/?f_L=United%20States&geoId=103644278&keywords=data%20engineer&location=United%20States&start=100',\n",
       " 'https://www.linkedin.com/jobs/search/?f_L=United%20States&geoId=103644278&keywords=data%20engineer&location=United%20States&start=125',\n",
       " 'https://www.linkedin.com/jobs/search/?f_L=United%20States&geoId=103644278&keywords=data%20engineer&location=United%20States&start=150',\n",
       " 'https://www.linkedin.com/jobs/search/?f_L=United%20States&geoId=103644278&keywords=data%20engineer&location=United%20States&start=175',\n",
       " 'https://www.linkedin.com/jobs/search/?f_L=United%20States&geoId=103644278&keywords=data%20engineer&location=United%20States&start=200',\n",
       " 'https://www.linkedin.com/jobs/search/?f_L=United%20States&geoId=103644278&keywords=data%20engineer&location=United%20States&start=225',\n",
       " 'https://www.linkedin.com/jobs/search/?f_L=United%20States&geoId=103644278&keywords=data%20engineer&location=United%20States&start=250',\n",
       " 'https://www.linkedin.com/jobs/search/?f_L=United%20States&geoId=103644278&keywords=data%20engineer&location=United%20States&start=275',\n",
       " 'https://www.linkedin.com/jobs/search/?f_L=United%20States&geoId=103644278&keywords=data%20engineer&location=United%20States&start=300',\n",
       " 'https://www.linkedin.com/jobs/search/?f_L=United%20States&geoId=103644278&keywords=data%20engineer&location=United%20States&start=325',\n",
       " 'https://www.linkedin.com/jobs/search/?f_L=United%20States&geoId=103644278&keywords=data%20engineer&location=United%20States&start=350',\n",
       " 'https://www.linkedin.com/jobs/search/?f_L=United%20States&geoId=103644278&keywords=data%20engineer&location=United%20States&start=375',\n",
       " 'https://www.linkedin.com/jobs/search/?f_L=United%20States&geoId=103644278&keywords=machine%20learning%20engineer&location=United%20States&start=0',\n",
       " 'https://www.linkedin.com/jobs/search/?f_L=United%20States&geoId=103644278&keywords=machine%20learning%20engineer&location=United%20States&start=25',\n",
       " 'https://www.linkedin.com/jobs/search/?f_L=United%20States&geoId=103644278&keywords=machine%20learning%20engineer&location=United%20States&start=50',\n",
       " 'https://www.linkedin.com/jobs/search/?f_L=United%20States&geoId=103644278&keywords=machine%20learning%20engineer&location=United%20States&start=75',\n",
       " 'https://www.linkedin.com/jobs/search/?f_L=United%20States&geoId=103644278&keywords=machine%20learning%20engineer&location=United%20States&start=100',\n",
       " 'https://www.linkedin.com/jobs/search/?f_L=United%20States&geoId=103644278&keywords=machine%20learning%20engineer&location=United%20States&start=125',\n",
       " 'https://www.linkedin.com/jobs/search/?f_L=United%20States&geoId=103644278&keywords=machine%20learning%20engineer&location=United%20States&start=150',\n",
       " 'https://www.linkedin.com/jobs/search/?f_L=United%20States&geoId=103644278&keywords=machine%20learning%20engineer&location=United%20States&start=175',\n",
       " 'https://www.linkedin.com/jobs/search/?f_L=United%20States&geoId=103644278&keywords=machine%20learning%20engineer&location=United%20States&start=200',\n",
       " 'https://www.linkedin.com/jobs/search/?f_L=United%20States&geoId=103644278&keywords=machine%20learning%20engineer&location=United%20States&start=225',\n",
       " 'https://www.linkedin.com/jobs/search/?f_L=United%20States&geoId=103644278&keywords=machine%20learning%20engineer&location=United%20States&start=250',\n",
       " 'https://www.linkedin.com/jobs/search/?f_L=United%20States&geoId=103644278&keywords=machine%20learning%20engineer&location=United%20States&start=275',\n",
       " 'https://www.linkedin.com/jobs/search/?f_L=United%20States&geoId=103644278&keywords=machine%20learning%20engineer&location=United%20States&start=300',\n",
       " 'https://www.linkedin.com/jobs/search/?f_L=United%20States&geoId=103644278&keywords=machine%20learning%20engineer&location=United%20States&start=325',\n",
       " 'https://www.linkedin.com/jobs/search/?f_L=United%20States&geoId=103644278&keywords=machine%20learning%20engineer&location=United%20States&start=350',\n",
       " 'https://www.linkedin.com/jobs/search/?f_L=United%20States&geoId=103644278&keywords=machine%20learning%20engineer&location=United%20States&start=375']"
      ]
     },
     "execution_count": 2,
     "metadata": {},
     "output_type": "execute_result"
    }
   ],
   "source": [
    "urls = get_job_urls()\n",
    "urls"
   ]
  }
 ],
 "metadata": {
  "kernelspec": {
   "display_name": "Python 3",
   "language": "python",
   "name": "python3"
  },
  "language_info": {
   "codemirror_mode": {
    "name": "ipython",
    "version": 3
   },
   "file_extension": ".py",
   "mimetype": "text/x-python",
   "name": "python",
   "nbconvert_exporter": "python",
   "pygments_lexer": "ipython3",
   "version": "3.7.6"
  }
 },
 "nbformat": 4,
 "nbformat_minor": 4
}
