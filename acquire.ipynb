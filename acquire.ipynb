{
 "cells": [
  {
   "cell_type": "code",
   "execution_count": 1,
   "metadata": {},
   "outputs": [],
   "source": [
    "import numpy as np\n",
    "import pandas as pd\n",
    "from datetime import datetime\n",
    "from requests import get\n",
    "from bs4 import BeautifulSoup\n",
    "from time import sleep\n",
    "import os\n",
    "\n",
    "from acquire0 import make_soup, get_search_urls, get_all_cards, get_job_content"
   ]
  },
  {
   "cell_type": "markdown",
   "metadata": {},
   "source": [
    "### Making sure my initial functions are running properly"
   ]
  },
  {
   "cell_type": "code",
   "execution_count": 2,
   "metadata": {},
   "outputs": [],
   "source": [
    "# using the first page of a 'data scientist' search to test function\n",
    "soup = make_soup('https://www.indeed.com/jobs?q=data scientist&l=United+States&start=0')"
   ]
  },
  {
   "cell_type": "code",
   "execution_count": 3,
   "metadata": {},
   "outputs": [
    {
     "data": {
      "text/plain": [
       "\"\\n\\n\\n\\n\\n\\n\\n\\n\\n\\nif (typeof window['closureReadyCallbacks'] == 'undefined') {\\nwindow['closureReadyCallbacks\""
      ]
     },
     "execution_count": 3,
     "metadata": {},
     "output_type": "execute_result"
    }
   ],
   "source": [
    "# soup works\n",
    "soup.text[:100]"
   ]
  },
  {
   "cell_type": "code",
   "execution_count": 4,
   "metadata": {},
   "outputs": [],
   "source": [
    "# running to get my list of urls for 15 pages of each job label\n",
    "# urls = get_search_urls()\n",
    "# urls"
   ]
  },
  {
   "cell_type": "code",
   "execution_count": 5,
   "metadata": {},
   "outputs": [],
   "source": [
    "# should be 60 urls\n",
    "# len(urls)"
   ]
  },
  {
   "cell_type": "code",
   "execution_count": 6,
   "metadata": {},
   "outputs": [],
   "source": [
    "# complete list of urls for each job within the search results\n",
    "# job_urls = get_all_cards(urls)\n",
    "# job_urls"
   ]
  },
  {
   "cell_type": "code",
   "execution_count": 7,
   "metadata": {},
   "outputs": [],
   "source": [
    "# number of job urls\n",
    "# len(job_urls)"
   ]
  },
  {
   "cell_type": "code",
   "execution_count": 8,
   "metadata": {},
   "outputs": [],
   "source": [
    "# save job_urls list to txt file locally\n",
    "import pickle\n",
    "\n",
    "# with open(\"job_urls.txt\", \"wb\") as fp: #Pickling\n",
    "#    pickle.dump(job_urls, fp)"
   ]
  },
  {
   "cell_type": "markdown",
   "metadata": {},
   "source": [
    "### All code has been executed to obtain Job URLs\n",
    "\n",
    "Now everytime I rerun my notebook my local file of urls (904) will return for my use."
   ]
  },
  {
   "cell_type": "code",
   "execution_count": 9,
   "metadata": {},
   "outputs": [],
   "source": [
    "# reread the txt file as a list\n",
    "with open(\"job_urls.txt\", \"rb\") as fp: # Unpickling\n",
    "    job_urls = pickle.load(fp)"
   ]
  },
  {
   "cell_type": "markdown",
   "metadata": {},
   "source": [
    "### Using one url to test my function calls within my py script for my desired variables"
   ]
  },
  {
   "cell_type": "code",
   "execution_count": 10,
   "metadata": {},
   "outputs": [
    {
     "data": {
      "text/plain": [
       "904"
      ]
     },
     "execution_count": 10,
     "metadata": {},
     "output_type": "execute_result"
    }
   ],
   "source": [
    "len(job_urls)"
   ]
  },
  {
   "cell_type": "code",
   "execution_count": 11,
   "metadata": {},
   "outputs": [
    {
     "data": {
      "text/plain": [
       "'https://www.indeed.com/company/Altak-Group/jobs/Data-Scientist-633bb4ca68229c25?fccid=8220da6fca2ce647&vjs=3'"
      ]
     },
     "execution_count": 11,
     "metadata": {},
     "output_type": "execute_result"
    }
   ],
   "source": [
    "job_urls[149]"
   ]
  },
  {
   "cell_type": "code",
   "execution_count": 12,
   "metadata": {},
   "outputs": [
    {
     "data": {
      "text/plain": [
       "'https://www.indeed.com/company/Altak-Group/jobs/Data-Scientist-633bb4ca68229c25?fccid=8220da6fca2ce647&vjs=3'"
      ]
     },
     "execution_count": 12,
     "metadata": {},
     "output_type": "execute_result"
    }
   ],
   "source": [
    "url = job_urls[149]\n",
    "url"
   ]
  },
  {
   "cell_type": "code",
   "execution_count": 13,
   "metadata": {},
   "outputs": [],
   "source": [
    "soup = make_soup('https://www.indeed.com/viewjob?cmp=Altak-Group&t=Data+Scientist&jk=633bb4ca68229c25&vjs=3')"
   ]
  },
  {
   "cell_type": "markdown",
   "metadata": {},
   "source": [
    "**NOTE: captcha caught me scrapping, going to try and randomly generate user-agents and delay times**"
   ]
  },
  {
   "cell_type": "code",
   "execution_count": 14,
   "metadata": {},
   "outputs": [],
   "source": [
    "#soup.text"
   ]
  },
  {
   "cell_type": "code",
   "execution_count": 15,
   "metadata": {},
   "outputs": [
    {
     "data": {
      "text/plain": [
       "'Data Scientist'"
      ]
     },
     "execution_count": 15,
     "metadata": {},
     "output_type": "execute_result"
    }
   ],
   "source": [
    "job_title = soup.find('h1', 'icl-u-xs-mb--xs icl-u-xs-mt--none jobsearch-JobInfoHeader-title').text\n",
    "job_title"
   ]
  },
  {
   "cell_type": "code",
   "execution_count": 16,
   "metadata": {},
   "outputs": [
    {
     "data": {
      "text/plain": [
       "'Altak Group'"
      ]
     },
     "execution_count": 16,
     "metadata": {},
     "output_type": "execute_result"
    }
   ],
   "source": [
    "company = soup.find('div', 'icl-u-lg-mr--sm icl-u-xs-mr--xs').text.strip()\n",
    "company"
   ]
  },
  {
   "cell_type": "code",
   "execution_count": 17,
   "metadata": {},
   "outputs": [
    {
     "data": {
      "text/plain": [
       "'Washington, DC'"
      ]
     },
     "execution_count": 17,
     "metadata": {},
     "output_type": "execute_result"
    }
   ],
   "source": [
    "location = soup.find('div', 'icl-u-xs-mt--xs icl-u-textColor--secondary jobsearch-JobInfoHeader-subtitle jobsearch-DesktopStickyContainer-subtitle').contents[1].text\n",
    "location"
   ]
  },
  {
   "cell_type": "code",
   "execution_count": 18,
   "metadata": {},
   "outputs": [
    {
     "data": {
      "text/plain": [
       "1"
      ]
     },
     "execution_count": 18,
     "metadata": {},
     "output_type": "execute_result"
    }
   ],
   "source": [
    "try:\n",
    "    if soup.find('div', 'icl-u-xs-mt--xs icl-u-textColor--secondary jobsearch-JobInfoHeader-subtitle jobsearch-DesktopStickyContainer-subtitle').contents[2].text != None:\n",
    "        remote = 1\n",
    "except IndexError:\n",
    "    remote = 0\n",
    "remote"
   ]
  },
  {
   "cell_type": "code",
   "execution_count": 19,
   "metadata": {},
   "outputs": [
    {
     "data": {
      "text/plain": [
       "'$60 - $72 an hour'"
      ]
     },
     "execution_count": 19,
     "metadata": {},
     "output_type": "execute_result"
    }
   ],
   "source": [
    "try:\n",
    "    salary = soup.find('span', 'icl-u-xs-mr--xs').text\n",
    "except AttributeError:\n",
    "    salary = ''\n",
    "salary"
   ]
  },
  {
   "cell_type": "code",
   "execution_count": 20,
   "metadata": {},
   "outputs": [
    {
     "data": {
      "text/plain": [
       "'9 days ago'"
      ]
     },
     "execution_count": 20,
     "metadata": {},
     "output_type": "execute_result"
    }
   ],
   "source": [
    "try:\n",
    "    if (soup.find('div', 'jobsearch-JobMetadataFooter').contents[1].text)[0].isdigit():\n",
    "        post_date = soup.find('div', 'jobsearch-JobMetadataFooter').contents[1].text\n",
    "    elif (soup.find('div', 'jobsearch-JobMetadataFooter').contents[0].text)[0].isdigit():\n",
    "        post_date = soup.find('div', 'jobsearch-JobMetadataFooter').contents[0].text\n",
    "except AttributeError:\n",
    "    post_date = ''\n",
    "post_date"
   ]
  },
  {
   "cell_type": "code",
   "execution_count": 21,
   "metadata": {},
   "outputs": [
    {
     "data": {
      "text/plain": [
       "'2021-03-03'"
      ]
     },
     "execution_count": 21,
     "metadata": {},
     "output_type": "execute_result"
    }
   ],
   "source": [
    "today = datetime.today().strftime('%Y-%m-%d')\n",
    "today"
   ]
  },
  {
   "cell_type": "code",
   "execution_count": 22,
   "metadata": {},
   "outputs": [
    {
     "data": {
      "text/plain": [
       "\"We are looking for a Data Scientist to analyze large amounts of raw information to find patterns that will help improve our company. We will rely on you to build data products to extract valuable business insights. In this role, you should be highly analytical with a knack for analysis, math and statistics. Critical thinking and problem-solving skills are essential for interpreting data. We want to see a passion for machine-learning and research. Your goal will be to help our company analyze trends to make better decisions.ResponsibilitiesIdentify valuable data sources and automate collection processesUndertake preprocessing of structured and unstructured dataAnalyze large amounts of information to discover trends and patternsBuild predictive models and machine-learning algorithmsCombine models through ensemble modelingPresent information using data visualization techniquesPropose solutions and strategies to business challengesCollaborate with engineering and product development teamsSkillsProven experience as a Data ScientistExperience in data miningUnderstanding of machine-learning and operations researchKnowledge of R, SQL and Python; familiarity with Scala, Java or C++ is an assetExperience using business intelligence tools (e.g. Tableau) and data frameworks (e.g. Hadoop)Analytical mind and business acumenStrong math skills (e.g. statistics, algebra)Problem-solving aptitudeExcellent communication and presentation skillsBSc/BA in Computer Science, Engineering or relevant field; graduate degree in Data Science or other quantitative field is preferredJob Types: Full-time, ContractPay: $60.00 - $72.00 per hourSchedule:8 hour shiftMonday to FridayEducation:Bachelor's (Preferred)Experience:Machine Learning: 5 years (Preferred)Python: 5 years (Preferred)Data science: 5 years (Preferred)Contract Length:1 yearContract Renewal:LikelyFull Time Opportunity:YesWork Location:One locationWork Remotely:Temporarily due to COVID-19COVID-19 Precaution(s):Remote interview processSocial distancing guidelines in place\""
      ]
     },
     "execution_count": 22,
     "metadata": {},
     "output_type": "execute_result"
    }
   ],
   "source": [
    "job_description = soup.find('div', {'id':'jobDescriptionText', 'class':'jobsearch-jobDescriptionText'}).text.strip().replace('\\n', ' ')\n",
    "job_description"
   ]
  },
  {
   "cell_type": "markdown",
   "metadata": {},
   "source": [
    "---\n",
    "### Quality Assurance/Control\n",
    "removed a url that was acting a bit weird"
   ]
  },
  {
   "cell_type": "code",
   "execution_count": 23,
   "metadata": {},
   "outputs": [
    {
     "data": {
      "text/plain": [
       "'https://www.indeed.com/rc/clk?jk=d93a0f04d8a1d7a3&fccid=d6ef41e202aa2c0b&vjs=3'"
      ]
     },
     "execution_count": 23,
     "metadata": {},
     "output_type": "execute_result"
    }
   ],
   "source": [
    "job_urls[2]"
   ]
  },
  {
   "cell_type": "code",
   "execution_count": 24,
   "metadata": {},
   "outputs": [],
   "source": [
    "job_urls.remove('https://www.indeed.com/rc/clk?jk=d93a0f04d8a1d7a3&fccid=d6ef41e202aa2c0b&vjs=3') "
   ]
  },
  {
   "cell_type": "code",
   "execution_count": 25,
   "metadata": {},
   "outputs": [
    {
     "data": {
      "text/plain": [
       "903"
      ]
     },
     "execution_count": 25,
     "metadata": {},
     "output_type": "execute_result"
    }
   ],
   "source": [
    "len(job_urls)"
   ]
  },
  {
   "cell_type": "markdown",
   "metadata": {},
   "source": [
    "**NOTE: captcha caught me scrapping, going to try and randomly generate user-agents and delay times**"
   ]
  },
  {
   "cell_type": "code",
   "execution_count": 26,
   "metadata": {},
   "outputs": [
    {
     "name": "stdout",
     "output_type": "stream",
     "text": [
      "wUMXQkXG3m\n"
     ]
    }
   ],
   "source": [
    "import random\n",
    "import string\n",
    " \n",
    "output_string = ''.join(random.SystemRandom().choice(string.ascii_letters + string.digits) for _ in range(10))\n",
    " \n",
    "print(output_string)"
   ]
  },
  {
   "cell_type": "code",
   "execution_count": 27,
   "metadata": {},
   "outputs": [
    {
     "name": "stdout",
     "output_type": "stream",
     "text": [
      "5\n"
     ]
    }
   ],
   "source": [
    "import random\n",
    "print(random.randint(1,9))"
   ]
  },
  {
   "cell_type": "markdown",
   "metadata": {},
   "source": [
    "---\n",
    "## Testing My Final Function \n",
    "to get a dataframe with all Variables"
   ]
  },
  {
   "cell_type": "code",
   "execution_count": 28,
   "metadata": {},
   "outputs": [
    {
     "name": "stdout",
     "output_type": "stream",
     "text": [
      "Loop number 1\n",
      "Loop number 2\n",
      "Loop number 3\n",
      "Loop number 4\n",
      "Loop number 5\n",
      "Loop number 6\n",
      "Loop number 7\n",
      "Loop number 8\n",
      "Loop number 9\n",
      "Loop number 10\n",
      "Loop number 11\n",
      "Loop number 12\n",
      "Loop number 13\n",
      "Loop number 14\n",
      "Loop number 15\n",
      "Loop number 16\n",
      "Loop number 17\n",
      "Loop number 18\n",
      "Loop number 19\n",
      "Loop number 20\n",
      "Loop number 21\n",
      "Loop number 22\n",
      "Loop number 23\n",
      "Loop number 24\n",
      "Loop number 25\n",
      "Loop number 26\n",
      "Loop number 27\n",
      "Loop number 28\n",
      "Loop number 29\n",
      "Loop number 30\n",
      "Loop number 31\n",
      "Loop number 32\n",
      "Loop number 33\n",
      "Loop number 34\n",
      "Loop number 35\n",
      "Loop number 36\n",
      "Loop number 37\n",
      "Loop number 38\n",
      "Loop number 39\n",
      "Loop number 40\n",
      "Loop number 41\n",
      "Loop number 42\n",
      "Loop number 43\n",
      "Loop number 44\n",
      "Loop number 45\n",
      "Loop number 46\n",
      "Loop number 47\n",
      "Loop number 48\n",
      "Loop number 49\n",
      "Loop number 50\n",
      "Loop number 51\n",
      "Loop number 52\n",
      "Loop number 53\n",
      "Loop number 54\n",
      "Loop number 55\n",
      "Loop number 56\n",
      "Loop number 57\n",
      "Loop number 58\n",
      "Loop number 59\n",
      "Loop number 60\n",
      "Loop number 61\n",
      "Loop number 62\n",
      "Loop number 63\n",
      "Loop number 64\n",
      "Loop number 65\n",
      "Loop number 66\n",
      "Loop number 67\n",
      "Loop number 68\n",
      "Loop number 69\n",
      "Loop number 70\n",
      "Loop number 71\n",
      "Loop number 72\n",
      "Loop number 73\n",
      "Loop number 74\n",
      "Loop number 75\n",
      "Loop number 76\n",
      "Loop number 77\n",
      "Loop number 78\n",
      "Loop number 79\n",
      "Loop number 80\n",
      "Loop number 81\n",
      "Loop number 82\n",
      "Loop number 83\n",
      "Loop number 84\n",
      "Loop number 85\n",
      "Loop number 86\n",
      "Loop number 87\n",
      "Loop number 88\n",
      "Loop number 89\n",
      "Loop number 90\n",
      "Loop number 91\n",
      "Loop number 92\n",
      "Loop number 93\n",
      "Loop number 94\n",
      "Loop number 95\n",
      "Loop number 96\n",
      "Loop number 97\n",
      "Loop number 98\n",
      "Loop number 99\n",
      "Loop number 100\n",
      "Loop number 101\n",
      "Loop number 102\n",
      "Loop number 103\n",
      "Loop number 104\n",
      "Loop number 105\n",
      "Loop number 106\n",
      "Loop number 107\n",
      "Loop number 108\n",
      "Loop number 109\n",
      "Loop number 110\n",
      "Loop number 111\n",
      "Loop number 112\n",
      "Loop number 113\n",
      "Loop number 114\n",
      "Loop number 115\n",
      "Loop number 116\n",
      "Loop number 117\n",
      "Loop number 118\n",
      "Loop number 119\n",
      "Loop number 120\n",
      "Loop number 121\n",
      "Loop number 122\n",
      "Loop number 123\n",
      "Loop number 124\n",
      "Loop number 125\n",
      "Loop number 126\n",
      "Loop number 127\n",
      "Loop number 128\n",
      "Loop number 129\n",
      "Loop number 130\n",
      "Loop number 131\n",
      "Loop number 132\n",
      "Loop number 133\n",
      "Loop number 134\n",
      "Loop number 135\n",
      "Loop number 136\n",
      "Loop number 137\n",
      "Loop number 138\n",
      "Loop number 139\n",
      "Loop number 140\n",
      "Loop number 141\n",
      "Loop number 142\n",
      "Loop number 143\n",
      "Loop number 144\n",
      "Loop number 145\n",
      "Loop number 146\n",
      "Loop number 147\n",
      "Loop number 148\n",
      "Loop number 149\n",
      "Loop number 150\n",
      "Loop number 151\n",
      "Loop number 152\n",
      "Loop number 153\n",
      "Loop number 154\n",
      "Loop number 155\n",
      "Loop number 156\n",
      "Loop number 157\n",
      "Loop number 158\n",
      "Loop number 159\n",
      "Loop number 160\n",
      "Loop number 161\n",
      "Loop number 162\n",
      "Loop number 163\n",
      "Loop number 164\n",
      "Loop number 165\n",
      "Loop number 166\n",
      "Loop number 167\n",
      "Loop number 168\n",
      "Loop number 169\n",
      "Loop number 170\n",
      "Loop number 171\n",
      "Loop number 172\n",
      "Loop number 173\n",
      "Loop number 174\n",
      "Loop number 175\n",
      "Loop number 176\n",
      "Loop number 177\n",
      "Loop number 178\n",
      "Loop number 179\n",
      "Loop number 180\n",
      "Loop number 181\n",
      "Loop number 182\n",
      "Loop number 183\n",
      "Loop number 184\n",
      "Loop number 185\n",
      "Loop number 186\n",
      "Loop number 187\n",
      "Loop number 188\n",
      "Loop number 189\n",
      "Loop number 190\n",
      "Loop number 191\n",
      "Loop number 192\n",
      "Loop number 193\n",
      "Loop number 194\n",
      "Loop number 195\n",
      "Loop number 196\n",
      "Loop number 197\n",
      "Loop number 198\n",
      "Loop number 199\n",
      "Loop number 200\n",
      "Loop number 201\n",
      "Loop number 202\n",
      "Loop number 203\n",
      "Loop number 204\n",
      "Loop number 205\n",
      "Loop number 206\n",
      "Loop number 207\n",
      "Loop number 208\n",
      "Loop number 209\n",
      "Loop number 210\n",
      "Loop number 211\n",
      "Loop number 212\n",
      "Loop number 213\n",
      "Loop number 214\n",
      "Loop number 215\n",
      "Loop number 216\n",
      "Loop number 217\n",
      "Loop number 218\n",
      "Loop number 219\n",
      "Loop number 220\n",
      "Loop number 221\n",
      "Loop number 222\n",
      "Loop number 223\n",
      "Loop number 224\n",
      "Loop number 225\n",
      "Loop number 226\n",
      "Loop number 227\n",
      "Loop number 228\n",
      "Loop number 229\n",
      "Loop number 230\n",
      "Loop number 231\n",
      "Loop number 232\n",
      "Loop number 233\n",
      "Loop number 234\n",
      "Loop number 235\n",
      "Loop number 236\n",
      "Loop number 237\n",
      "Loop number 238\n",
      "Loop number 239\n",
      "Loop number 240\n",
      "Loop number 241\n",
      "Loop number 242\n",
      "Loop number 243\n",
      "Loop number 244\n",
      "Loop number 245\n",
      "Loop number 246\n",
      "Loop number 247\n",
      "Loop number 248\n",
      "Loop number 249\n",
      "Loop number 250\n",
      "Loop number 251\n",
      "Loop number 252\n",
      "Loop number 253\n",
      "Loop number 254\n",
      "Loop number 255\n",
      "Loop number 256\n",
      "Loop number 257\n",
      "Loop number 258\n",
      "Loop number 259\n",
      "Loop number 260\n",
      "Loop number 261\n",
      "Loop number 262\n",
      "Loop number 263\n",
      "Loop number 264\n",
      "Loop number 265\n",
      "Loop number 266\n",
      "Loop number 267\n",
      "Loop number 268\n",
      "Loop number 269\n",
      "Loop number 270\n",
      "Loop number 271\n",
      "Loop number 272\n",
      "Loop number 273\n",
      "Loop number 274\n",
      "Loop number 275\n",
      "Loop number 276\n",
      "Loop number 277\n",
      "Loop number 278\n",
      "Loop number 279\n",
      "Loop number 280\n",
      "Loop number 281\n",
      "Loop number 282\n",
      "Loop number 283\n",
      "Loop number 284\n",
      "Loop number 285\n",
      "Loop number 286\n",
      "Loop number 287\n",
      "Loop number 288\n",
      "Loop number 289\n",
      "Loop number 290\n",
      "Loop number 291\n",
      "Loop number 292\n",
      "Loop number 293\n",
      "Loop number 294\n",
      "Loop number 295\n",
      "Loop number 296\n",
      "Loop number 297\n",
      "Loop number 298\n",
      "Loop number 299\n",
      "Loop number 300\n",
      "Loop number 301\n",
      "Loop number 302\n",
      "Loop number 303\n",
      "Loop number 304\n",
      "Loop number 305\n",
      "Loop number 306\n",
      "Loop number 307\n",
      "Loop number 308\n",
      "Loop number 309\n",
      "Loop number 310\n",
      "Loop number 311\n",
      "Loop number 312\n",
      "Loop number 313\n",
      "Loop number 314\n",
      "Loop number 315\n",
      "Loop number 316\n",
      "Loop number 317\n",
      "Loop number 318\n",
      "Loop number 319\n",
      "Loop number 320\n",
      "Loop number 321\n",
      "Loop number 322\n",
      "Loop number 323\n",
      "Loop number 324\n",
      "Loop number 325\n",
      "Loop number 326\n",
      "Loop number 327\n",
      "Loop number 328\n",
      "Loop number 329\n",
      "Loop number 330\n",
      "Loop number 331\n",
      "Loop number 332\n",
      "Loop number 333\n",
      "Loop number 334\n",
      "Loop number 335\n",
      "Loop number 336\n",
      "Loop number 337\n",
      "Loop number 338\n",
      "Loop number 339\n",
      "Loop number 340\n",
      "Loop number 341\n",
      "Loop number 342\n",
      "Loop number 343\n",
      "Loop number 344\n",
      "Loop number 345\n",
      "Loop number 346\n",
      "Loop number 347\n",
      "Loop number 348\n",
      "Loop number 349\n",
      "Loop number 350\n",
      "Loop number 351\n",
      "Loop number 352\n",
      "Loop number 353\n",
      "Loop number 354\n",
      "Loop number 355\n",
      "Loop number 356\n",
      "Loop number 357\n",
      "Loop number 358\n",
      "Loop number 359\n",
      "Loop number 360\n",
      "Loop number 361\n",
      "Loop number 362\n",
      "Loop number 363\n",
      "Loop number 364\n",
      "Loop number 365\n",
      "Loop number 366\n",
      "Loop number 367\n",
      "Loop number 368\n",
      "Loop number 369\n",
      "Loop number 370\n",
      "Loop number 371\n",
      "Loop number 372\n",
      "Loop number 373\n",
      "Loop number 374\n",
      "Loop number 375\n",
      "Loop number 376\n",
      "Loop number 377\n",
      "Loop number 378\n",
      "Loop number 379\n",
      "Loop number 380\n",
      "Loop number 381\n",
      "Loop number 382\n",
      "Loop number 383\n",
      "Loop number 384\n",
      "Loop number 385\n",
      "Loop number 386\n",
      "Loop number 387\n",
      "Loop number 388\n",
      "Loop number 389\n",
      "Loop number 390\n",
      "Loop number 391\n",
      "Loop number 392\n",
      "Loop number 393\n",
      "Loop number 394\n",
      "Loop number 395\n",
      "Loop number 396\n",
      "Loop number 397\n",
      "Loop number 398\n",
      "Loop number 399\n",
      "Loop number 400\n",
      "Loop number 401\n",
      "Loop number 402\n",
      "Loop number 403\n",
      "Loop number 404\n",
      "Loop number 405\n",
      "Loop number 406\n",
      "Loop number 407\n",
      "Loop number 408\n",
      "Loop number 409\n",
      "Loop number 410\n",
      "Loop number 411\n",
      "Loop number 412\n",
      "Loop number 413\n",
      "Loop number 414\n",
      "Loop number 415\n",
      "Loop number 416\n",
      "Loop number 417\n",
      "Loop number 418\n",
      "Loop number 419\n",
      "Loop number 420\n",
      "Loop number 421\n",
      "Loop number 422\n",
      "Loop number 423\n",
      "Loop number 424\n",
      "Loop number 425\n",
      "Loop number 426\n",
      "Loop number 427\n",
      "Loop number 428\n",
      "Loop number 429\n",
      "Loop number 430\n",
      "Loop number 431\n",
      "Loop number 432\n",
      "Loop number 433\n",
      "Loop number 434\n",
      "Loop number 435\n",
      "Loop number 436\n",
      "Loop number 437\n",
      "Loop number 438\n",
      "Loop number 439\n",
      "Loop number 440\n",
      "Loop number 441\n",
      "Loop number 442\n",
      "Loop number 443\n",
      "Loop number 444\n",
      "Loop number 445\n",
      "Loop number 446\n",
      "Loop number 447\n",
      "Loop number 448\n",
      "Loop number 449\n",
      "Loop number 450\n",
      "Loop number 451\n",
      "Loop number 452\n",
      "Loop number 453\n",
      "Loop number 454\n",
      "Loop number 455\n",
      "Loop number 456\n",
      "Loop number 457\n",
      "Loop number 458\n",
      "Loop number 459\n",
      "Loop number 460\n",
      "Loop number 461\n",
      "Loop number 462\n",
      "Loop number 463\n",
      "Loop number 464\n",
      "Loop number 465\n"
     ]
    },
    {
     "ename": "AttributeError",
     "evalue": "'NoneType' object has no attribute 'contents'",
     "output_type": "error",
     "traceback": [
      "\u001b[0;31m---------------------------------------------------------------------------\u001b[0m",
      "\u001b[0;31mAttributeError\u001b[0m                            Traceback (most recent call last)",
      "\u001b[0;32m<ipython-input-28-3dbd6f6dee6f>\u001b[0m in \u001b[0;36m<module>\u001b[0;34m\u001b[0m\n\u001b[0;32m----> 1\u001b[0;31m \u001b[0mdf\u001b[0m \u001b[0;34m=\u001b[0m \u001b[0mget_job_content\u001b[0m\u001b[0;34m(\u001b[0m\u001b[0mjob_urls\u001b[0m\u001b[0;34m)\u001b[0m\u001b[0;34m\u001b[0m\u001b[0;34m\u001b[0m\u001b[0m\n\u001b[0m\u001b[1;32m      2\u001b[0m \u001b[0mdf\u001b[0m\u001b[0;34m.\u001b[0m\u001b[0mhead\u001b[0m\u001b[0;34m(\u001b[0m\u001b[0;34m)\u001b[0m\u001b[0;34m\u001b[0m\u001b[0;34m\u001b[0m\u001b[0m\n",
      "\u001b[0;32m~/data-science-projects/nlp-data-job-classifier/acquire0.py\u001b[0m in \u001b[0;36mget_job_content\u001b[0;34m(urls, cached)\u001b[0m\n\u001b[1;32m    127\u001b[0m             \u001b[0;31m# is the position remote\u001b[0m\u001b[0;34m\u001b[0m\u001b[0;34m\u001b[0m\u001b[0;34m\u001b[0m\u001b[0m\n\u001b[1;32m    128\u001b[0m             \u001b[0;32mtry\u001b[0m\u001b[0;34m:\u001b[0m\u001b[0;34m\u001b[0m\u001b[0;34m\u001b[0m\u001b[0m\n\u001b[0;32m--> 129\u001b[0;31m                 \u001b[0;32mif\u001b[0m \u001b[0msoup\u001b[0m\u001b[0;34m.\u001b[0m\u001b[0mfind\u001b[0m\u001b[0;34m(\u001b[0m\u001b[0;34m'div'\u001b[0m\u001b[0;34m,\u001b[0m \u001b[0;34m'icl-u-xs-mt--xs icl-u-textColor--secondary jobsearch-JobInfoHeader-subtitle jobsearch-DesktopStickyContainer-subtitle'\u001b[0m\u001b[0;34m)\u001b[0m\u001b[0;34m.\u001b[0m\u001b[0mcontents\u001b[0m\u001b[0;34m[\u001b[0m\u001b[0;36m2\u001b[0m\u001b[0;34m]\u001b[0m\u001b[0;34m.\u001b[0m\u001b[0mtext\u001b[0m \u001b[0;34m!=\u001b[0m \u001b[0;32mNone\u001b[0m\u001b[0;34m:\u001b[0m\u001b[0;34m\u001b[0m\u001b[0;34m\u001b[0m\u001b[0m\n\u001b[0m\u001b[1;32m    130\u001b[0m                     \u001b[0mremote\u001b[0m \u001b[0;34m=\u001b[0m \u001b[0;36m1\u001b[0m\u001b[0;34m\u001b[0m\u001b[0;34m\u001b[0m\u001b[0m\n\u001b[1;32m    131\u001b[0m             \u001b[0;32mexcept\u001b[0m \u001b[0mIndexError\u001b[0m\u001b[0;34m:\u001b[0m\u001b[0;34m\u001b[0m\u001b[0;34m\u001b[0m\u001b[0m\n",
      "\u001b[0;31mAttributeError\u001b[0m: 'NoneType' object has no attribute 'contents'"
     ]
    }
   ],
   "source": [
    "df = get_job_content(job_urls)\n",
    "df.head()"
   ]
  },
  {
   "cell_type": "code",
   "execution_count": null,
   "metadata": {},
   "outputs": [],
   "source": [
    "df.shape"
   ]
  },
  {
   "cell_type": "code",
   "execution_count": null,
   "metadata": {},
   "outputs": [],
   "source": [
    "df.to_json('indeed-data-jobs.json')"
   ]
  },
  {
   "cell_type": "code",
   "execution_count": 29,
   "metadata": {},
   "outputs": [
    {
     "data": {
      "text/plain": [
       "'https://www.indeed.com/rc/clk?jk=25dcfebdfd9a542f&fccid=fc68da685e8aa986&vjs=3'"
      ]
     },
     "execution_count": 29,
     "metadata": {},
     "output_type": "execute_result"
    }
   ],
   "source": [
    "job_urls[466]"
   ]
  },
  {
   "cell_type": "code",
   "execution_count": null,
   "metadata": {},
   "outputs": [],
   "source": []
  }
 ],
 "metadata": {
  "kernelspec": {
   "display_name": "Python 3",
   "language": "python",
   "name": "python3"
  },
  "language_info": {
   "codemirror_mode": {
    "name": "ipython",
    "version": 3
   },
   "file_extension": ".py",
   "mimetype": "text/x-python",
   "name": "python",
   "nbconvert_exporter": "python",
   "pygments_lexer": "ipython3",
   "version": "3.7.6"
  }
 },
 "nbformat": 4,
 "nbformat_minor": 4
}
