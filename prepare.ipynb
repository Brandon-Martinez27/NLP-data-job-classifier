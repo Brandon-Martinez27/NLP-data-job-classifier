{
 "cells": [
  {
   "cell_type": "code",
   "execution_count": 43,
   "metadata": {},
   "outputs": [],
   "source": [
    "import pandas as pd\n",
    "import numpy as np"
   ]
  },
  {
   "cell_type": "code",
   "execution_count": 44,
   "metadata": {},
   "outputs": [
    {
     "data": {
      "text/html": [
       "<div>\n",
       "<style scoped>\n",
       "    .dataframe tbody tr th:only-of-type {\n",
       "        vertical-align: middle;\n",
       "    }\n",
       "\n",
       "    .dataframe tbody tr th {\n",
       "        vertical-align: top;\n",
       "    }\n",
       "\n",
       "    .dataframe thead th {\n",
       "        text-align: right;\n",
       "    }\n",
       "</style>\n",
       "<table border=\"1\" class=\"dataframe\">\n",
       "  <thead>\n",
       "    <tr style=\"text-align: right;\">\n",
       "      <th></th>\n",
       "      <th>job_title</th>\n",
       "      <th>company</th>\n",
       "      <th>location</th>\n",
       "      <th>is_remote</th>\n",
       "      <th>salary</th>\n",
       "      <th>post_date</th>\n",
       "      <th>date_accessed</th>\n",
       "      <th>job_description</th>\n",
       "    </tr>\n",
       "  </thead>\n",
       "  <tbody>\n",
       "    <tr>\n",
       "      <th>199</th>\n",
       "      <td>Associate Data Scientist</td>\n",
       "      <td>Beacon Street Services</td>\n",
       "      <td>Baltimore, MD 21201</td>\n",
       "      <td>0</td>\n",
       "      <td></td>\n",
       "      <td>15 days ago</td>\n",
       "      <td>2021-03-05</td>\n",
       "      <td>Overview: Beacon Street Services is hiring an ...</td>\n",
       "    </tr>\n",
       "    <tr>\n",
       "      <th>604</th>\n",
       "      <td>Data Engineer</td>\n",
       "      <td>Compass</td>\n",
       "      <td>Seattle, WA 98104</td>\n",
       "      <td>0</td>\n",
       "      <td></td>\n",
       "      <td>7 days ago</td>\n",
       "      <td>2021-03-05</td>\n",
       "      <td>At Compass, we envision a world where the expe...</td>\n",
       "    </tr>\n",
       "    <tr>\n",
       "      <th>771</th>\n",
       "      <td>Machine Learning Scientists I</td>\n",
       "      <td>ECS Federal LLC</td>\n",
       "      <td>Albuquerque, NM</td>\n",
       "      <td>0</td>\n",
       "      <td></td>\n",
       "      <td>5 days ago</td>\n",
       "      <td>2021-03-05</td>\n",
       "      <td>ECS is seeking a Machine Learning Scientist I ...</td>\n",
       "    </tr>\n",
       "    <tr>\n",
       "      <th>123</th>\n",
       "      <td>Data Scientist</td>\n",
       "      <td>Cloudflare</td>\n",
       "      <td>Austin, TX</td>\n",
       "      <td>0</td>\n",
       "      <td></td>\n",
       "      <td>30+ days ago</td>\n",
       "      <td>2021-03-05</td>\n",
       "      <td>About Us   At Cloudflare, we have our eyes set...</td>\n",
       "    </tr>\n",
       "    <tr>\n",
       "      <th>396</th>\n",
       "      <td>Data Analyst/Data Entry Analyst.</td>\n",
       "      <td>Century</td>\n",
       "      <td>Jacksonville, FL 32202</td>\n",
       "      <td>0</td>\n",
       "      <td></td>\n",
       "      <td>15 days ago</td>\n",
       "      <td>2021-03-05</td>\n",
       "      <td>Company Description Our live marketing techniq...</td>\n",
       "    </tr>\n",
       "  </tbody>\n",
       "</table>\n",
       "</div>"
      ],
      "text/plain": [
       "                            job_title                 company  \\\n",
       "199          Associate Data Scientist  Beacon Street Services   \n",
       "604                     Data Engineer                 Compass   \n",
       "771     Machine Learning Scientists I         ECS Federal LLC   \n",
       "123                    Data Scientist              Cloudflare   \n",
       "396  Data Analyst/Data Entry Analyst.                 Century   \n",
       "\n",
       "                   location  is_remote salary     post_date date_accessed  \\\n",
       "199     Baltimore, MD 21201          0          15 days ago    2021-03-05   \n",
       "604       Seattle, WA 98104          0           7 days ago    2021-03-05   \n",
       "771         Albuquerque, NM          0           5 days ago    2021-03-05   \n",
       "123              Austin, TX          0         30+ days ago    2021-03-05   \n",
       "396  Jacksonville, FL 32202          0          15 days ago    2021-03-05   \n",
       "\n",
       "                                       job_description  \n",
       "199  Overview: Beacon Street Services is hiring an ...  \n",
       "604  At Compass, we envision a world where the expe...  \n",
       "771  ECS is seeking a Machine Learning Scientist I ...  \n",
       "123  About Us   At Cloudflare, we have our eyes set...  \n",
       "396  Company Description Our live marketing techniq...  "
      ]
     },
     "execution_count": 44,
     "metadata": {},
     "output_type": "execute_result"
    }
   ],
   "source": [
    "# Read in the data from a JSON file\n",
    "df = pd.read_json('indeed-data-jobs-FINAL.json')\n",
    "df.sample(5)"
   ]
  },
  {
   "cell_type": "code",
   "execution_count": 45,
   "metadata": {},
   "outputs": [
    {
     "data": {
      "text/html": [
       "<div>\n",
       "<style scoped>\n",
       "    .dataframe tbody tr th:only-of-type {\n",
       "        vertical-align: middle;\n",
       "    }\n",
       "\n",
       "    .dataframe tbody tr th {\n",
       "        vertical-align: top;\n",
       "    }\n",
       "\n",
       "    .dataframe thead th {\n",
       "        text-align: right;\n",
       "    }\n",
       "</style>\n",
       "<table border=\"1\" class=\"dataframe\">\n",
       "  <thead>\n",
       "    <tr style=\"text-align: right;\">\n",
       "      <th></th>\n",
       "      <th>job_title</th>\n",
       "      <th>company</th>\n",
       "      <th>location</th>\n",
       "      <th>is_remote</th>\n",
       "      <th>salary</th>\n",
       "      <th>post_date</th>\n",
       "      <th>date_accessed</th>\n",
       "      <th>job_description</th>\n",
       "    </tr>\n",
       "  </thead>\n",
       "  <tbody>\n",
       "    <tr>\n",
       "      <th>303</th>\n",
       "      <td></td>\n",
       "      <td></td>\n",
       "      <td></td>\n",
       "      <td>0</td>\n",
       "      <td></td>\n",
       "      <td></td>\n",
       "      <td>2021-03-05</td>\n",
       "      <td></td>\n",
       "    </tr>\n",
       "    <tr>\n",
       "      <th>463</th>\n",
       "      <td></td>\n",
       "      <td></td>\n",
       "      <td></td>\n",
       "      <td>0</td>\n",
       "      <td></td>\n",
       "      <td></td>\n",
       "      <td>2021-03-05</td>\n",
       "      <td></td>\n",
       "    </tr>\n",
       "    <tr>\n",
       "      <th>586</th>\n",
       "      <td></td>\n",
       "      <td></td>\n",
       "      <td></td>\n",
       "      <td>0</td>\n",
       "      <td></td>\n",
       "      <td></td>\n",
       "      <td>2021-03-05</td>\n",
       "      <td></td>\n",
       "    </tr>\n",
       "    <tr>\n",
       "      <th>755</th>\n",
       "      <td></td>\n",
       "      <td></td>\n",
       "      <td></td>\n",
       "      <td>0</td>\n",
       "      <td></td>\n",
       "      <td></td>\n",
       "      <td>2021-03-05</td>\n",
       "      <td></td>\n",
       "    </tr>\n",
       "  </tbody>\n",
       "</table>\n",
       "</div>"
      ],
      "text/plain": [
       "    job_title company location  is_remote salary post_date date_accessed  \\\n",
       "303                                     0                     2021-03-05   \n",
       "463                                     0                     2021-03-05   \n",
       "586                                     0                     2021-03-05   \n",
       "755                                     0                     2021-03-05   \n",
       "\n",
       "    job_description  \n",
       "303                  \n",
       "463                  \n",
       "586                  \n",
       "755                  "
      ]
     },
     "execution_count": 45,
     "metadata": {},
     "output_type": "execute_result"
    }
   ],
   "source": [
    "# these were probably removed so I'll remove them from the data\n",
    "df[df.job_description == '']"
   ]
  },
  {
   "cell_type": "code",
   "execution_count": 49,
   "metadata": {},
   "outputs": [
    {
     "data": {
      "text/html": [
       "<div>\n",
       "<style scoped>\n",
       "    .dataframe tbody tr th:only-of-type {\n",
       "        vertical-align: middle;\n",
       "    }\n",
       "\n",
       "    .dataframe tbody tr th {\n",
       "        vertical-align: top;\n",
       "    }\n",
       "\n",
       "    .dataframe thead th {\n",
       "        text-align: right;\n",
       "    }\n",
       "</style>\n",
       "<table border=\"1\" class=\"dataframe\">\n",
       "  <thead>\n",
       "    <tr style=\"text-align: right;\">\n",
       "      <th></th>\n",
       "      <th>job_title</th>\n",
       "      <th>company</th>\n",
       "      <th>location</th>\n",
       "      <th>is_remote</th>\n",
       "      <th>salary</th>\n",
       "      <th>post_date</th>\n",
       "      <th>date_accessed</th>\n",
       "      <th>job_description</th>\n",
       "    </tr>\n",
       "  </thead>\n",
       "  <tbody>\n",
       "    <tr>\n",
       "      <th>0</th>\n",
       "      <td>Data Entry</td>\n",
       "      <td>TransPerfect Translations Inc.</td>\n",
       "      <td>Remote</td>\n",
       "      <td>1</td>\n",
       "      <td></td>\n",
       "      <td>6 days ago</td>\n",
       "      <td>2021-03-05</td>\n",
       "      <td>We are looking for Data Entry Clerks to join o...</td>\n",
       "    </tr>\n",
       "    <tr>\n",
       "      <th>1</th>\n",
       "      <td>Data Scientist</td>\n",
       "      <td>ForMotiv</td>\n",
       "      <td>Remote</td>\n",
       "      <td>1</td>\n",
       "      <td>$75,000 - $120,000 a year</td>\n",
       "      <td>30+ days ago</td>\n",
       "      <td>2021-03-05</td>\n",
       "      <td>Has it ever occurred to you that as the Intern...</td>\n",
       "    </tr>\n",
       "    <tr>\n",
       "      <th>2</th>\n",
       "      <td>Data Scientist</td>\n",
       "      <td>Redzara.com</td>\n",
       "      <td>Remote</td>\n",
       "      <td>1</td>\n",
       "      <td>$35 - $80 an hour</td>\n",
       "      <td>10 days ago</td>\n",
       "      <td>2021-03-05</td>\n",
       "      <td>Only GC / EAD only. No C2CBackground screening...</td>\n",
       "    </tr>\n",
       "    <tr>\n",
       "      <th>3</th>\n",
       "      <td>Data Scientist</td>\n",
       "      <td>Nova Collective</td>\n",
       "      <td>Remote</td>\n",
       "      <td>1</td>\n",
       "      <td>$35 - $48 an hour</td>\n",
       "      <td>24 days ago</td>\n",
       "      <td>2021-03-05</td>\n",
       "      <td>Are you a data scientist who is really excited...</td>\n",
       "    </tr>\n",
       "    <tr>\n",
       "      <th>4</th>\n",
       "      <td>Early Career Data Scientist - Applied Math</td>\n",
       "      <td>Pacific Northwest National Laboratory</td>\n",
       "      <td>Seattle, WA</td>\n",
       "      <td>0</td>\n",
       "      <td></td>\n",
       "      <td>1 day ago</td>\n",
       "      <td>2021-03-05</td>\n",
       "      <td>Organization and Job ID Job ID: 311747 Directo...</td>\n",
       "    </tr>\n",
       "    <tr>\n",
       "      <th>...</th>\n",
       "      <td>...</td>\n",
       "      <td>...</td>\n",
       "      <td>...</td>\n",
       "      <td>...</td>\n",
       "      <td>...</td>\n",
       "      <td>...</td>\n",
       "      <td>...</td>\n",
       "      <td>...</td>\n",
       "    </tr>\n",
       "    <tr>\n",
       "      <th>893</th>\n",
       "      <td>Machine Learning Engineer, Ads Relevance</td>\n",
       "      <td>Pinterest</td>\n",
       "      <td>Palo Alto, CA</td>\n",
       "      <td>0</td>\n",
       "      <td></td>\n",
       "      <td>24 days ago</td>\n",
       "      <td>2021-03-05</td>\n",
       "      <td>About Pinterest:  Millions of people across th...</td>\n",
       "    </tr>\n",
       "    <tr>\n",
       "      <th>894</th>\n",
       "      <td>Machine Learning: AI Engineer</td>\n",
       "      <td>ALTRON, Inc.</td>\n",
       "      <td>Fairfax, VA</td>\n",
       "      <td>0</td>\n",
       "      <td></td>\n",
       "      <td>30+ days ago</td>\n",
       "      <td>2021-03-05</td>\n",
       "      <td>Altron Inc. is seeking a Machine Learning (ML)...</td>\n",
       "    </tr>\n",
       "    <tr>\n",
       "      <th>895</th>\n",
       "      <td>Machine Learning Engineer</td>\n",
       "      <td>Global Payments</td>\n",
       "      <td>Alpharetta, GA 30022</td>\n",
       "      <td>0</td>\n",
       "      <td></td>\n",
       "      <td>24 days ago</td>\n",
       "      <td>2021-03-05</td>\n",
       "      <td>Every day, Global Payments makes it possible f...</td>\n",
       "    </tr>\n",
       "    <tr>\n",
       "      <th>896</th>\n",
       "      <td>Applied Machine Learning Engineer</td>\n",
       "      <td>Anomaly</td>\n",
       "      <td>New York, NY 10012</td>\n",
       "      <td>0</td>\n",
       "      <td></td>\n",
       "      <td>30+ days ago</td>\n",
       "      <td>2021-03-05</td>\n",
       "      <td>About Anomaly  Anomaly is a healthcare technol...</td>\n",
       "    </tr>\n",
       "    <tr>\n",
       "      <th>897</th>\n",
       "      <td>Machine Learning Engineer</td>\n",
       "      <td>MORSE Corp</td>\n",
       "      <td>Cambridge, MA 02139</td>\n",
       "      <td>0</td>\n",
       "      <td></td>\n",
       "      <td>30+ days ago</td>\n",
       "      <td>2021-03-05</td>\n",
       "      <td>MORSE is an innovative, employee-owned, tech c...</td>\n",
       "    </tr>\n",
       "  </tbody>\n",
       "</table>\n",
       "<p>898 rows × 8 columns</p>\n",
       "</div>"
      ],
      "text/plain": [
       "                                      job_title  \\\n",
       "0                                    Data Entry   \n",
       "1                                Data Scientist   \n",
       "2                                Data Scientist   \n",
       "3                                Data Scientist   \n",
       "4    Early Career Data Scientist - Applied Math   \n",
       "..                                          ...   \n",
       "893    Machine Learning Engineer, Ads Relevance   \n",
       "894               Machine Learning: AI Engineer   \n",
       "895                   Machine Learning Engineer   \n",
       "896           Applied Machine Learning Engineer   \n",
       "897                   Machine Learning Engineer   \n",
       "\n",
       "                                   company              location  is_remote  \\\n",
       "0           TransPerfect Translations Inc.                Remote          1   \n",
       "1                                 ForMotiv                Remote          1   \n",
       "2                              Redzara.com                Remote          1   \n",
       "3                          Nova Collective                Remote          1   \n",
       "4    Pacific Northwest National Laboratory           Seattle, WA          0   \n",
       "..                                     ...                   ...        ...   \n",
       "893                              Pinterest         Palo Alto, CA          0   \n",
       "894                           ALTRON, Inc.           Fairfax, VA          0   \n",
       "895                        Global Payments  Alpharetta, GA 30022          0   \n",
       "896                                Anomaly    New York, NY 10012          0   \n",
       "897                             MORSE Corp   Cambridge, MA 02139          0   \n",
       "\n",
       "                        salary     post_date date_accessed  \\\n",
       "0                                 6 days ago    2021-03-05   \n",
       "1    $75,000 - $120,000 a year  30+ days ago    2021-03-05   \n",
       "2            $35 - $80 an hour   10 days ago    2021-03-05   \n",
       "3            $35 - $48 an hour   24 days ago    2021-03-05   \n",
       "4                                  1 day ago    2021-03-05   \n",
       "..                         ...           ...           ...   \n",
       "893                              24 days ago    2021-03-05   \n",
       "894                             30+ days ago    2021-03-05   \n",
       "895                              24 days ago    2021-03-05   \n",
       "896                             30+ days ago    2021-03-05   \n",
       "897                             30+ days ago    2021-03-05   \n",
       "\n",
       "                                       job_description  \n",
       "0    We are looking for Data Entry Clerks to join o...  \n",
       "1    Has it ever occurred to you that as the Intern...  \n",
       "2    Only GC / EAD only. No C2CBackground screening...  \n",
       "3    Are you a data scientist who is really excited...  \n",
       "4    Organization and Job ID Job ID: 311747 Directo...  \n",
       "..                                                 ...  \n",
       "893  About Pinterest:  Millions of people across th...  \n",
       "894  Altron Inc. is seeking a Machine Learning (ML)...  \n",
       "895  Every day, Global Payments makes it possible f...  \n",
       "896  About Anomaly  Anomaly is a healthcare technol...  \n",
       "897  MORSE is an innovative, employee-owned, tech c...  \n",
       "\n",
       "[898 rows x 8 columns]"
      ]
     },
     "execution_count": 49,
     "metadata": {},
     "output_type": "execute_result"
    }
   ],
   "source": [
    "# REMOVED ROWS ABOVE\n",
    "df = df[df.job_description != ''].reset_index(drop=True)\n",
    "df"
   ]
  },
  {
   "cell_type": "code",
   "execution_count": 47,
   "metadata": {},
   "outputs": [
    {
     "data": {
      "text/plain": [
       "(898, 8)"
      ]
     },
     "execution_count": 47,
     "metadata": {},
     "output_type": "execute_result"
    }
   ],
   "source": [
    "# rows, columns\n",
    "df.shape"
   ]
  },
  {
   "cell_type": "code",
   "execution_count": 6,
   "metadata": {},
   "outputs": [
    {
     "name": "stdout",
     "output_type": "stream",
     "text": [
      "<class 'pandas.core.frame.DataFrame'>\n",
      "Int64Index: 898 entries, 0 to 901\n",
      "Data columns (total 8 columns):\n",
      " #   Column           Non-Null Count  Dtype \n",
      "---  ------           --------------  ----- \n",
      " 0   job_title        898 non-null    object\n",
      " 1   company          898 non-null    object\n",
      " 2   location         898 non-null    object\n",
      " 3   is_remote        898 non-null    int64 \n",
      " 4   salary           898 non-null    object\n",
      " 5   post_date        898 non-null    object\n",
      " 6   date_accessed    898 non-null    object\n",
      " 7   job_description  898 non-null    object\n",
      "dtypes: int64(1), object(7)\n",
      "memory usage: 63.1+ KB\n"
     ]
    }
   ],
   "source": [
    "# data summary\n",
    "df.info()"
   ]
  },
  {
   "cell_type": "markdown",
   "metadata": {},
   "source": [
    "# Creating Labels\n",
    "### I'll need to create a script that uses the job title to create the label\n",
    "I already see that data entry isn't what I'm looking for so I'll need to iterate over all entries to purge jobs like this that don't fall into 1 of my 4 categories"
   ]
  },
  {
   "cell_type": "code",
   "execution_count": 7,
   "metadata": {},
   "outputs": [
    {
     "data": {
      "text/plain": [
       "0                                      Data Entry\n",
       "1                                  Data Scientist\n",
       "2                                  Data Scientist\n",
       "3                                  Data Scientist\n",
       "4      Early Career Data Scientist - Applied Math\n",
       "                          ...                    \n",
       "897      Machine Learning Engineer, Ads Relevance\n",
       "898                 Machine Learning: AI Engineer\n",
       "899                     Machine Learning Engineer\n",
       "900             Applied Machine Learning Engineer\n",
       "901                     Machine Learning Engineer\n",
       "Name: job_title, Length: 898, dtype: object"
      ]
     },
     "execution_count": 7,
     "metadata": {},
     "output_type": "execute_result"
    }
   ],
   "source": [
    "df.job_title"
   ]
  },
  {
   "cell_type": "code",
   "execution_count": 8,
   "metadata": {},
   "outputs": [
    {
     "data": {
      "text/html": [
       "<div>\n",
       "<style scoped>\n",
       "    .dataframe tbody tr th:only-of-type {\n",
       "        vertical-align: middle;\n",
       "    }\n",
       "\n",
       "    .dataframe tbody tr th {\n",
       "        vertical-align: top;\n",
       "    }\n",
       "\n",
       "    .dataframe thead th {\n",
       "        text-align: right;\n",
       "    }\n",
       "</style>\n",
       "<table border=\"1\" class=\"dataframe\">\n",
       "  <thead>\n",
       "    <tr style=\"text-align: right;\">\n",
       "      <th></th>\n",
       "      <th>job_title</th>\n",
       "      <th>company</th>\n",
       "      <th>location</th>\n",
       "      <th>is_remote</th>\n",
       "      <th>salary</th>\n",
       "      <th>post_date</th>\n",
       "      <th>date_accessed</th>\n",
       "      <th>job_description</th>\n",
       "    </tr>\n",
       "  </thead>\n",
       "  <tbody>\n",
       "    <tr>\n",
       "      <th>0</th>\n",
       "      <td>Data Entry</td>\n",
       "      <td>TransPerfect Translations Inc.</td>\n",
       "      <td>Remote</td>\n",
       "      <td>1</td>\n",
       "      <td></td>\n",
       "      <td>6 days ago</td>\n",
       "      <td>2021-03-05</td>\n",
       "      <td>We are looking for Data Entry Clerks to join o...</td>\n",
       "    </tr>\n",
       "  </tbody>\n",
       "</table>\n",
       "</div>"
      ],
      "text/plain": [
       "    job_title                         company location is_remote salary  \\\n",
       "0  Data Entry  TransPerfect Translations Inc.   Remote         1          \n",
       "\n",
       "    post_date date_accessed                                    job_description  \n",
       "0  6 days ago    2021-03-05  We are looking for Data Entry Clerks to join o...  "
      ]
     },
     "execution_count": 8,
     "metadata": {},
     "output_type": "execute_result"
    }
   ],
   "source": [
    "pd.DataFrame(df.loc[0]).T"
   ]
  },
  {
   "cell_type": "code",
   "execution_count": 9,
   "metadata": {},
   "outputs": [],
   "source": [
    "### Regex"
   ]
  },
  {
   "cell_type": "code",
   "execution_count": 10,
   "metadata": {},
   "outputs": [
    {
     "data": {
      "text/html": [
       "<div>\n",
       "<style scoped>\n",
       "    .dataframe tbody tr th:only-of-type {\n",
       "        vertical-align: middle;\n",
       "    }\n",
       "\n",
       "    .dataframe tbody tr th {\n",
       "        vertical-align: top;\n",
       "    }\n",
       "\n",
       "    .dataframe thead th {\n",
       "        text-align: right;\n",
       "    }\n",
       "</style>\n",
       "<table border=\"1\" class=\"dataframe\">\n",
       "  <thead>\n",
       "    <tr style=\"text-align: right;\">\n",
       "      <th></th>\n",
       "      <th>job_title</th>\n",
       "      <th>company</th>\n",
       "      <th>location</th>\n",
       "      <th>is_remote</th>\n",
       "      <th>salary</th>\n",
       "      <th>post_date</th>\n",
       "      <th>date_accessed</th>\n",
       "      <th>job_description</th>\n",
       "    </tr>\n",
       "  </thead>\n",
       "  <tbody>\n",
       "    <tr>\n",
       "      <th>0</th>\n",
       "      <td>Data Entry</td>\n",
       "      <td>TransPerfect Translations Inc.</td>\n",
       "      <td>Remote</td>\n",
       "      <td>1</td>\n",
       "      <td></td>\n",
       "      <td>6 days ago</td>\n",
       "      <td>2021-03-05</td>\n",
       "      <td>We are looking for Data Entry Clerks to join o...</td>\n",
       "    </tr>\n",
       "    <tr>\n",
       "      <th>1</th>\n",
       "      <td>Data Scientist</td>\n",
       "      <td>ForMotiv</td>\n",
       "      <td>Remote</td>\n",
       "      <td>1</td>\n",
       "      <td>$75,000 - $120,000 a year</td>\n",
       "      <td>30+ days ago</td>\n",
       "      <td>2021-03-05</td>\n",
       "      <td>Has it ever occurred to you that as the Intern...</td>\n",
       "    </tr>\n",
       "    <tr>\n",
       "      <th>2</th>\n",
       "      <td>Data Scientist</td>\n",
       "      <td>Redzara.com</td>\n",
       "      <td>Remote</td>\n",
       "      <td>1</td>\n",
       "      <td>$35 - $80 an hour</td>\n",
       "      <td>10 days ago</td>\n",
       "      <td>2021-03-05</td>\n",
       "      <td>Only GC / EAD only. No C2CBackground screening...</td>\n",
       "    </tr>\n",
       "    <tr>\n",
       "      <th>3</th>\n",
       "      <td>Data Scientist</td>\n",
       "      <td>Nova Collective</td>\n",
       "      <td>Remote</td>\n",
       "      <td>1</td>\n",
       "      <td>$35 - $48 an hour</td>\n",
       "      <td>24 days ago</td>\n",
       "      <td>2021-03-05</td>\n",
       "      <td>Are you a data scientist who is really excited...</td>\n",
       "    </tr>\n",
       "    <tr>\n",
       "      <th>4</th>\n",
       "      <td>Early Career Data Scientist - Applied Math</td>\n",
       "      <td>Pacific Northwest National Laboratory</td>\n",
       "      <td>Seattle, WA</td>\n",
       "      <td>0</td>\n",
       "      <td></td>\n",
       "      <td>1 day ago</td>\n",
       "      <td>2021-03-05</td>\n",
       "      <td>Organization and Job ID Job ID: 311747 Directo...</td>\n",
       "    </tr>\n",
       "    <tr>\n",
       "      <th>...</th>\n",
       "      <td>...</td>\n",
       "      <td>...</td>\n",
       "      <td>...</td>\n",
       "      <td>...</td>\n",
       "      <td>...</td>\n",
       "      <td>...</td>\n",
       "      <td>...</td>\n",
       "      <td>...</td>\n",
       "    </tr>\n",
       "    <tr>\n",
       "      <th>897</th>\n",
       "      <td>Machine Learning Engineer, Ads Relevance</td>\n",
       "      <td>Pinterest</td>\n",
       "      <td>Palo Alto, CA</td>\n",
       "      <td>0</td>\n",
       "      <td></td>\n",
       "      <td>24 days ago</td>\n",
       "      <td>2021-03-05</td>\n",
       "      <td>About Pinterest:  Millions of people across th...</td>\n",
       "    </tr>\n",
       "    <tr>\n",
       "      <th>898</th>\n",
       "      <td>Machine Learning: AI Engineer</td>\n",
       "      <td>ALTRON, Inc.</td>\n",
       "      <td>Fairfax, VA</td>\n",
       "      <td>0</td>\n",
       "      <td></td>\n",
       "      <td>30+ days ago</td>\n",
       "      <td>2021-03-05</td>\n",
       "      <td>Altron Inc. is seeking a Machine Learning (ML)...</td>\n",
       "    </tr>\n",
       "    <tr>\n",
       "      <th>899</th>\n",
       "      <td>Machine Learning Engineer</td>\n",
       "      <td>Global Payments</td>\n",
       "      <td>Alpharetta, GA 30022</td>\n",
       "      <td>0</td>\n",
       "      <td></td>\n",
       "      <td>24 days ago</td>\n",
       "      <td>2021-03-05</td>\n",
       "      <td>Every day, Global Payments makes it possible f...</td>\n",
       "    </tr>\n",
       "    <tr>\n",
       "      <th>900</th>\n",
       "      <td>Applied Machine Learning Engineer</td>\n",
       "      <td>Anomaly</td>\n",
       "      <td>New York, NY 10012</td>\n",
       "      <td>0</td>\n",
       "      <td></td>\n",
       "      <td>30+ days ago</td>\n",
       "      <td>2021-03-05</td>\n",
       "      <td>About Anomaly  Anomaly is a healthcare technol...</td>\n",
       "    </tr>\n",
       "    <tr>\n",
       "      <th>901</th>\n",
       "      <td>Machine Learning Engineer</td>\n",
       "      <td>MORSE Corp</td>\n",
       "      <td>Cambridge, MA 02139</td>\n",
       "      <td>0</td>\n",
       "      <td></td>\n",
       "      <td>30+ days ago</td>\n",
       "      <td>2021-03-05</td>\n",
       "      <td>MORSE is an innovative, employee-owned, tech c...</td>\n",
       "    </tr>\n",
       "  </tbody>\n",
       "</table>\n",
       "<p>898 rows × 8 columns</p>\n",
       "</div>"
      ],
      "text/plain": [
       "                                      job_title  \\\n",
       "0                                    Data Entry   \n",
       "1                                Data Scientist   \n",
       "2                                Data Scientist   \n",
       "3                                Data Scientist   \n",
       "4    Early Career Data Scientist - Applied Math   \n",
       "..                                          ...   \n",
       "897    Machine Learning Engineer, Ads Relevance   \n",
       "898               Machine Learning: AI Engineer   \n",
       "899                   Machine Learning Engineer   \n",
       "900           Applied Machine Learning Engineer   \n",
       "901                   Machine Learning Engineer   \n",
       "\n",
       "                                   company              location  is_remote  \\\n",
       "0           TransPerfect Translations Inc.                Remote          1   \n",
       "1                                 ForMotiv                Remote          1   \n",
       "2                              Redzara.com                Remote          1   \n",
       "3                          Nova Collective                Remote          1   \n",
       "4    Pacific Northwest National Laboratory           Seattle, WA          0   \n",
       "..                                     ...                   ...        ...   \n",
       "897                              Pinterest         Palo Alto, CA          0   \n",
       "898                           ALTRON, Inc.           Fairfax, VA          0   \n",
       "899                        Global Payments  Alpharetta, GA 30022          0   \n",
       "900                                Anomaly    New York, NY 10012          0   \n",
       "901                             MORSE Corp   Cambridge, MA 02139          0   \n",
       "\n",
       "                        salary     post_date date_accessed  \\\n",
       "0                                 6 days ago    2021-03-05   \n",
       "1    $75,000 - $120,000 a year  30+ days ago    2021-03-05   \n",
       "2            $35 - $80 an hour   10 days ago    2021-03-05   \n",
       "3            $35 - $48 an hour   24 days ago    2021-03-05   \n",
       "4                                  1 day ago    2021-03-05   \n",
       "..                         ...           ...           ...   \n",
       "897                              24 days ago    2021-03-05   \n",
       "898                             30+ days ago    2021-03-05   \n",
       "899                              24 days ago    2021-03-05   \n",
       "900                             30+ days ago    2021-03-05   \n",
       "901                             30+ days ago    2021-03-05   \n",
       "\n",
       "                                       job_description  \n",
       "0    We are looking for Data Entry Clerks to join o...  \n",
       "1    Has it ever occurred to you that as the Intern...  \n",
       "2    Only GC / EAD only. No C2CBackground screening...  \n",
       "3    Are you a data scientist who is really excited...  \n",
       "4    Organization and Job ID Job ID: 311747 Directo...  \n",
       "..                                                 ...  \n",
       "897  About Pinterest:  Millions of people across th...  \n",
       "898  Altron Inc. is seeking a Machine Learning (ML)...  \n",
       "899  Every day, Global Payments makes it possible f...  \n",
       "900  About Anomaly  Anomaly is a healthcare technol...  \n",
       "901  MORSE is an innovative, employee-owned, tech c...  \n",
       "\n",
       "[898 rows x 8 columns]"
      ]
     },
     "execution_count": 10,
     "metadata": {},
     "output_type": "execute_result"
    }
   ],
   "source": [
    "df"
   ]
  },
  {
   "cell_type": "markdown",
   "metadata": {},
   "source": [
    "## [FAIL] Finding each Label by Indexing\n",
    "### The data is sort of in order by the keyword I used while scraping\n",
    "\n",
    "- 1st: 'data scientist'\n",
    "- 2nd: 'data analyst'\n",
    "- 3rd: 'data engineer'\n",
    "- 4th: 'machine learning engineer'\n",
    "\n",
    "*I scraped about the same amount of jobs for each of the 4 labels. So I'm going to index the dataframe for the range within each quartile because I know that the job titles will change around that point so I'll just differentiate the labels by peeking into the DataFrame from the reference points.*"
   ]
  },
  {
   "cell_type": "code",
   "execution_count": 50,
   "metadata": {},
   "outputs": [
    {
     "name": "stdout",
     "output_type": "stream",
     "text": [
      "1st quarter: 224.5 \n",
      " 2nd quarter: 449.0 \n",
      " 3rd quarter: 673.5\n"
     ]
    }
   ],
   "source": [
    "print(f'1st quarter: {898*.25} \\n 2nd quarter: {898*.5} \\n 3rd quarter: {898*.75}')"
   ]
  },
  {
   "cell_type": "code",
   "execution_count": null,
   "metadata": {},
   "outputs": [],
   "source": []
  },
  {
   "cell_type": "code",
   "execution_count": 55,
   "metadata": {},
   "outputs": [
    {
     "data": {
      "text/plain": [
       "224"
      ]
     },
     "execution_count": 55,
     "metadata": {},
     "output_type": "execute_result"
    }
   ],
   "source": [
    "# the last data scientist entry was at 223\n",
    "len(df[:224])"
   ]
  },
  {
   "cell_type": "code",
   "execution_count": 59,
   "metadata": {},
   "outputs": [
    {
     "data": {
      "text/plain": [
       "223"
      ]
     },
     "execution_count": 59,
     "metadata": {},
     "output_type": "execute_result"
    }
   ],
   "source": [
    "# the last data analyst entry was at 447\n",
    "len(df[224:447])"
   ]
  },
  {
   "cell_type": "code",
   "execution_count": null,
   "metadata": {},
   "outputs": [],
   "source": [
    "# the last data engineer entry was at 676\n",
    "df[447:674]"
   ]
  },
  {
   "cell_type": "code",
   "execution_count": 38,
   "metadata": {},
   "outputs": [
    {
     "data": {
      "text/plain": [
       "224"
      ]
     },
     "execution_count": 38,
     "metadata": {},
     "output_type": "execute_result"
    }
   ],
   "source": [
    "# the rest of the jobs are machine learning engineers\n",
    "len(df[674:])"
   ]
  },
  {
   "cell_type": "code",
   "execution_count": null,
   "metadata": {},
   "outputs": [],
   "source": [
    "def create_labels(df, first=slice(0,224), second=slice(224,447), third=slice(447,674), last=slice(674,902)):\n",
    "    '''\n",
    "    This function takes in a DataFrame and creates labels based on\n",
    "    the index given as as second parameter. Note: this assumes your\n",
    "    labels have been presorted and you know the index ranges for each.\n",
    "    ''' \n",
    "    df['label'] = np.where(df.iloc[first], 'Data Scientist', '')\n",
    "    df['label'] = np.where(df.iloc[second], 'Data Analyst', '')\n",
    "    df['label'] = np.where(df.iloc[third], 'Data Engineer', '')\n",
    "    df['label'] = np.where(df.iloc[last], 'Machine Learning Engineer', '')\n",
    "    return df"
   ]
  },
  {
   "cell_type": "code",
   "execution_count": 39,
   "metadata": {},
   "outputs": [
    {
     "data": {
      "text/plain": [
       "902"
      ]
     },
     "execution_count": 39,
     "metadata": {},
     "output_type": "execute_result"
    }
   ],
   "source": [
    "ds = ['DS' for n in range(0,225)]\n",
    "da = ['DA' for n in range(0,224)]\n",
    "de = ['DE' for n in range(0,228)]\n",
    "mle = ['MLE' for n in range(0,225)]\n",
    "\n",
    "labels = ds + da + de + mle\n",
    "len(labels)"
   ]
  },
  {
   "cell_type": "code",
   "execution_count": 31,
   "metadata": {},
   "outputs": [
    {
     "ename": "ValueError",
     "evalue": "Length of values (905) does not match length of index (898)",
     "output_type": "error",
     "traceback": [
      "\u001b[0;31m---------------------------------------------------------------------------\u001b[0m",
      "\u001b[0;31mValueError\u001b[0m                                Traceback (most recent call last)",
      "\u001b[0;32m<ipython-input-31-56c24b14f9cd>\u001b[0m in \u001b[0;36m<module>\u001b[0;34m\u001b[0m\n\u001b[0;32m----> 1\u001b[0;31m \u001b[0mdf\u001b[0m\u001b[0;34m[\u001b[0m\u001b[0;34m'label'\u001b[0m\u001b[0;34m]\u001b[0m \u001b[0;34m=\u001b[0m \u001b[0mlabels\u001b[0m\u001b[0;34m\u001b[0m\u001b[0;34m\u001b[0m\u001b[0m\n\u001b[0m",
      "\u001b[0;32m/usr/local/anaconda3/lib/python3.7/site-packages/pandas/core/frame.py\u001b[0m in \u001b[0;36m__setitem__\u001b[0;34m(self, key, value)\u001b[0m\n\u001b[1;32m   3035\u001b[0m         \u001b[0;32melse\u001b[0m\u001b[0;34m:\u001b[0m\u001b[0;34m\u001b[0m\u001b[0;34m\u001b[0m\u001b[0m\n\u001b[1;32m   3036\u001b[0m             \u001b[0;31m# set column\u001b[0m\u001b[0;34m\u001b[0m\u001b[0;34m\u001b[0m\u001b[0;34m\u001b[0m\u001b[0m\n\u001b[0;32m-> 3037\u001b[0;31m             \u001b[0mself\u001b[0m\u001b[0;34m.\u001b[0m\u001b[0m_set_item\u001b[0m\u001b[0;34m(\u001b[0m\u001b[0mkey\u001b[0m\u001b[0;34m,\u001b[0m \u001b[0mvalue\u001b[0m\u001b[0;34m)\u001b[0m\u001b[0;34m\u001b[0m\u001b[0;34m\u001b[0m\u001b[0m\n\u001b[0m\u001b[1;32m   3038\u001b[0m \u001b[0;34m\u001b[0m\u001b[0m\n\u001b[1;32m   3039\u001b[0m     \u001b[0;32mdef\u001b[0m \u001b[0m_setitem_slice\u001b[0m\u001b[0;34m(\u001b[0m\u001b[0mself\u001b[0m\u001b[0;34m,\u001b[0m \u001b[0mkey\u001b[0m\u001b[0;34m:\u001b[0m \u001b[0mslice\u001b[0m\u001b[0;34m,\u001b[0m \u001b[0mvalue\u001b[0m\u001b[0;34m)\u001b[0m\u001b[0;34m:\u001b[0m\u001b[0;34m\u001b[0m\u001b[0;34m\u001b[0m\u001b[0m\n",
      "\u001b[0;32m/usr/local/anaconda3/lib/python3.7/site-packages/pandas/core/frame.py\u001b[0m in \u001b[0;36m_set_item\u001b[0;34m(self, key, value)\u001b[0m\n\u001b[1;32m   3111\u001b[0m         \"\"\"\n\u001b[1;32m   3112\u001b[0m         \u001b[0mself\u001b[0m\u001b[0;34m.\u001b[0m\u001b[0m_ensure_valid_index\u001b[0m\u001b[0;34m(\u001b[0m\u001b[0mvalue\u001b[0m\u001b[0;34m)\u001b[0m\u001b[0;34m\u001b[0m\u001b[0;34m\u001b[0m\u001b[0m\n\u001b[0;32m-> 3113\u001b[0;31m         \u001b[0mvalue\u001b[0m \u001b[0;34m=\u001b[0m \u001b[0mself\u001b[0m\u001b[0;34m.\u001b[0m\u001b[0m_sanitize_column\u001b[0m\u001b[0;34m(\u001b[0m\u001b[0mkey\u001b[0m\u001b[0;34m,\u001b[0m \u001b[0mvalue\u001b[0m\u001b[0;34m)\u001b[0m\u001b[0;34m\u001b[0m\u001b[0;34m\u001b[0m\u001b[0m\n\u001b[0m\u001b[1;32m   3114\u001b[0m         \u001b[0mNDFrame\u001b[0m\u001b[0;34m.\u001b[0m\u001b[0m_set_item\u001b[0m\u001b[0;34m(\u001b[0m\u001b[0mself\u001b[0m\u001b[0;34m,\u001b[0m \u001b[0mkey\u001b[0m\u001b[0;34m,\u001b[0m \u001b[0mvalue\u001b[0m\u001b[0;34m)\u001b[0m\u001b[0;34m\u001b[0m\u001b[0;34m\u001b[0m\u001b[0m\n\u001b[1;32m   3115\u001b[0m \u001b[0;34m\u001b[0m\u001b[0m\n",
      "\u001b[0;32m/usr/local/anaconda3/lib/python3.7/site-packages/pandas/core/frame.py\u001b[0m in \u001b[0;36m_sanitize_column\u001b[0;34m(self, key, value, broadcast)\u001b[0m\n\u001b[1;32m   3756\u001b[0m \u001b[0;34m\u001b[0m\u001b[0m\n\u001b[1;32m   3757\u001b[0m             \u001b[0;31m# turn me into an ndarray\u001b[0m\u001b[0;34m\u001b[0m\u001b[0;34m\u001b[0m\u001b[0;34m\u001b[0m\u001b[0m\n\u001b[0;32m-> 3758\u001b[0;31m             \u001b[0mvalue\u001b[0m \u001b[0;34m=\u001b[0m \u001b[0msanitize_index\u001b[0m\u001b[0;34m(\u001b[0m\u001b[0mvalue\u001b[0m\u001b[0;34m,\u001b[0m \u001b[0mself\u001b[0m\u001b[0;34m.\u001b[0m\u001b[0mindex\u001b[0m\u001b[0;34m)\u001b[0m\u001b[0;34m\u001b[0m\u001b[0;34m\u001b[0m\u001b[0m\n\u001b[0m\u001b[1;32m   3759\u001b[0m             \u001b[0;32mif\u001b[0m \u001b[0;32mnot\u001b[0m \u001b[0misinstance\u001b[0m\u001b[0;34m(\u001b[0m\u001b[0mvalue\u001b[0m\u001b[0;34m,\u001b[0m \u001b[0;34m(\u001b[0m\u001b[0mnp\u001b[0m\u001b[0;34m.\u001b[0m\u001b[0mndarray\u001b[0m\u001b[0;34m,\u001b[0m \u001b[0mIndex\u001b[0m\u001b[0;34m)\u001b[0m\u001b[0;34m)\u001b[0m\u001b[0;34m:\u001b[0m\u001b[0;34m\u001b[0m\u001b[0;34m\u001b[0m\u001b[0m\n\u001b[1;32m   3760\u001b[0m                 \u001b[0;32mif\u001b[0m \u001b[0misinstance\u001b[0m\u001b[0;34m(\u001b[0m\u001b[0mvalue\u001b[0m\u001b[0;34m,\u001b[0m \u001b[0mlist\u001b[0m\u001b[0;34m)\u001b[0m \u001b[0;32mand\u001b[0m \u001b[0mlen\u001b[0m\u001b[0;34m(\u001b[0m\u001b[0mvalue\u001b[0m\u001b[0;34m)\u001b[0m \u001b[0;34m>\u001b[0m \u001b[0;36m0\u001b[0m\u001b[0;34m:\u001b[0m\u001b[0;34m\u001b[0m\u001b[0;34m\u001b[0m\u001b[0m\n",
      "\u001b[0;32m/usr/local/anaconda3/lib/python3.7/site-packages/pandas/core/internals/construction.py\u001b[0m in \u001b[0;36msanitize_index\u001b[0;34m(data, index)\u001b[0m\n\u001b[1;32m    746\u001b[0m     \u001b[0;32mif\u001b[0m \u001b[0mlen\u001b[0m\u001b[0;34m(\u001b[0m\u001b[0mdata\u001b[0m\u001b[0;34m)\u001b[0m \u001b[0;34m!=\u001b[0m \u001b[0mlen\u001b[0m\u001b[0;34m(\u001b[0m\u001b[0mindex\u001b[0m\u001b[0;34m)\u001b[0m\u001b[0;34m:\u001b[0m\u001b[0;34m\u001b[0m\u001b[0;34m\u001b[0m\u001b[0m\n\u001b[1;32m    747\u001b[0m         raise ValueError(\n\u001b[0;32m--> 748\u001b[0;31m             \u001b[0;34m\"Length of values \"\u001b[0m\u001b[0;34m\u001b[0m\u001b[0;34m\u001b[0m\u001b[0m\n\u001b[0m\u001b[1;32m    749\u001b[0m             \u001b[0;34mf\"({len(data)}) \"\u001b[0m\u001b[0;34m\u001b[0m\u001b[0;34m\u001b[0m\u001b[0m\n\u001b[1;32m    750\u001b[0m             \u001b[0;34m\"does not match length of index \"\u001b[0m\u001b[0;34m\u001b[0m\u001b[0;34m\u001b[0m\u001b[0m\n",
      "\u001b[0;31mValueError\u001b[0m: Length of values (905) does not match length of index (898)"
     ]
    }
   ],
   "source": [
    "df['label'] = labels"
   ]
  },
  {
   "cell_type": "code",
   "execution_count": null,
   "metadata": {},
   "outputs": [],
   "source": [
    "df.sample()"
   ]
  },
  {
   "cell_type": "code",
   "execution_count": null,
   "metadata": {},
   "outputs": [],
   "source": [
    "#df.insert(8, 'label', 'Data Scientist', allow_duplicates=True)"
   ]
  },
  {
   "cell_type": "markdown",
   "metadata": {},
   "source": [
    "### FAIL ^ Trying regex"
   ]
  },
  {
   "cell_type": "code",
   "execution_count": 13,
   "metadata": {},
   "outputs": [
    {
     "data": {
      "text/plain": [
       "<re.Match object; span=(0, 27), match='Early Career Data Scientist'>"
      ]
     },
     "execution_count": 13,
     "metadata": {},
     "output_type": "execute_result"
    }
   ],
   "source": [
    "# test case 1\n",
    "import re\n",
    "\n",
    "text = 'Early Career Data Scientist - Applied Math data scientist'\n",
    "\n",
    "r=r'.*?(data).*?(scientist).*?'\n",
    "\n",
    "m = re.search(r, text, flags=re.IGNORECASE)\n",
    "m"
   ]
  },
  {
   "cell_type": "code",
   "execution_count": null,
   "metadata": {},
   "outputs": [],
   "source": [
    "m[0], m[1], m[2]"
   ]
  },
  {
   "cell_type": "code",
   "execution_count": null,
   "metadata": {},
   "outputs": [],
   "source": [
    "# test case 2\n",
    "text = 'Entry-Level Business Analyst'\n",
    "\n",
    "r=r'.*?(business).*?(analyst).*?'\n",
    "\n",
    "m = re.search(r, text, flags=re.IGNORECASE)\n",
    "m"
   ]
  },
  {
   "cell_type": "code",
   "execution_count": null,
   "metadata": {},
   "outputs": [],
   "source": [
    "m[0], m[1], m[2]"
   ]
  },
  {
   "cell_type": "code",
   "execution_count": null,
   "metadata": {},
   "outputs": [],
   "source": [
    "# test case 3\n",
    "text = 'Machine Learning Application Engineer in Healt...'\n",
    "\n",
    "r=r'.*?(machine).*?(learning).*?(engineer).*?'\n",
    "\n",
    "m = re.search(r, text, flags=re.IGNORECASE)\n",
    "m"
   ]
  },
  {
   "cell_type": "code",
   "execution_count": null,
   "metadata": {},
   "outputs": [],
   "source": [
    "m[0], m[1], m[2], m[3]"
   ]
  },
  {
   "cell_type": "markdown",
   "metadata": {},
   "source": [
    "### NEXT attempt"
   ]
  },
  {
   "cell_type": "code",
   "execution_count": null,
   "metadata": {},
   "outputs": [],
   "source": [
    "# 58 nulls USABLE\n",
    "df['label'] = df.job_title.str.lower().str.extract('(.*?data.*?scientist.*?|.*?data.*?analyst.*?|data.*?engineer.*?|.*?machine.*?learning.*?engineer.*?)')"
   ]
  },
  {
   "cell_type": "code",
   "execution_count": null,
   "metadata": {},
   "outputs": [],
   "source": [
    "#peek at sample to see if code is effective\n",
    "df[['job_title', 'label']].sample(5)"
   ]
  },
  {
   "cell_type": "code",
   "execution_count": 11,
   "metadata": {},
   "outputs": [
    {
     "ename": "AttributeError",
     "evalue": "'DataFrame' object has no attribute 'label'",
     "output_type": "error",
     "traceback": [
      "\u001b[0;31m---------------------------------------------------------------------------\u001b[0m",
      "\u001b[0;31mAttributeError\u001b[0m                            Traceback (most recent call last)",
      "\u001b[0;32m<ipython-input-11-ef60b3d4f854>\u001b[0m in \u001b[0;36m<module>\u001b[0;34m\u001b[0m\n\u001b[1;32m      1\u001b[0m \u001b[0;31m# all rows that have nulls\u001b[0m\u001b[0;34m\u001b[0m\u001b[0;34m\u001b[0m\u001b[0;34m\u001b[0m\u001b[0m\n\u001b[0;32m----> 2\u001b[0;31m \u001b[0mnull_rows\u001b[0m \u001b[0;34m=\u001b[0m \u001b[0mdf\u001b[0m\u001b[0;34m[\u001b[0m\u001b[0mdf\u001b[0m\u001b[0;34m.\u001b[0m\u001b[0mlabel\u001b[0m\u001b[0;34m.\u001b[0m\u001b[0misnull\u001b[0m\u001b[0;34m(\u001b[0m\u001b[0;34m)\u001b[0m\u001b[0;34m]\u001b[0m\u001b[0;34m\u001b[0m\u001b[0;34m\u001b[0m\u001b[0m\n\u001b[0m\u001b[1;32m      3\u001b[0m \u001b[0mnull_rows\u001b[0m\u001b[0;34m\u001b[0m\u001b[0;34m\u001b[0m\u001b[0m\n",
      "\u001b[0;32m/usr/local/anaconda3/lib/python3.7/site-packages/pandas/core/generic.py\u001b[0m in \u001b[0;36m__getattr__\u001b[0;34m(self, name)\u001b[0m\n\u001b[1;32m   5128\u001b[0m             \u001b[0;32mif\u001b[0m \u001b[0mself\u001b[0m\u001b[0;34m.\u001b[0m\u001b[0m_info_axis\u001b[0m\u001b[0;34m.\u001b[0m\u001b[0m_can_hold_identifiers_and_holds_name\u001b[0m\u001b[0;34m(\u001b[0m\u001b[0mname\u001b[0m\u001b[0;34m)\u001b[0m\u001b[0;34m:\u001b[0m\u001b[0;34m\u001b[0m\u001b[0;34m\u001b[0m\u001b[0m\n\u001b[1;32m   5129\u001b[0m                 \u001b[0;32mreturn\u001b[0m \u001b[0mself\u001b[0m\u001b[0;34m[\u001b[0m\u001b[0mname\u001b[0m\u001b[0;34m]\u001b[0m\u001b[0;34m\u001b[0m\u001b[0;34m\u001b[0m\u001b[0m\n\u001b[0;32m-> 5130\u001b[0;31m             \u001b[0;32mreturn\u001b[0m \u001b[0mobject\u001b[0m\u001b[0;34m.\u001b[0m\u001b[0m__getattribute__\u001b[0m\u001b[0;34m(\u001b[0m\u001b[0mself\u001b[0m\u001b[0;34m,\u001b[0m \u001b[0mname\u001b[0m\u001b[0;34m)\u001b[0m\u001b[0;34m\u001b[0m\u001b[0;34m\u001b[0m\u001b[0m\n\u001b[0m\u001b[1;32m   5131\u001b[0m \u001b[0;34m\u001b[0m\u001b[0m\n\u001b[1;32m   5132\u001b[0m     \u001b[0;32mdef\u001b[0m \u001b[0m__setattr__\u001b[0m\u001b[0;34m(\u001b[0m\u001b[0mself\u001b[0m\u001b[0;34m,\u001b[0m \u001b[0mname\u001b[0m\u001b[0;34m:\u001b[0m \u001b[0mstr\u001b[0m\u001b[0;34m,\u001b[0m \u001b[0mvalue\u001b[0m\u001b[0;34m)\u001b[0m \u001b[0;34m->\u001b[0m \u001b[0;32mNone\u001b[0m\u001b[0;34m:\u001b[0m\u001b[0;34m\u001b[0m\u001b[0;34m\u001b[0m\u001b[0m\n",
      "\u001b[0;31mAttributeError\u001b[0m: 'DataFrame' object has no attribute 'label'"
     ]
    }
   ],
   "source": [
    "# all rows that have nulls\n",
    "null_rows = df[df.label.isnull()]\n",
    "null_rows"
   ]
  },
  {
   "cell_type": "code",
   "execution_count": null,
   "metadata": {},
   "outputs": [],
   "source": [
    "# number of nulls\n",
    "len((df[df.label.isnull()]))"
   ]
  },
  {
   "cell_type": "code",
   "execution_count": 14,
   "metadata": {},
   "outputs": [],
   "source": [
    "for row in df.job_title:\n",
    "    if re.search(r'machine learning', row.lower()) != None:\n",
    "         df['label'] = 'machine learning engineer'\n",
    "    elif re.search(r'analyst', row.lower()) != None:\n",
    "         df['label'] = 'data analyst'\n",
    "    elif re.search(r'scientist', row.lower()) != None:\n",
    "         df['label'] = 'data scientist'\n",
    "    elif re.search(r'data engineer', row.lower()) != None:\n",
    "         df['label'] = 'data engineer'"
   ]
  },
  {
   "cell_type": "code",
   "execution_count": 18,
   "metadata": {},
   "outputs": [],
   "source": [
    "for row in df.job_title:\n",
    "    df['label'] = np.where(re.search(r'machine learning', row.lower()) != None, 'machine learning engineer',   #when... then\n",
    "                     np.where(re.search(r'analyst', row.lower()) != None,'data analyst',  #when... then\n",
    "                      np.where(re.search(r'scientist', row.lower()) != None, 'data scientist',  #when... then\n",
    "                        np.where(re.search(r'data engineer', row.lower()) != None, 'data engineer',\n",
    "                                ''))))"
   ]
  },
  {
   "cell_type": "code",
   "execution_count": 19,
   "metadata": {},
   "outputs": [
    {
     "data": {
      "text/html": [
       "<div>\n",
       "<style scoped>\n",
       "    .dataframe tbody tr th:only-of-type {\n",
       "        vertical-align: middle;\n",
       "    }\n",
       "\n",
       "    .dataframe tbody tr th {\n",
       "        vertical-align: top;\n",
       "    }\n",
       "\n",
       "    .dataframe thead th {\n",
       "        text-align: right;\n",
       "    }\n",
       "</style>\n",
       "<table border=\"1\" class=\"dataframe\">\n",
       "  <thead>\n",
       "    <tr style=\"text-align: right;\">\n",
       "      <th></th>\n",
       "      <th>job_title</th>\n",
       "      <th>company</th>\n",
       "      <th>location</th>\n",
       "      <th>is_remote</th>\n",
       "      <th>salary</th>\n",
       "      <th>post_date</th>\n",
       "      <th>date_accessed</th>\n",
       "      <th>job_description</th>\n",
       "      <th>label</th>\n",
       "    </tr>\n",
       "  </thead>\n",
       "  <tbody>\n",
       "    <tr>\n",
       "      <th>0</th>\n",
       "      <td>Data Entry</td>\n",
       "      <td>TransPerfect Translations Inc.</td>\n",
       "      <td>Remote</td>\n",
       "      <td>1</td>\n",
       "      <td></td>\n",
       "      <td>6 days ago</td>\n",
       "      <td>2021-03-05</td>\n",
       "      <td>We are looking for Data Entry Clerks to join o...</td>\n",
       "      <td>machine learning engineer</td>\n",
       "    </tr>\n",
       "    <tr>\n",
       "      <th>1</th>\n",
       "      <td>Data Scientist</td>\n",
       "      <td>ForMotiv</td>\n",
       "      <td>Remote</td>\n",
       "      <td>1</td>\n",
       "      <td>$75,000 - $120,000 a year</td>\n",
       "      <td>30+ days ago</td>\n",
       "      <td>2021-03-05</td>\n",
       "      <td>Has it ever occurred to you that as the Intern...</td>\n",
       "      <td>machine learning engineer</td>\n",
       "    </tr>\n",
       "    <tr>\n",
       "      <th>2</th>\n",
       "      <td>Data Scientist</td>\n",
       "      <td>Redzara.com</td>\n",
       "      <td>Remote</td>\n",
       "      <td>1</td>\n",
       "      <td>$35 - $80 an hour</td>\n",
       "      <td>10 days ago</td>\n",
       "      <td>2021-03-05</td>\n",
       "      <td>Only GC / EAD only. No C2CBackground screening...</td>\n",
       "      <td>machine learning engineer</td>\n",
       "    </tr>\n",
       "    <tr>\n",
       "      <th>3</th>\n",
       "      <td>Data Scientist</td>\n",
       "      <td>Nova Collective</td>\n",
       "      <td>Remote</td>\n",
       "      <td>1</td>\n",
       "      <td>$35 - $48 an hour</td>\n",
       "      <td>24 days ago</td>\n",
       "      <td>2021-03-05</td>\n",
       "      <td>Are you a data scientist who is really excited...</td>\n",
       "      <td>machine learning engineer</td>\n",
       "    </tr>\n",
       "    <tr>\n",
       "      <th>4</th>\n",
       "      <td>Early Career Data Scientist - Applied Math</td>\n",
       "      <td>Pacific Northwest National Laboratory</td>\n",
       "      <td>Seattle, WA</td>\n",
       "      <td>0</td>\n",
       "      <td></td>\n",
       "      <td>1 day ago</td>\n",
       "      <td>2021-03-05</td>\n",
       "      <td>Organization and Job ID Job ID: 311747 Directo...</td>\n",
       "      <td>machine learning engineer</td>\n",
       "    </tr>\n",
       "    <tr>\n",
       "      <th>...</th>\n",
       "      <td>...</td>\n",
       "      <td>...</td>\n",
       "      <td>...</td>\n",
       "      <td>...</td>\n",
       "      <td>...</td>\n",
       "      <td>...</td>\n",
       "      <td>...</td>\n",
       "      <td>...</td>\n",
       "      <td>...</td>\n",
       "    </tr>\n",
       "    <tr>\n",
       "      <th>897</th>\n",
       "      <td>Machine Learning Engineer, Ads Relevance</td>\n",
       "      <td>Pinterest</td>\n",
       "      <td>Palo Alto, CA</td>\n",
       "      <td>0</td>\n",
       "      <td></td>\n",
       "      <td>24 days ago</td>\n",
       "      <td>2021-03-05</td>\n",
       "      <td>About Pinterest:  Millions of people across th...</td>\n",
       "      <td>machine learning engineer</td>\n",
       "    </tr>\n",
       "    <tr>\n",
       "      <th>898</th>\n",
       "      <td>Machine Learning: AI Engineer</td>\n",
       "      <td>ALTRON, Inc.</td>\n",
       "      <td>Fairfax, VA</td>\n",
       "      <td>0</td>\n",
       "      <td></td>\n",
       "      <td>30+ days ago</td>\n",
       "      <td>2021-03-05</td>\n",
       "      <td>Altron Inc. is seeking a Machine Learning (ML)...</td>\n",
       "      <td>machine learning engineer</td>\n",
       "    </tr>\n",
       "    <tr>\n",
       "      <th>899</th>\n",
       "      <td>Machine Learning Engineer</td>\n",
       "      <td>Global Payments</td>\n",
       "      <td>Alpharetta, GA 30022</td>\n",
       "      <td>0</td>\n",
       "      <td></td>\n",
       "      <td>24 days ago</td>\n",
       "      <td>2021-03-05</td>\n",
       "      <td>Every day, Global Payments makes it possible f...</td>\n",
       "      <td>machine learning engineer</td>\n",
       "    </tr>\n",
       "    <tr>\n",
       "      <th>900</th>\n",
       "      <td>Applied Machine Learning Engineer</td>\n",
       "      <td>Anomaly</td>\n",
       "      <td>New York, NY 10012</td>\n",
       "      <td>0</td>\n",
       "      <td></td>\n",
       "      <td>30+ days ago</td>\n",
       "      <td>2021-03-05</td>\n",
       "      <td>About Anomaly  Anomaly is a healthcare technol...</td>\n",
       "      <td>machine learning engineer</td>\n",
       "    </tr>\n",
       "    <tr>\n",
       "      <th>901</th>\n",
       "      <td>Machine Learning Engineer</td>\n",
       "      <td>MORSE Corp</td>\n",
       "      <td>Cambridge, MA 02139</td>\n",
       "      <td>0</td>\n",
       "      <td></td>\n",
       "      <td>30+ days ago</td>\n",
       "      <td>2021-03-05</td>\n",
       "      <td>MORSE is an innovative, employee-owned, tech c...</td>\n",
       "      <td>machine learning engineer</td>\n",
       "    </tr>\n",
       "  </tbody>\n",
       "</table>\n",
       "<p>898 rows × 9 columns</p>\n",
       "</div>"
      ],
      "text/plain": [
       "                                      job_title  \\\n",
       "0                                    Data Entry   \n",
       "1                                Data Scientist   \n",
       "2                                Data Scientist   \n",
       "3                                Data Scientist   \n",
       "4    Early Career Data Scientist - Applied Math   \n",
       "..                                          ...   \n",
       "897    Machine Learning Engineer, Ads Relevance   \n",
       "898               Machine Learning: AI Engineer   \n",
       "899                   Machine Learning Engineer   \n",
       "900           Applied Machine Learning Engineer   \n",
       "901                   Machine Learning Engineer   \n",
       "\n",
       "                                   company              location  is_remote  \\\n",
       "0           TransPerfect Translations Inc.                Remote          1   \n",
       "1                                 ForMotiv                Remote          1   \n",
       "2                              Redzara.com                Remote          1   \n",
       "3                          Nova Collective                Remote          1   \n",
       "4    Pacific Northwest National Laboratory           Seattle, WA          0   \n",
       "..                                     ...                   ...        ...   \n",
       "897                              Pinterest         Palo Alto, CA          0   \n",
       "898                           ALTRON, Inc.           Fairfax, VA          0   \n",
       "899                        Global Payments  Alpharetta, GA 30022          0   \n",
       "900                                Anomaly    New York, NY 10012          0   \n",
       "901                             MORSE Corp   Cambridge, MA 02139          0   \n",
       "\n",
       "                        salary     post_date date_accessed  \\\n",
       "0                                 6 days ago    2021-03-05   \n",
       "1    $75,000 - $120,000 a year  30+ days ago    2021-03-05   \n",
       "2            $35 - $80 an hour   10 days ago    2021-03-05   \n",
       "3            $35 - $48 an hour   24 days ago    2021-03-05   \n",
       "4                                  1 day ago    2021-03-05   \n",
       "..                         ...           ...           ...   \n",
       "897                              24 days ago    2021-03-05   \n",
       "898                             30+ days ago    2021-03-05   \n",
       "899                              24 days ago    2021-03-05   \n",
       "900                             30+ days ago    2021-03-05   \n",
       "901                             30+ days ago    2021-03-05   \n",
       "\n",
       "                                       job_description  \\\n",
       "0    We are looking for Data Entry Clerks to join o...   \n",
       "1    Has it ever occurred to you that as the Intern...   \n",
       "2    Only GC / EAD only. No C2CBackground screening...   \n",
       "3    Are you a data scientist who is really excited...   \n",
       "4    Organization and Job ID Job ID: 311747 Directo...   \n",
       "..                                                 ...   \n",
       "897  About Pinterest:  Millions of people across th...   \n",
       "898  Altron Inc. is seeking a Machine Learning (ML)...   \n",
       "899  Every day, Global Payments makes it possible f...   \n",
       "900  About Anomaly  Anomaly is a healthcare technol...   \n",
       "901  MORSE is an innovative, employee-owned, tech c...   \n",
       "\n",
       "                         label  \n",
       "0    machine learning engineer  \n",
       "1    machine learning engineer  \n",
       "2    machine learning engineer  \n",
       "3    machine learning engineer  \n",
       "4    machine learning engineer  \n",
       "..                         ...  \n",
       "897  machine learning engineer  \n",
       "898  machine learning engineer  \n",
       "899  machine learning engineer  \n",
       "900  machine learning engineer  \n",
       "901  machine learning engineer  \n",
       "\n",
       "[898 rows x 9 columns]"
      ]
     },
     "execution_count": 19,
     "metadata": {},
     "output_type": "execute_result"
    }
   ],
   "source": [
    "df"
   ]
  },
  {
   "cell_type": "code",
   "execution_count": null,
   "metadata": {},
   "outputs": [],
   "source": [
    "null_rows.job_title[839].ndex.name"
   ]
  },
  {
   "cell_type": "code",
   "execution_count": null,
   "metadata": {},
   "outputs": [],
   "source": [
    "re.search(r'machine learning', null_rows.job_title[839].lower())# != None"
   ]
  },
  {
   "cell_type": "code",
   "execution_count": null,
   "metadata": {},
   "outputs": [],
   "source": []
  }
 ],
 "metadata": {
  "kernelspec": {
   "display_name": "Python 3",
   "language": "python",
   "name": "python3"
  },
  "language_info": {
   "codemirror_mode": {
    "name": "ipython",
    "version": 3
   },
   "file_extension": ".py",
   "mimetype": "text/x-python",
   "name": "python",
   "nbconvert_exporter": "python",
   "pygments_lexer": "ipython3",
   "version": "3.7.6"
  }
 },
 "nbformat": 4,
 "nbformat_minor": 4
}
