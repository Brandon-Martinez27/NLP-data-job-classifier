{
 "cells": [
  {
   "cell_type": "code",
   "execution_count": 2,
   "metadata": {},
   "outputs": [],
   "source": [
    "import pandas as pd\n",
    "import numpy as np"
   ]
  },
  {
   "cell_type": "code",
   "execution_count": null,
   "metadata": {},
   "outputs": [],
   "source": [
    "# Read in the data from a JSON file\n",
    "df = pd.read_json('indeed-data-jobs-FINAL.json')\n",
    "df.sample(5)"
   ]
  },
  {
   "cell_type": "code",
   "execution_count": null,
   "metadata": {},
   "outputs": [],
   "source": [
    "# these were probably removed so I'll remove them from the data\n",
    "df[df.job_description == '']"
   ]
  },
  {
   "cell_type": "code",
   "execution_count": null,
   "metadata": {},
   "outputs": [],
   "source": [
    "# REMOVED ROWS ABOVE\n",
    "df = df[df.job_description != ''].reset_index(drop=True)\n",
    "df"
   ]
  },
  {
   "cell_type": "code",
   "execution_count": null,
   "metadata": {},
   "outputs": [],
   "source": [
    "# rows, columns\n",
    "df.shape"
   ]
  },
  {
   "cell_type": "code",
   "execution_count": null,
   "metadata": {},
   "outputs": [],
   "source": [
    "# data summary\n",
    "df.info()"
   ]
  },
  {
   "cell_type": "markdown",
   "metadata": {},
   "source": [
    "# Creating Labels\n",
    "### I'll need to create a script that uses the job title to create the label\n",
    "I already see that data entry isn't what I'm looking for so I'll need to iterate over all entries to purge jobs like this that don't fall into 1 of my 4 categories"
   ]
  },
  {
   "cell_type": "code",
   "execution_count": null,
   "metadata": {},
   "outputs": [],
   "source": [
    "df.job_title"
   ]
  },
  {
   "cell_type": "code",
   "execution_count": null,
   "metadata": {},
   "outputs": [],
   "source": [
    "pd.DataFrame(df.loc[0]).T"
   ]
  },
  {
   "cell_type": "code",
   "execution_count": null,
   "metadata": {},
   "outputs": [],
   "source": [
    "### Regex"
   ]
  },
  {
   "cell_type": "code",
   "execution_count": null,
   "metadata": {},
   "outputs": [],
   "source": [
    "df"
   ]
  },
  {
   "cell_type": "markdown",
   "metadata": {},
   "source": [
    "## [FAIL] Finding each Label by Indexing\n",
    "### The data is sort of in order by the keyword I used while scraping\n",
    "\n",
    "- 1st: 'data scientist'\n",
    "- 2nd: 'data analyst'\n",
    "- 3rd: 'data engineer'\n",
    "- 4th: 'machine learning engineer'\n",
    "\n",
    "*I scraped about the same amount of jobs for each of the 4 labels. So I'm going to index the dataframe for the range within each quartile because I know that the job titles will change around that point so I'll just differentiate the labels by peeking into the DataFrame from the reference points.*"
   ]
  },
  {
   "cell_type": "code",
   "execution_count": null,
   "metadata": {},
   "outputs": [],
   "source": [
    "print(f'1st quarter: {898*.25} \\n 2nd quarter: {898*.5} \\n 3rd quarter: {898*.75}')"
   ]
  },
  {
   "cell_type": "code",
   "execution_count": null,
   "metadata": {},
   "outputs": [],
   "source": [
    "# the last data scientist entry was at 223\n",
    "len(df[:224])"
   ]
  },
  {
   "cell_type": "code",
   "execution_count": null,
   "metadata": {},
   "outputs": [],
   "source": [
    "# the last data analyst entry was at 447\n",
    "len(df[224:447])"
   ]
  },
  {
   "cell_type": "code",
   "execution_count": null,
   "metadata": {},
   "outputs": [],
   "source": [
    "# the last data engineer entry was at 676\n",
    "len(df[447:674])"
   ]
  },
  {
   "cell_type": "code",
   "execution_count": null,
   "metadata": {},
   "outputs": [],
   "source": [
    "# the rest of the jobs are machine learning engineers\n",
    "len(df[674:])"
   ]
  },
  {
   "cell_type": "code",
   "execution_count": null,
   "metadata": {},
   "outputs": [],
   "source": [
    "ds = ['DS' for n in range(0,224)]\n",
    "da = ['DA' for n in range(0,223)]\n",
    "de = ['DE' for n in range(0,227)]\n",
    "mle = ['MLE' for n in range(0,224)]\n",
    "\n",
    "labels = ds + da + de + mle\n",
    "len(labels)"
   ]
  },
  {
   "cell_type": "code",
   "execution_count": null,
   "metadata": {},
   "outputs": [],
   "source": [
    "# Add labels column from the labels list\n",
    "df['label'] = labels"
   ]
  },
  {
   "cell_type": "code",
   "execution_count": null,
   "metadata": {},
   "outputs": [],
   "source": [
    "#peek at sample to see if code is effective\n",
    "df[['job_title', 'label']].sample(5)"
   ]
  },
  {
   "cell_type": "code",
   "execution_count": null,
   "metadata": {},
   "outputs": [],
   "source": [
    "import re\n",
    "# checking to be sure any stray jobs that aren't a target be removed\n",
    "df['valid'] = df.job_title.str.lower().str.extract('(.*?data.*?scientist.*?|.*?data.*?analyst.*?|data.*?engineer.*?|.*?machine.*?learning.*?engineer.*?)')"
   ]
  },
  {
   "cell_type": "code",
   "execution_count": null,
   "metadata": {},
   "outputs": [],
   "source": [
    "# 58 nulls\n",
    "null_rows = df[df.valid.isnull()]\n",
    "null_rows"
   ]
  },
  {
   "cell_type": "markdown",
   "metadata": {},
   "source": [
    "### Clean up the rest of the Labels (58)"
   ]
  },
  {
   "cell_type": "markdown",
   "metadata": {},
   "source": [
    "The data scientist entries dont seem to be true data scientist but data entry or research scientist so I'll drop those (4)\n"
   ]
  },
  {
   "cell_type": "code",
   "execution_count": null,
   "metadata": {},
   "outputs": [],
   "source": [
    "# delete\n",
    "ds_drop = null_rows[0:4]"
   ]
  },
  {
   "cell_type": "code",
   "execution_count": null,
   "metadata": {},
   "outputs": [],
   "source": [
    "ds_drop"
   ]
  },
  {
   "cell_type": "markdown",
   "metadata": {},
   "source": [
    "Remove the engineer positions that don't correspond to the work of a data engineer (2)"
   ]
  },
  {
   "cell_type": "code",
   "execution_count": null,
   "metadata": {},
   "outputs": [],
   "source": [
    "# delete\n",
    "de_drop = null_rows[null_rows.label == \"DE\"]"
   ]
  },
  {
   "cell_type": "code",
   "execution_count": null,
   "metadata": {},
   "outputs": [],
   "source": [
    "de_drop"
   ]
  },
  {
   "cell_type": "markdown",
   "metadata": {},
   "source": [
    "Going to remove titles that don't have 'analyst included, like data specialist which is essentially a different position (regex for analyst)"
   ]
  },
  {
   "cell_type": "code",
   "execution_count": null,
   "metadata": {},
   "outputs": [],
   "source": [
    "# Keep\n",
    "mask = []\n",
    "\n",
    "for row in null_rows.job_title:\n",
    "    if re.search(r'analyst', row, flags=re.IGNORECASE) != None:\n",
    "        mask.append(True)\n",
    "    else:\n",
    "        mask.append(False)"
   ]
  },
  {
   "cell_type": "code",
   "execution_count": null,
   "metadata": {},
   "outputs": [],
   "source": [
    "da_keep = null_rows[mask]"
   ]
  },
  {
   "cell_type": "markdown",
   "metadata": {},
   "source": [
    "As with the data analyst, most position are in fact mle's but I'll use regex to keep 'learning engineer' and 'machine learning' to filter out the rest."
   ]
  },
  {
   "cell_type": "code",
   "execution_count": null,
   "metadata": {},
   "outputs": [],
   "source": [
    "# keep \n",
    "mask = []\n",
    "\n",
    "for row in null_rows.job_title:\n",
    "    if re.search(r'machine learning|learning engineer', row, flags=re.IGNORECASE) != None:\n",
    "        mask.append(True)\n",
    "    else:\n",
    "        mask.append(False)"
   ]
  },
  {
   "cell_type": "code",
   "execution_count": null,
   "metadata": {},
   "outputs": [],
   "source": [
    "mle_keep = null_rows[mask]"
   ]
  },
  {
   "cell_type": "markdown",
   "metadata": {},
   "source": [
    "### Delete rows"
   ]
  },
  {
   "cell_type": "code",
   "execution_count": null,
   "metadata": {},
   "outputs": [],
   "source": [
    "rows_to_keep = null_rows.drop(ds_drop.index).drop(de_drop.index)\n",
    "print(len(rows_to_keep))"
   ]
  },
  {
   "cell_type": "code",
   "execution_count": null,
   "metadata": {},
   "outputs": [],
   "source": [
    "# drop original 58 that needed to be validated\n",
    "df = df.drop(null_rows.index)"
   ]
  },
  {
   "cell_type": "code",
   "execution_count": null,
   "metadata": {},
   "outputs": [],
   "source": [
    "# merge the rows that we decided to keep and drop the valid column\n",
    "df = pd.concat([df, rows_to_keep]).drop(columns='valid')"
   ]
  },
  {
   "cell_type": "code",
   "execution_count": null,
   "metadata": {},
   "outputs": [],
   "source": [
    "df.info()"
   ]
  },
  {
   "cell_type": "code",
   "execution_count": null,
   "metadata": {},
   "outputs": [],
   "source": [
    "df.sample(10)"
   ]
  },
  {
   "cell_type": "markdown",
   "metadata": {},
   "source": [
    "### Looks better!"
   ]
  },
  {
   "cell_type": "code",
   "execution_count": 4,
   "metadata": {},
   "outputs": [],
   "source": [
    "from prepare import prep_create_labels\n",
    "prep_df = prep_create_labels(pd.read_json('indeed-data-jobs-FINAL.json'))"
   ]
  },
  {
   "cell_type": "code",
   "execution_count": null,
   "metadata": {},
   "outputs": [],
   "source": [
    "(prep_df == df).sum()"
   ]
  },
  {
   "cell_type": "code",
   "execution_count": null,
   "metadata": {},
   "outputs": [],
   "source": []
  },
  {
   "cell_type": "code",
   "execution_count": 8,
   "metadata": {},
   "outputs": [
    {
     "data": {
      "text/html": [
       "<div>\n",
       "<style scoped>\n",
       "    .dataframe tbody tr th:only-of-type {\n",
       "        vertical-align: middle;\n",
       "    }\n",
       "\n",
       "    .dataframe tbody tr th {\n",
       "        vertical-align: top;\n",
       "    }\n",
       "\n",
       "    .dataframe thead th {\n",
       "        text-align: right;\n",
       "    }\n",
       "</style>\n",
       "<table border=\"1\" class=\"dataframe\">\n",
       "  <thead>\n",
       "    <tr style=\"text-align: right;\">\n",
       "      <th></th>\n",
       "      <th>job_title</th>\n",
       "      <th>company</th>\n",
       "      <th>location</th>\n",
       "      <th>is_remote</th>\n",
       "      <th>salary</th>\n",
       "      <th>post_date</th>\n",
       "      <th>date_accessed</th>\n",
       "      <th>job_description</th>\n",
       "      <th>label</th>\n",
       "    </tr>\n",
       "  </thead>\n",
       "  <tbody>\n",
       "    <tr>\n",
       "      <th>461</th>\n",
       "      <td>Data Engineer</td>\n",
       "      <td>USG, Inc</td>\n",
       "      <td>San Antonio, TX</td>\n",
       "      <td>1</td>\n",
       "      <td>$50 - $55 an hour</td>\n",
       "      <td>14 days ago</td>\n",
       "      <td>2021-03-05</td>\n",
       "      <td>Looking for Consultants who can work on our W2...</td>\n",
       "      <td>DE</td>\n",
       "    </tr>\n",
       "    <tr>\n",
       "      <th>556</th>\n",
       "      <td>Sr Data Engineer</td>\n",
       "      <td>eProSoft America Inc</td>\n",
       "      <td>Las Vegas, NV 89119</td>\n",
       "      <td>1</td>\n",
       "      <td>Up to $65 an hour</td>\n",
       "      <td>23 days ago</td>\n",
       "      <td>2021-03-05</td>\n",
       "      <td>Looking for a very strong Data Engineer for a ...</td>\n",
       "      <td>DE</td>\n",
       "    </tr>\n",
       "    <tr>\n",
       "      <th>621</th>\n",
       "      <td>Data &amp; Reporting Engineer</td>\n",
       "      <td>Transcendent Solutions LLC</td>\n",
       "      <td>Oldsmar, FL 34677</td>\n",
       "      <td>0</td>\n",
       "      <td></td>\n",
       "      <td>7 days ago</td>\n",
       "      <td>2021-03-05</td>\n",
       "      <td>Description:  The Mission of the Role Transcen...</td>\n",
       "      <td>DE</td>\n",
       "    </tr>\n",
       "    <tr>\n",
       "      <th>548</th>\n",
       "      <td>Data Engineer I or II - Can Be Remote Based On...</td>\n",
       "      <td>Associated Bank</td>\n",
       "      <td>Milwaukee, WI</td>\n",
       "      <td>1</td>\n",
       "      <td></td>\n",
       "      <td>14 days ago</td>\n",
       "      <td>2021-03-05</td>\n",
       "      <td>Associated Bank is an equal opportunity employ...</td>\n",
       "      <td>DE</td>\n",
       "    </tr>\n",
       "    <tr>\n",
       "      <th>849</th>\n",
       "      <td>Machine Learning Application Engineer in Healt...</td>\n",
       "      <td>Oak Ridge National Laboratory</td>\n",
       "      <td>Oak Ridge, TN 37831</td>\n",
       "      <td>0</td>\n",
       "      <td></td>\n",
       "      <td>7 days ago</td>\n",
       "      <td>2021-03-05</td>\n",
       "      <td>Requisition Id 5187 Overview and Purpose: We a...</td>\n",
       "      <td>MLE</td>\n",
       "    </tr>\n",
       "  </tbody>\n",
       "</table>\n",
       "</div>"
      ],
      "text/plain": [
       "                                             job_title  \\\n",
       "461                                      Data Engineer   \n",
       "556                                   Sr Data Engineer   \n",
       "621                          Data & Reporting Engineer   \n",
       "548  Data Engineer I or II - Can Be Remote Based On...   \n",
       "849  Machine Learning Application Engineer in Healt...   \n",
       "\n",
       "                           company             location  is_remote  \\\n",
       "461                       USG, Inc      San Antonio, TX          1   \n",
       "556           eProSoft America Inc  Las Vegas, NV 89119          1   \n",
       "621     Transcendent Solutions LLC    Oldsmar, FL 34677          0   \n",
       "548                Associated Bank        Milwaukee, WI          1   \n",
       "849  Oak Ridge National Laboratory  Oak Ridge, TN 37831          0   \n",
       "\n",
       "                salary    post_date date_accessed  \\\n",
       "461  $50 - $55 an hour  14 days ago    2021-03-05   \n",
       "556  Up to $65 an hour  23 days ago    2021-03-05   \n",
       "621                      7 days ago    2021-03-05   \n",
       "548                     14 days ago    2021-03-05   \n",
       "849                      7 days ago    2021-03-05   \n",
       "\n",
       "                                       job_description label  \n",
       "461  Looking for Consultants who can work on our W2...    DE  \n",
       "556  Looking for a very strong Data Engineer for a ...    DE  \n",
       "621  Description:  The Mission of the Role Transcen...    DE  \n",
       "548  Associated Bank is an equal opportunity employ...    DE  \n",
       "849  Requisition Id 5187 Overview and Purpose: We a...   MLE  "
      ]
     },
     "execution_count": 8,
     "metadata": {},
     "output_type": "execute_result"
    }
   ],
   "source": [
    "prep_df.sample(5)"
   ]
  },
  {
   "cell_type": "code",
   "execution_count": null,
   "metadata": {},
   "outputs": [],
   "source": []
  }
 ],
 "metadata": {
  "kernelspec": {
   "display_name": "Python 3",
   "language": "python",
   "name": "python3"
  },
  "language_info": {
   "codemirror_mode": {
    "name": "ipython",
    "version": 3
   },
   "file_extension": ".py",
   "mimetype": "text/x-python",
   "name": "python",
   "nbconvert_exporter": "python",
   "pygments_lexer": "ipython3",
   "version": "3.7.6"
  }
 },
 "nbformat": 4,
 "nbformat_minor": 4
}
