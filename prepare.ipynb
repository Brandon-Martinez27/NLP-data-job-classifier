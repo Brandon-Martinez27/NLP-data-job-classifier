{
 "cells": [
  {
   "cell_type": "code",
   "execution_count": 1,
   "metadata": {},
   "outputs": [],
   "source": [
    "import pandas as pd\n",
    "import numpy as np"
   ]
  },
  {
   "cell_type": "code",
   "execution_count": 2,
   "metadata": {},
   "outputs": [
    {
     "data": {
      "text/html": [
       "<div>\n",
       "<style scoped>\n",
       "    .dataframe tbody tr th:only-of-type {\n",
       "        vertical-align: middle;\n",
       "    }\n",
       "\n",
       "    .dataframe tbody tr th {\n",
       "        vertical-align: top;\n",
       "    }\n",
       "\n",
       "    .dataframe thead th {\n",
       "        text-align: right;\n",
       "    }\n",
       "</style>\n",
       "<table border=\"1\" class=\"dataframe\">\n",
       "  <thead>\n",
       "    <tr style=\"text-align: right;\">\n",
       "      <th></th>\n",
       "      <th>job_title</th>\n",
       "      <th>company</th>\n",
       "      <th>location</th>\n",
       "      <th>is_remote</th>\n",
       "      <th>salary</th>\n",
       "      <th>post_date</th>\n",
       "      <th>date_accessed</th>\n",
       "      <th>job_description</th>\n",
       "    </tr>\n",
       "  </thead>\n",
       "  <tbody>\n",
       "    <tr>\n",
       "      <th>414</th>\n",
       "      <td>Entry Level Business Analyst</td>\n",
       "      <td>Asset Capital Market</td>\n",
       "      <td>Washington, DC</td>\n",
       "      <td>0</td>\n",
       "      <td>$30 - $32 an hour</td>\n",
       "      <td>13 days ago</td>\n",
       "      <td>2021-03-05</td>\n",
       "      <td>Asset Capital Market is looking for a business...</td>\n",
       "    </tr>\n",
       "    <tr>\n",
       "      <th>407</th>\n",
       "      <td>Data Analyst</td>\n",
       "      <td>Snow Companies</td>\n",
       "      <td>Remote</td>\n",
       "      <td>1</td>\n",
       "      <td></td>\n",
       "      <td>23 days ago</td>\n",
       "      <td>2021-03-05</td>\n",
       "      <td>FLSA Status: ExemptJOB SUMMARY: This position ...</td>\n",
       "    </tr>\n",
       "    <tr>\n",
       "      <th>71</th>\n",
       "      <td>Data Scientist Contractor</td>\n",
       "      <td>Deloitte</td>\n",
       "      <td>Sunnyvale, CA</td>\n",
       "      <td>1</td>\n",
       "      <td>$60 - $70 an hour</td>\n",
       "      <td>30+ days ago</td>\n",
       "      <td>2021-03-05</td>\n",
       "      <td>Data Scientist ContractorThis opportunity is o...</td>\n",
       "    </tr>\n",
       "    <tr>\n",
       "      <th>546</th>\n",
       "      <td>Data Engineer Asc</td>\n",
       "      <td>LOCKHEED MARTIN CORPORATION</td>\n",
       "      <td>Littleton, CO 80127</td>\n",
       "      <td>1</td>\n",
       "      <td></td>\n",
       "      <td>21 days ago</td>\n",
       "      <td>2021-03-05</td>\n",
       "      <td>This position is for a Data Engineer within th...</td>\n",
       "    </tr>\n",
       "    <tr>\n",
       "      <th>179</th>\n",
       "      <td>Data Scientist/Algorithm Engineer</td>\n",
       "      <td>Double River Investments Limited</td>\n",
       "      <td>United States</td>\n",
       "      <td>1</td>\n",
       "      <td></td>\n",
       "      <td>8 days ago</td>\n",
       "      <td>2021-03-05</td>\n",
       "      <td>Double River Investments Limited is a global i...</td>\n",
       "    </tr>\n",
       "  </tbody>\n",
       "</table>\n",
       "</div>"
      ],
      "text/plain": [
       "                             job_title                           company  \\\n",
       "414       Entry Level Business Analyst              Asset Capital Market   \n",
       "407                       Data Analyst                    Snow Companies   \n",
       "71           Data Scientist Contractor                          Deloitte   \n",
       "546                  Data Engineer Asc       LOCKHEED MARTIN CORPORATION   \n",
       "179  Data Scientist/Algorithm Engineer  Double River Investments Limited   \n",
       "\n",
       "                location  is_remote             salary     post_date  \\\n",
       "414       Washington, DC          0  $30 - $32 an hour   13 days ago   \n",
       "407               Remote          1                      23 days ago   \n",
       "71         Sunnyvale, CA          1  $60 - $70 an hour  30+ days ago   \n",
       "546  Littleton, CO 80127          1                      21 days ago   \n",
       "179        United States          1                       8 days ago   \n",
       "\n",
       "    date_accessed                                    job_description  \n",
       "414    2021-03-05  Asset Capital Market is looking for a business...  \n",
       "407    2021-03-05  FLSA Status: ExemptJOB SUMMARY: This position ...  \n",
       "71     2021-03-05  Data Scientist ContractorThis opportunity is o...  \n",
       "546    2021-03-05  This position is for a Data Engineer within th...  \n",
       "179    2021-03-05  Double River Investments Limited is a global i...  "
      ]
     },
     "execution_count": 2,
     "metadata": {},
     "output_type": "execute_result"
    }
   ],
   "source": [
    "# Read in the data from a JSON file\n",
    "df = pd.read_json('indeed-data-jobs-FINAL.json')\n",
    "df.sample(5)"
   ]
  },
  {
   "cell_type": "code",
   "execution_count": 3,
   "metadata": {},
   "outputs": [
    {
     "data": {
      "text/html": [
       "<div>\n",
       "<style scoped>\n",
       "    .dataframe tbody tr th:only-of-type {\n",
       "        vertical-align: middle;\n",
       "    }\n",
       "\n",
       "    .dataframe tbody tr th {\n",
       "        vertical-align: top;\n",
       "    }\n",
       "\n",
       "    .dataframe thead th {\n",
       "        text-align: right;\n",
       "    }\n",
       "</style>\n",
       "<table border=\"1\" class=\"dataframe\">\n",
       "  <thead>\n",
       "    <tr style=\"text-align: right;\">\n",
       "      <th></th>\n",
       "      <th>job_title</th>\n",
       "      <th>company</th>\n",
       "      <th>location</th>\n",
       "      <th>is_remote</th>\n",
       "      <th>salary</th>\n",
       "      <th>post_date</th>\n",
       "      <th>date_accessed</th>\n",
       "      <th>job_description</th>\n",
       "    </tr>\n",
       "  </thead>\n",
       "  <tbody>\n",
       "    <tr>\n",
       "      <th>303</th>\n",
       "      <td></td>\n",
       "      <td></td>\n",
       "      <td></td>\n",
       "      <td>0</td>\n",
       "      <td></td>\n",
       "      <td></td>\n",
       "      <td>2021-03-05</td>\n",
       "      <td></td>\n",
       "    </tr>\n",
       "    <tr>\n",
       "      <th>463</th>\n",
       "      <td></td>\n",
       "      <td></td>\n",
       "      <td></td>\n",
       "      <td>0</td>\n",
       "      <td></td>\n",
       "      <td></td>\n",
       "      <td>2021-03-05</td>\n",
       "      <td></td>\n",
       "    </tr>\n",
       "    <tr>\n",
       "      <th>586</th>\n",
       "      <td></td>\n",
       "      <td></td>\n",
       "      <td></td>\n",
       "      <td>0</td>\n",
       "      <td></td>\n",
       "      <td></td>\n",
       "      <td>2021-03-05</td>\n",
       "      <td></td>\n",
       "    </tr>\n",
       "    <tr>\n",
       "      <th>755</th>\n",
       "      <td></td>\n",
       "      <td></td>\n",
       "      <td></td>\n",
       "      <td>0</td>\n",
       "      <td></td>\n",
       "      <td></td>\n",
       "      <td>2021-03-05</td>\n",
       "      <td></td>\n",
       "    </tr>\n",
       "  </tbody>\n",
       "</table>\n",
       "</div>"
      ],
      "text/plain": [
       "    job_title company location  is_remote salary post_date date_accessed  \\\n",
       "303                                     0                     2021-03-05   \n",
       "463                                     0                     2021-03-05   \n",
       "586                                     0                     2021-03-05   \n",
       "755                                     0                     2021-03-05   \n",
       "\n",
       "    job_description  \n",
       "303                  \n",
       "463                  \n",
       "586                  \n",
       "755                  "
      ]
     },
     "execution_count": 3,
     "metadata": {},
     "output_type": "execute_result"
    }
   ],
   "source": [
    "# these were probably removed so I'll remove them from the data\n",
    "df[df.job_description == '']"
   ]
  },
  {
   "cell_type": "code",
   "execution_count": 4,
   "metadata": {},
   "outputs": [],
   "source": [
    "# REMOVED ROWS ABOVE\n",
    "df = df[df.job_description != '']"
   ]
  },
  {
   "cell_type": "code",
   "execution_count": 5,
   "metadata": {},
   "outputs": [
    {
     "data": {
      "text/plain": [
       "(898, 8)"
      ]
     },
     "execution_count": 5,
     "metadata": {},
     "output_type": "execute_result"
    }
   ],
   "source": [
    "# rows, columns\n",
    "df.shape"
   ]
  },
  {
   "cell_type": "code",
   "execution_count": 6,
   "metadata": {},
   "outputs": [
    {
     "name": "stdout",
     "output_type": "stream",
     "text": [
      "<class 'pandas.core.frame.DataFrame'>\n",
      "Int64Index: 898 entries, 0 to 901\n",
      "Data columns (total 8 columns):\n",
      " #   Column           Non-Null Count  Dtype \n",
      "---  ------           --------------  ----- \n",
      " 0   job_title        898 non-null    object\n",
      " 1   company          898 non-null    object\n",
      " 2   location         898 non-null    object\n",
      " 3   is_remote        898 non-null    int64 \n",
      " 4   salary           898 non-null    object\n",
      " 5   post_date        898 non-null    object\n",
      " 6   date_accessed    898 non-null    object\n",
      " 7   job_description  898 non-null    object\n",
      "dtypes: int64(1), object(7)\n",
      "memory usage: 63.1+ KB\n"
     ]
    }
   ],
   "source": [
    "# data summary\n",
    "df.info()"
   ]
  },
  {
   "cell_type": "markdown",
   "metadata": {},
   "source": [
    "# Creating Labels\n",
    "### I'll need to create a script that uses the job title to create the label\n",
    "I already see that data entry isn't what I'm looking for so I'll need to iterate over all entries to purge jobs like this that don't fall into 1 of my 4 categories"
   ]
  },
  {
   "cell_type": "code",
   "execution_count": 7,
   "metadata": {},
   "outputs": [
    {
     "data": {
      "text/plain": [
       "0                                      Data Entry\n",
       "1                                  Data Scientist\n",
       "2                                  Data Scientist\n",
       "3                                  Data Scientist\n",
       "4      Early Career Data Scientist - Applied Math\n",
       "                          ...                    \n",
       "897      Machine Learning Engineer, Ads Relevance\n",
       "898                 Machine Learning: AI Engineer\n",
       "899                     Machine Learning Engineer\n",
       "900             Applied Machine Learning Engineer\n",
       "901                     Machine Learning Engineer\n",
       "Name: job_title, Length: 898, dtype: object"
      ]
     },
     "execution_count": 7,
     "metadata": {},
     "output_type": "execute_result"
    }
   ],
   "source": [
    "df.job_title"
   ]
  },
  {
   "cell_type": "code",
   "execution_count": 8,
   "metadata": {},
   "outputs": [
    {
     "data": {
      "text/html": [
       "<div>\n",
       "<style scoped>\n",
       "    .dataframe tbody tr th:only-of-type {\n",
       "        vertical-align: middle;\n",
       "    }\n",
       "\n",
       "    .dataframe tbody tr th {\n",
       "        vertical-align: top;\n",
       "    }\n",
       "\n",
       "    .dataframe thead th {\n",
       "        text-align: right;\n",
       "    }\n",
       "</style>\n",
       "<table border=\"1\" class=\"dataframe\">\n",
       "  <thead>\n",
       "    <tr style=\"text-align: right;\">\n",
       "      <th></th>\n",
       "      <th>job_title</th>\n",
       "      <th>company</th>\n",
       "      <th>location</th>\n",
       "      <th>is_remote</th>\n",
       "      <th>salary</th>\n",
       "      <th>post_date</th>\n",
       "      <th>date_accessed</th>\n",
       "      <th>job_description</th>\n",
       "    </tr>\n",
       "  </thead>\n",
       "  <tbody>\n",
       "    <tr>\n",
       "      <th>0</th>\n",
       "      <td>Data Entry</td>\n",
       "      <td>TransPerfect Translations Inc.</td>\n",
       "      <td>Remote</td>\n",
       "      <td>1</td>\n",
       "      <td></td>\n",
       "      <td>6 days ago</td>\n",
       "      <td>2021-03-05</td>\n",
       "      <td>We are looking for Data Entry Clerks to join o...</td>\n",
       "    </tr>\n",
       "  </tbody>\n",
       "</table>\n",
       "</div>"
      ],
      "text/plain": [
       "    job_title                         company location is_remote salary  \\\n",
       "0  Data Entry  TransPerfect Translations Inc.   Remote         1          \n",
       "\n",
       "    post_date date_accessed                                    job_description  \n",
       "0  6 days ago    2021-03-05  We are looking for Data Entry Clerks to join o...  "
      ]
     },
     "execution_count": 8,
     "metadata": {},
     "output_type": "execute_result"
    }
   ],
   "source": [
    "pd.DataFrame(df.loc[0]).T"
   ]
  },
  {
   "cell_type": "code",
   "execution_count": 9,
   "metadata": {},
   "outputs": [],
   "source": [
    "### Regex"
   ]
  },
  {
   "cell_type": "code",
   "execution_count": 10,
   "metadata": {},
   "outputs": [
    {
     "data": {
      "text/html": [
       "<div>\n",
       "<style scoped>\n",
       "    .dataframe tbody tr th:only-of-type {\n",
       "        vertical-align: middle;\n",
       "    }\n",
       "\n",
       "    .dataframe tbody tr th {\n",
       "        vertical-align: top;\n",
       "    }\n",
       "\n",
       "    .dataframe thead th {\n",
       "        text-align: right;\n",
       "    }\n",
       "</style>\n",
       "<table border=\"1\" class=\"dataframe\">\n",
       "  <thead>\n",
       "    <tr style=\"text-align: right;\">\n",
       "      <th></th>\n",
       "      <th>job_title</th>\n",
       "      <th>company</th>\n",
       "      <th>location</th>\n",
       "      <th>is_remote</th>\n",
       "      <th>salary</th>\n",
       "      <th>post_date</th>\n",
       "      <th>date_accessed</th>\n",
       "      <th>job_description</th>\n",
       "    </tr>\n",
       "  </thead>\n",
       "  <tbody>\n",
       "    <tr>\n",
       "      <th>0</th>\n",
       "      <td>Data Entry</td>\n",
       "      <td>TransPerfect Translations Inc.</td>\n",
       "      <td>Remote</td>\n",
       "      <td>1</td>\n",
       "      <td></td>\n",
       "      <td>6 days ago</td>\n",
       "      <td>2021-03-05</td>\n",
       "      <td>We are looking for Data Entry Clerks to join o...</td>\n",
       "    </tr>\n",
       "    <tr>\n",
       "      <th>1</th>\n",
       "      <td>Data Scientist</td>\n",
       "      <td>ForMotiv</td>\n",
       "      <td>Remote</td>\n",
       "      <td>1</td>\n",
       "      <td>$75,000 - $120,000 a year</td>\n",
       "      <td>30+ days ago</td>\n",
       "      <td>2021-03-05</td>\n",
       "      <td>Has it ever occurred to you that as the Intern...</td>\n",
       "    </tr>\n",
       "    <tr>\n",
       "      <th>2</th>\n",
       "      <td>Data Scientist</td>\n",
       "      <td>Redzara.com</td>\n",
       "      <td>Remote</td>\n",
       "      <td>1</td>\n",
       "      <td>$35 - $80 an hour</td>\n",
       "      <td>10 days ago</td>\n",
       "      <td>2021-03-05</td>\n",
       "      <td>Only GC / EAD only. No C2CBackground screening...</td>\n",
       "    </tr>\n",
       "    <tr>\n",
       "      <th>3</th>\n",
       "      <td>Data Scientist</td>\n",
       "      <td>Nova Collective</td>\n",
       "      <td>Remote</td>\n",
       "      <td>1</td>\n",
       "      <td>$35 - $48 an hour</td>\n",
       "      <td>24 days ago</td>\n",
       "      <td>2021-03-05</td>\n",
       "      <td>Are you a data scientist who is really excited...</td>\n",
       "    </tr>\n",
       "    <tr>\n",
       "      <th>4</th>\n",
       "      <td>Early Career Data Scientist - Applied Math</td>\n",
       "      <td>Pacific Northwest National Laboratory</td>\n",
       "      <td>Seattle, WA</td>\n",
       "      <td>0</td>\n",
       "      <td></td>\n",
       "      <td>1 day ago</td>\n",
       "      <td>2021-03-05</td>\n",
       "      <td>Organization and Job ID Job ID: 311747 Directo...</td>\n",
       "    </tr>\n",
       "    <tr>\n",
       "      <th>...</th>\n",
       "      <td>...</td>\n",
       "      <td>...</td>\n",
       "      <td>...</td>\n",
       "      <td>...</td>\n",
       "      <td>...</td>\n",
       "      <td>...</td>\n",
       "      <td>...</td>\n",
       "      <td>...</td>\n",
       "    </tr>\n",
       "    <tr>\n",
       "      <th>897</th>\n",
       "      <td>Machine Learning Engineer, Ads Relevance</td>\n",
       "      <td>Pinterest</td>\n",
       "      <td>Palo Alto, CA</td>\n",
       "      <td>0</td>\n",
       "      <td></td>\n",
       "      <td>24 days ago</td>\n",
       "      <td>2021-03-05</td>\n",
       "      <td>About Pinterest:  Millions of people across th...</td>\n",
       "    </tr>\n",
       "    <tr>\n",
       "      <th>898</th>\n",
       "      <td>Machine Learning: AI Engineer</td>\n",
       "      <td>ALTRON, Inc.</td>\n",
       "      <td>Fairfax, VA</td>\n",
       "      <td>0</td>\n",
       "      <td></td>\n",
       "      <td>30+ days ago</td>\n",
       "      <td>2021-03-05</td>\n",
       "      <td>Altron Inc. is seeking a Machine Learning (ML)...</td>\n",
       "    </tr>\n",
       "    <tr>\n",
       "      <th>899</th>\n",
       "      <td>Machine Learning Engineer</td>\n",
       "      <td>Global Payments</td>\n",
       "      <td>Alpharetta, GA 30022</td>\n",
       "      <td>0</td>\n",
       "      <td></td>\n",
       "      <td>24 days ago</td>\n",
       "      <td>2021-03-05</td>\n",
       "      <td>Every day, Global Payments makes it possible f...</td>\n",
       "    </tr>\n",
       "    <tr>\n",
       "      <th>900</th>\n",
       "      <td>Applied Machine Learning Engineer</td>\n",
       "      <td>Anomaly</td>\n",
       "      <td>New York, NY 10012</td>\n",
       "      <td>0</td>\n",
       "      <td></td>\n",
       "      <td>30+ days ago</td>\n",
       "      <td>2021-03-05</td>\n",
       "      <td>About Anomaly  Anomaly is a healthcare technol...</td>\n",
       "    </tr>\n",
       "    <tr>\n",
       "      <th>901</th>\n",
       "      <td>Machine Learning Engineer</td>\n",
       "      <td>MORSE Corp</td>\n",
       "      <td>Cambridge, MA 02139</td>\n",
       "      <td>0</td>\n",
       "      <td></td>\n",
       "      <td>30+ days ago</td>\n",
       "      <td>2021-03-05</td>\n",
       "      <td>MORSE is an innovative, employee-owned, tech c...</td>\n",
       "    </tr>\n",
       "  </tbody>\n",
       "</table>\n",
       "<p>898 rows × 8 columns</p>\n",
       "</div>"
      ],
      "text/plain": [
       "                                      job_title  \\\n",
       "0                                    Data Entry   \n",
       "1                                Data Scientist   \n",
       "2                                Data Scientist   \n",
       "3                                Data Scientist   \n",
       "4    Early Career Data Scientist - Applied Math   \n",
       "..                                          ...   \n",
       "897    Machine Learning Engineer, Ads Relevance   \n",
       "898               Machine Learning: AI Engineer   \n",
       "899                   Machine Learning Engineer   \n",
       "900           Applied Machine Learning Engineer   \n",
       "901                   Machine Learning Engineer   \n",
       "\n",
       "                                   company              location  is_remote  \\\n",
       "0           TransPerfect Translations Inc.                Remote          1   \n",
       "1                                 ForMotiv                Remote          1   \n",
       "2                              Redzara.com                Remote          1   \n",
       "3                          Nova Collective                Remote          1   \n",
       "4    Pacific Northwest National Laboratory           Seattle, WA          0   \n",
       "..                                     ...                   ...        ...   \n",
       "897                              Pinterest         Palo Alto, CA          0   \n",
       "898                           ALTRON, Inc.           Fairfax, VA          0   \n",
       "899                        Global Payments  Alpharetta, GA 30022          0   \n",
       "900                                Anomaly    New York, NY 10012          0   \n",
       "901                             MORSE Corp   Cambridge, MA 02139          0   \n",
       "\n",
       "                        salary     post_date date_accessed  \\\n",
       "0                                 6 days ago    2021-03-05   \n",
       "1    $75,000 - $120,000 a year  30+ days ago    2021-03-05   \n",
       "2            $35 - $80 an hour   10 days ago    2021-03-05   \n",
       "3            $35 - $48 an hour   24 days ago    2021-03-05   \n",
       "4                                  1 day ago    2021-03-05   \n",
       "..                         ...           ...           ...   \n",
       "897                              24 days ago    2021-03-05   \n",
       "898                             30+ days ago    2021-03-05   \n",
       "899                              24 days ago    2021-03-05   \n",
       "900                             30+ days ago    2021-03-05   \n",
       "901                             30+ days ago    2021-03-05   \n",
       "\n",
       "                                       job_description  \n",
       "0    We are looking for Data Entry Clerks to join o...  \n",
       "1    Has it ever occurred to you that as the Intern...  \n",
       "2    Only GC / EAD only. No C2CBackground screening...  \n",
       "3    Are you a data scientist who is really excited...  \n",
       "4    Organization and Job ID Job ID: 311747 Directo...  \n",
       "..                                                 ...  \n",
       "897  About Pinterest:  Millions of people across th...  \n",
       "898  Altron Inc. is seeking a Machine Learning (ML)...  \n",
       "899  Every day, Global Payments makes it possible f...  \n",
       "900  About Anomaly  Anomaly is a healthcare technol...  \n",
       "901  MORSE is an innovative, employee-owned, tech c...  \n",
       "\n",
       "[898 rows x 8 columns]"
      ]
     },
     "execution_count": 10,
     "metadata": {},
     "output_type": "execute_result"
    }
   ],
   "source": [
    "df"
   ]
  },
  {
   "cell_type": "markdown",
   "metadata": {},
   "source": [
    "## [FAIL] Finding each Label by Indexing\n",
    "### The data is sort of in order by the keyword I used while scraping\n",
    "\n",
    "- 1st: 'data scientist'\n",
    "- 2nd: 'data analyst'\n",
    "- 3rd: 'data engineer'\n",
    "- 4th: 'machine learning engineer'\n",
    "\n",
    "*I scraped about the same amount of jobs for each of the 4 labels. So I'm going to index the dataframe for the range within each quartile because I know that the job titles will change around that point so I'll just differentiate the labels by peeking into the DataFrame from the reference points.*"
   ]
  },
  {
   "cell_type": "code",
   "execution_count": 11,
   "metadata": {},
   "outputs": [
    {
     "name": "stdout",
     "output_type": "stream",
     "text": [
      "1st quarter: 224.5 \n",
      " 2nd quarter: 449.0 \n",
      " 3rd quarter: 673.5\n"
     ]
    }
   ],
   "source": [
    "print(f'1st quarter: {898*.25} \\n 2nd quarter: {898*.5} \\n 3rd quarter: {898*.75}')"
   ]
  },
  {
   "cell_type": "code",
   "execution_count": 12,
   "metadata": {},
   "outputs": [],
   "source": [
    "# the last data scientist entry was at 223\n",
    "#slice1 = slice(0,224)\n",
    "#(df[:224] == df[slice1]).sum()"
   ]
  },
  {
   "cell_type": "code",
   "execution_count": 13,
   "metadata": {},
   "outputs": [],
   "source": [
    "# the last data analyst entry was at 447\n",
    "# df[224:447]"
   ]
  },
  {
   "cell_type": "code",
   "execution_count": 14,
   "metadata": {},
   "outputs": [],
   "source": [
    "# the last data engineer entry was at 676\n",
    "# df[447:674]"
   ]
  },
  {
   "cell_type": "code",
   "execution_count": 15,
   "metadata": {},
   "outputs": [],
   "source": [
    "# the rest of the jobs are machine learning engineers\n",
    "#df[674:]"
   ]
  },
  {
   "cell_type": "code",
   "execution_count": 16,
   "metadata": {},
   "outputs": [],
   "source": [
    "def create_labels(df, first=slice(0,224), second=slice(224,447), third=slice(447,674), last=slice(674,902)):\n",
    "    '''\n",
    "    This function takes in a DataFrame and creates labels based on\n",
    "    the index given as as second parameter. Note: this assumes your\n",
    "    labels have been presorted and you know the index ranges for each.\n",
    "    ''' \n",
    "    df['label'] = np.where(df.iloc[first], 'Data Scientist', '')\n",
    "    df['label'] = np.where(df.iloc[second], 'Data Analyst', '')\n",
    "    df['label'] = np.where(df.iloc[third], 'Data Engineer', '')\n",
    "    df['label'] = np.where(df.iloc[last], 'Machine Learning Engineer', '')\n",
    "    return df"
   ]
  },
  {
   "cell_type": "code",
   "execution_count": 17,
   "metadata": {},
   "outputs": [
    {
     "data": {
      "text/html": [
       "<div>\n",
       "<style scoped>\n",
       "    .dataframe tbody tr th:only-of-type {\n",
       "        vertical-align: middle;\n",
       "    }\n",
       "\n",
       "    .dataframe tbody tr th {\n",
       "        vertical-align: top;\n",
       "    }\n",
       "\n",
       "    .dataframe thead th {\n",
       "        text-align: right;\n",
       "    }\n",
       "</style>\n",
       "<table border=\"1\" class=\"dataframe\">\n",
       "  <thead>\n",
       "    <tr style=\"text-align: right;\">\n",
       "      <th></th>\n",
       "      <th>job_title</th>\n",
       "      <th>company</th>\n",
       "      <th>location</th>\n",
       "      <th>is_remote</th>\n",
       "      <th>salary</th>\n",
       "      <th>post_date</th>\n",
       "      <th>date_accessed</th>\n",
       "      <th>job_description</th>\n",
       "    </tr>\n",
       "  </thead>\n",
       "  <tbody>\n",
       "    <tr>\n",
       "      <th>265</th>\n",
       "      <td>Data Analyst</td>\n",
       "      <td>Prototype Entities</td>\n",
       "      <td>Remote</td>\n",
       "      <td>1</td>\n",
       "      <td></td>\n",
       "      <td>8 days ago</td>\n",
       "      <td>2021-03-05</td>\n",
       "      <td>POSITION: ANALYSTTEAM: RESEARCH AND EVALUATION...</td>\n",
       "    </tr>\n",
       "  </tbody>\n",
       "</table>\n",
       "</div>"
      ],
      "text/plain": [
       "        job_title             company location  is_remote salary   post_date  \\\n",
       "265  Data Analyst  Prototype Entities   Remote          1         8 days ago   \n",
       "\n",
       "    date_accessed                                    job_description  \n",
       "265    2021-03-05  POSITION: ANALYSTTEAM: RESEARCH AND EVALUATION...  "
      ]
     },
     "execution_count": 17,
     "metadata": {},
     "output_type": "execute_result"
    }
   ],
   "source": [
    "df.sample()"
   ]
  },
  {
   "cell_type": "code",
   "execution_count": 18,
   "metadata": {},
   "outputs": [],
   "source": [
    "#df.insert(8, 'label', 'Data Scientist', allow_duplicates=True)"
   ]
  },
  {
   "cell_type": "markdown",
   "metadata": {},
   "source": [
    "### FAIL ^ Trying regex"
   ]
  },
  {
   "cell_type": "code",
   "execution_count": 19,
   "metadata": {},
   "outputs": [
    {
     "data": {
      "text/plain": [
       "<re.Match object; span=(0, 27), match='Early Career Data Scientist'>"
      ]
     },
     "execution_count": 19,
     "metadata": {},
     "output_type": "execute_result"
    }
   ],
   "source": [
    "# test case 1\n",
    "import re\n",
    "\n",
    "text = 'Early Career Data Scientist - Applied Math data scientist'\n",
    "\n",
    "r=r'.*?(data).*?(scientist).*?'\n",
    "\n",
    "m = re.search(r, text, flags=re.IGNORECASE)\n",
    "m"
   ]
  },
  {
   "cell_type": "code",
   "execution_count": 20,
   "metadata": {},
   "outputs": [
    {
     "data": {
      "text/plain": [
       "('Early Career Data Scientist', 'Data', 'Scientist')"
      ]
     },
     "execution_count": 20,
     "metadata": {},
     "output_type": "execute_result"
    }
   ],
   "source": [
    "m[0], m[1], m[2]"
   ]
  },
  {
   "cell_type": "code",
   "execution_count": 21,
   "metadata": {},
   "outputs": [
    {
     "data": {
      "text/plain": [
       "<re.Match object; span=(0, 28), match='Entry-Level Business Analyst'>"
      ]
     },
     "execution_count": 21,
     "metadata": {},
     "output_type": "execute_result"
    }
   ],
   "source": [
    "# test case 2\n",
    "text = 'Entry-Level Business Analyst'\n",
    "\n",
    "r=r'.*?(business).*?(analyst).*?'\n",
    "\n",
    "m = re.search(r, text, flags=re.IGNORECASE)\n",
    "m"
   ]
  },
  {
   "cell_type": "code",
   "execution_count": 22,
   "metadata": {},
   "outputs": [
    {
     "data": {
      "text/plain": [
       "('Entry-Level Business Analyst', 'Business', 'Analyst')"
      ]
     },
     "execution_count": 22,
     "metadata": {},
     "output_type": "execute_result"
    }
   ],
   "source": [
    "m[0], m[1], m[2]"
   ]
  },
  {
   "cell_type": "code",
   "execution_count": 23,
   "metadata": {},
   "outputs": [
    {
     "data": {
      "text/plain": [
       "<re.Match object; span=(0, 37), match='Machine Learning Application Engineer'>"
      ]
     },
     "execution_count": 23,
     "metadata": {},
     "output_type": "execute_result"
    }
   ],
   "source": [
    "# test case 3\n",
    "text = 'Machine Learning Application Engineer in Healt...'\n",
    "\n",
    "r=r'.*?(machine).*?(learning).*?(engineer).*?'\n",
    "\n",
    "m = re.search(r, text, flags=re.IGNORECASE)\n",
    "m"
   ]
  },
  {
   "cell_type": "code",
   "execution_count": 24,
   "metadata": {},
   "outputs": [
    {
     "data": {
      "text/plain": [
       "('Machine Learning Application Engineer', 'Machine', 'Learning', 'Engineer')"
      ]
     },
     "execution_count": 24,
     "metadata": {},
     "output_type": "execute_result"
    }
   ],
   "source": [
    "m[0], m[1], m[2], m[3]"
   ]
  },
  {
   "cell_type": "markdown",
   "metadata": {},
   "source": []
  },
  {
   "cell_type": "code",
   "execution_count": 25,
   "metadata": {},
   "outputs": [],
   "source": [
    "def create_labels(df):\n",
    "    for job in df.job_title:\n",
    "        if 'machine learning engineer' in job.lower():\n",
    "            df.assign(label = 'MLE')\n",
    "        elif 'data analyst' in job.lower() or 'business analyst' in job.lower():\n",
    "            df.assign(label = 'DA')\n",
    "        elif 'data scientist' in job.lower():\n",
    "            df.assign(label = 'DS')\n",
    "        elif 'data engineer' in job.lower():\n",
    "            df.assign(label = 'DE')\n",
    "        return df"
   ]
  },
  {
   "cell_type": "code",
   "execution_count": 26,
   "metadata": {},
   "outputs": [],
   "source": [
    "def create_labels(df):\n",
    "    df['label'] = ' '\n",
    "    for job in df.job_title:\n",
    "        df['label'] = np.where(\n",
    "            'machine learning engineer' in job.lower(),\n",
    "            'MLE',\n",
    "            df['label'])\n",
    "        df['label'] = np.where(\n",
    "            'data analyst' in job.lower() or 'business analyst' in job.lower(),\n",
    "            'DA',\n",
    "            df['label'])\n",
    "        df['label'] = np.where(\n",
    "            'data scientist' in job.lower(),\n",
    "            'DS',\n",
    "            df['label'])\n",
    "        df['label'] = np.where(\n",
    "            'data engineer' in job.lower(),\n",
    "            'DE',\n",
    "            df['label'])\n",
    "        return df"
   ]
  },
  {
   "cell_type": "code",
   "execution_count": 36,
   "metadata": {},
   "outputs": [],
   "source": [
    "df['label'] = ' '\n",
    "for job in df.job_title:\n",
    "    df['label'] = np.where(\n",
    "                'machine learning engineer' in job.lower() == True,\n",
    "                'MLE',\n",
    "                '')\n",
    "    df['label'] = np.where(\n",
    "                'data analyst' in job.lower() or 'business analyst' in job.lower() == True,\n",
    "                'DA',\n",
    "                '')    \n",
    "    df['label'] = np.where(\n",
    "                'data scientist' in job.lower(),\n",
    "                'DS',\n",
    "                '')\n",
    "    df['label'] = np.where(\n",
    "                'data engineer' in job.lower(),\n",
    "                'DE',\n",
    "                '')"
   ]
  },
  {
   "cell_type": "code",
   "execution_count": 45,
   "metadata": {},
   "outputs": [],
   "source": [
    "df['label'] = df.job_title.str.lower().str.extract('(data scientist|data analyst|data engineer|machine learning engineer)')"
   ]
  },
  {
   "cell_type": "code",
   "execution_count": 46,
   "metadata": {},
   "outputs": [
    {
     "data": {
      "text/html": [
       "<div>\n",
       "<style scoped>\n",
       "    .dataframe tbody tr th:only-of-type {\n",
       "        vertical-align: middle;\n",
       "    }\n",
       "\n",
       "    .dataframe tbody tr th {\n",
       "        vertical-align: top;\n",
       "    }\n",
       "\n",
       "    .dataframe thead th {\n",
       "        text-align: right;\n",
       "    }\n",
       "</style>\n",
       "<table border=\"1\" class=\"dataframe\">\n",
       "  <thead>\n",
       "    <tr style=\"text-align: right;\">\n",
       "      <th></th>\n",
       "      <th>job_title</th>\n",
       "      <th>label</th>\n",
       "    </tr>\n",
       "  </thead>\n",
       "  <tbody>\n",
       "    <tr>\n",
       "      <th>846</th>\n",
       "      <td>Senior R&amp;D Engineer, Machine Learning</td>\n",
       "      <td>NaN</td>\n",
       "    </tr>\n",
       "    <tr>\n",
       "      <th>209</th>\n",
       "      <td>Image Data Scientist</td>\n",
       "      <td>data scientist</td>\n",
       "    </tr>\n",
       "    <tr>\n",
       "      <th>772</th>\n",
       "      <td>Machine Learning Engineer</td>\n",
       "      <td>machine learning engineer</td>\n",
       "    </tr>\n",
       "    <tr>\n",
       "      <th>740</th>\n",
       "      <td>Intern, Artificial Intelligence &amp; Machine Lear...</td>\n",
       "      <td>machine learning engineer</td>\n",
       "    </tr>\n",
       "    <tr>\n",
       "      <th>659</th>\n",
       "      <td>Data Engineer</td>\n",
       "      <td>data engineer</td>\n",
       "    </tr>\n",
       "  </tbody>\n",
       "</table>\n",
       "</div>"
      ],
      "text/plain": [
       "                                             job_title  \\\n",
       "846              Senior R&D Engineer, Machine Learning   \n",
       "209                               Image Data Scientist   \n",
       "772                          Machine Learning Engineer   \n",
       "740  Intern, Artificial Intelligence & Machine Lear...   \n",
       "659                                      Data Engineer   \n",
       "\n",
       "                         label  \n",
       "846                        NaN  \n",
       "209             data scientist  \n",
       "772  machine learning engineer  \n",
       "740  machine learning engineer  \n",
       "659              data engineer  "
      ]
     },
     "execution_count": 46,
     "metadata": {},
     "output_type": "execute_result"
    }
   ],
   "source": [
    "df[['job_title', 'label']].sample(5)"
   ]
  },
  {
   "cell_type": "code",
   "execution_count": 47,
   "metadata": {},
   "outputs": [
    {
     "data": {
      "text/html": [
       "<div>\n",
       "<style scoped>\n",
       "    .dataframe tbody tr th:only-of-type {\n",
       "        vertical-align: middle;\n",
       "    }\n",
       "\n",
       "    .dataframe tbody tr th {\n",
       "        vertical-align: top;\n",
       "    }\n",
       "\n",
       "    .dataframe thead th {\n",
       "        text-align: right;\n",
       "    }\n",
       "</style>\n",
       "<table border=\"1\" class=\"dataframe\">\n",
       "  <thead>\n",
       "    <tr style=\"text-align: right;\">\n",
       "      <th></th>\n",
       "      <th>job_title</th>\n",
       "      <th>company</th>\n",
       "      <th>location</th>\n",
       "      <th>is_remote</th>\n",
       "      <th>salary</th>\n",
       "      <th>post_date</th>\n",
       "      <th>date_accessed</th>\n",
       "      <th>job_description</th>\n",
       "      <th>label</th>\n",
       "    </tr>\n",
       "  </thead>\n",
       "  <tbody>\n",
       "    <tr>\n",
       "      <th>0</th>\n",
       "      <td>Data Entry</td>\n",
       "      <td>TransPerfect Translations Inc.</td>\n",
       "      <td>Remote</td>\n",
       "      <td>1</td>\n",
       "      <td></td>\n",
       "      <td>6 days ago</td>\n",
       "      <td>2021-03-05</td>\n",
       "      <td>We are looking for Data Entry Clerks to join o...</td>\n",
       "      <td>NaN</td>\n",
       "    </tr>\n",
       "    <tr>\n",
       "      <th>23</th>\n",
       "      <td>Associate Scientist, Data Support</td>\n",
       "      <td>Pfizer</td>\n",
       "      <td>Groton, CT</td>\n",
       "      <td>0</td>\n",
       "      <td></td>\n",
       "      <td>2 days ago</td>\n",
       "      <td>2021-03-05</td>\n",
       "      <td>Pfizer colleagues have many perspectives, many...</td>\n",
       "      <td>NaN</td>\n",
       "    </tr>\n",
       "    <tr>\n",
       "      <th>33</th>\n",
       "      <td>IT Data Analytics Intern</td>\n",
       "      <td>Farmers Insurance Group</td>\n",
       "      <td>Remote</td>\n",
       "      <td>1</td>\n",
       "      <td>$20.50 an hour</td>\n",
       "      <td>24 days ago</td>\n",
       "      <td>2021-03-05</td>\n",
       "      <td>IT Intern: IT Data Analytics intern  We’re loo...</td>\n",
       "      <td>NaN</td>\n",
       "    </tr>\n",
       "    <tr>\n",
       "      <th>85</th>\n",
       "      <td>Data Science Engineer/Scientist</td>\n",
       "      <td>Baker Hughes</td>\n",
       "      <td>Minden, NV 89423</td>\n",
       "      <td>0</td>\n",
       "      <td></td>\n",
       "      <td>4 days ago</td>\n",
       "      <td>2021-03-05</td>\n",
       "      <td>Role Summary: The Data Science Engineer will s...</td>\n",
       "      <td>NaN</td>\n",
       "    </tr>\n",
       "    <tr>\n",
       "      <th>110</th>\n",
       "      <td>Data &amp; Applied Scientist</td>\n",
       "      <td>Microsoft</td>\n",
       "      <td>Bellevue, WA</td>\n",
       "      <td>0</td>\n",
       "      <td></td>\n",
       "      <td>5 days ago</td>\n",
       "      <td>2021-03-05</td>\n",
       "      <td>What if your job description were: make tomorr...</td>\n",
       "      <td>NaN</td>\n",
       "    </tr>\n",
       "    <tr>\n",
       "      <th>...</th>\n",
       "      <td>...</td>\n",
       "      <td>...</td>\n",
       "      <td>...</td>\n",
       "      <td>...</td>\n",
       "      <td>...</td>\n",
       "      <td>...</td>\n",
       "      <td>...</td>\n",
       "      <td>...</td>\n",
       "      <td>...</td>\n",
       "    </tr>\n",
       "    <tr>\n",
       "      <th>892</th>\n",
       "      <td>Autonomous Vehicle Test Engineer</td>\n",
       "      <td>TuSimple</td>\n",
       "      <td>San Antonio, TX</td>\n",
       "      <td>0</td>\n",
       "      <td></td>\n",
       "      <td>30+ days ago</td>\n",
       "      <td>2021-03-05</td>\n",
       "      <td>This opportunity is located in San Antonio, TX...</td>\n",
       "      <td>NaN</td>\n",
       "    </tr>\n",
       "    <tr>\n",
       "      <th>893</th>\n",
       "      <td>Fall 2021 Intern - Machine Learning - Think Ta...</td>\n",
       "      <td>Samsung Research America Internship</td>\n",
       "      <td>Mountain View, CA</td>\n",
       "      <td>0</td>\n",
       "      <td></td>\n",
       "      <td>20 days ago</td>\n",
       "      <td>2021-03-05</td>\n",
       "      <td>Title: Fall 2021 Intern - Machine Learning Eng...</td>\n",
       "      <td>NaN</td>\n",
       "    </tr>\n",
       "    <tr>\n",
       "      <th>894</th>\n",
       "      <td>Deep Learning Engineer (Contract)</td>\n",
       "      <td>Generally Intelligent</td>\n",
       "      <td>San Francisco, CA</td>\n",
       "      <td>1</td>\n",
       "      <td>$150,000 - $200,000 a year</td>\n",
       "      <td>24 days ago</td>\n",
       "      <td>2021-03-05</td>\n",
       "      <td>We're looking for someone who is excited about...</td>\n",
       "      <td>NaN</td>\n",
       "    </tr>\n",
       "    <tr>\n",
       "      <th>896</th>\n",
       "      <td>Quality Engineer - Machine Learning / Deep Lea...</td>\n",
       "      <td>View, Inc.</td>\n",
       "      <td>Olive Branch, MS 38654</td>\n",
       "      <td>0</td>\n",
       "      <td></td>\n",
       "      <td>30+ days ago</td>\n",
       "      <td>2021-03-05</td>\n",
       "      <td>Our mission is to Create Delightful Human Envi...</td>\n",
       "      <td>NaN</td>\n",
       "    </tr>\n",
       "    <tr>\n",
       "      <th>898</th>\n",
       "      <td>Machine Learning: AI Engineer</td>\n",
       "      <td>ALTRON, Inc.</td>\n",
       "      <td>Fairfax, VA</td>\n",
       "      <td>0</td>\n",
       "      <td></td>\n",
       "      <td>30+ days ago</td>\n",
       "      <td>2021-03-05</td>\n",
       "      <td>Altron Inc. is seeking a Machine Learning (ML)...</td>\n",
       "      <td>NaN</td>\n",
       "    </tr>\n",
       "  </tbody>\n",
       "</table>\n",
       "<p>124 rows × 9 columns</p>\n",
       "</div>"
      ],
      "text/plain": [
       "                                             job_title  \\\n",
       "0                                           Data Entry   \n",
       "23                   Associate Scientist, Data Support   \n",
       "33                            IT Data Analytics Intern   \n",
       "85                     Data Science Engineer/Scientist   \n",
       "110                           Data & Applied Scientist   \n",
       "..                                                 ...   \n",
       "892                   Autonomous Vehicle Test Engineer   \n",
       "893  Fall 2021 Intern - Machine Learning - Think Ta...   \n",
       "894                  Deep Learning Engineer (Contract)   \n",
       "896  Quality Engineer - Machine Learning / Deep Lea...   \n",
       "898                      Machine Learning: AI Engineer   \n",
       "\n",
       "                                 company                location  is_remote  \\\n",
       "0         TransPerfect Translations Inc.                  Remote          1   \n",
       "23                                Pfizer              Groton, CT          0   \n",
       "33               Farmers Insurance Group                  Remote          1   \n",
       "85                          Baker Hughes        Minden, NV 89423          0   \n",
       "110                            Microsoft            Bellevue, WA          0   \n",
       "..                                   ...                     ...        ...   \n",
       "892                             TuSimple         San Antonio, TX          0   \n",
       "893  Samsung Research America Internship       Mountain View, CA          0   \n",
       "894                Generally Intelligent       San Francisco, CA          1   \n",
       "896                           View, Inc.  Olive Branch, MS 38654          0   \n",
       "898                         ALTRON, Inc.             Fairfax, VA          0   \n",
       "\n",
       "                         salary     post_date date_accessed  \\\n",
       "0                                  6 days ago    2021-03-05   \n",
       "23                                 2 days ago    2021-03-05   \n",
       "33               $20.50 an hour   24 days ago    2021-03-05   \n",
       "85                                 4 days ago    2021-03-05   \n",
       "110                                5 days ago    2021-03-05   \n",
       "..                          ...           ...           ...   \n",
       "892                              30+ days ago    2021-03-05   \n",
       "893                               20 days ago    2021-03-05   \n",
       "894  $150,000 - $200,000 a year   24 days ago    2021-03-05   \n",
       "896                              30+ days ago    2021-03-05   \n",
       "898                              30+ days ago    2021-03-05   \n",
       "\n",
       "                                       job_description label  \n",
       "0    We are looking for Data Entry Clerks to join o...   NaN  \n",
       "23   Pfizer colleagues have many perspectives, many...   NaN  \n",
       "33   IT Intern: IT Data Analytics intern  We’re loo...   NaN  \n",
       "85   Role Summary: The Data Science Engineer will s...   NaN  \n",
       "110  What if your job description were: make tomorr...   NaN  \n",
       "..                                                 ...   ...  \n",
       "892  This opportunity is located in San Antonio, TX...   NaN  \n",
       "893  Title: Fall 2021 Intern - Machine Learning Eng...   NaN  \n",
       "894  We're looking for someone who is excited about...   NaN  \n",
       "896  Our mission is to Create Delightful Human Envi...   NaN  \n",
       "898  Altron Inc. is seeking a Machine Learning (ML)...   NaN  \n",
       "\n",
       "[124 rows x 9 columns]"
      ]
     },
     "execution_count": 47,
     "metadata": {},
     "output_type": "execute_result"
    }
   ],
   "source": [
    "df[df.label.isnull()]"
   ]
  },
  {
   "cell_type": "code",
   "execution_count": null,
   "metadata": {},
   "outputs": [],
   "source": []
  }
 ],
 "metadata": {
  "kernelspec": {
   "display_name": "Python 3",
   "language": "python",
   "name": "python3"
  },
  "language_info": {
   "codemirror_mode": {
    "name": "ipython",
    "version": 3
   },
   "file_extension": ".py",
   "mimetype": "text/x-python",
   "name": "python",
   "nbconvert_exporter": "python",
   "pygments_lexer": "ipython3",
   "version": "3.7.6"
  }
 },
 "nbformat": 4,
 "nbformat_minor": 4
}
