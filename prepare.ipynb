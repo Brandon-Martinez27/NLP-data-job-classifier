{
 "cells": [
  {
   "cell_type": "code",
   "execution_count": 1,
   "metadata": {},
   "outputs": [],
   "source": [
    "import pandas as pd\n",
    "import numpy as np"
   ]
  },
  {
   "cell_type": "code",
   "execution_count": 2,
   "metadata": {},
   "outputs": [
    {
     "data": {
      "text/html": [
       "<div>\n",
       "<style scoped>\n",
       "    .dataframe tbody tr th:only-of-type {\n",
       "        vertical-align: middle;\n",
       "    }\n",
       "\n",
       "    .dataframe tbody tr th {\n",
       "        vertical-align: top;\n",
       "    }\n",
       "\n",
       "    .dataframe thead th {\n",
       "        text-align: right;\n",
       "    }\n",
       "</style>\n",
       "<table border=\"1\" class=\"dataframe\">\n",
       "  <thead>\n",
       "    <tr style=\"text-align: right;\">\n",
       "      <th></th>\n",
       "      <th>job_title</th>\n",
       "      <th>company</th>\n",
       "      <th>location</th>\n",
       "      <th>is_remote</th>\n",
       "      <th>salary</th>\n",
       "      <th>post_date</th>\n",
       "      <th>date_accessed</th>\n",
       "      <th>job_description</th>\n",
       "    </tr>\n",
       "  </thead>\n",
       "  <tbody>\n",
       "    <tr>\n",
       "      <th>589</th>\n",
       "      <td>Data Engineer, Oncology Translational Research</td>\n",
       "      <td>Novartis</td>\n",
       "      <td>Cambridge, MA 02139</td>\n",
       "      <td>0</td>\n",
       "      <td></td>\n",
       "      <td>9 days ago</td>\n",
       "      <td>2021-03-05</td>\n",
       "      <td>799 million! That's how many lives our product...</td>\n",
       "    </tr>\n",
       "    <tr>\n",
       "      <th>261</th>\n",
       "      <td>Data Analyst-Reporting</td>\n",
       "      <td>Integrity Marketing Group</td>\n",
       "      <td>Dallas, TX</td>\n",
       "      <td>0</td>\n",
       "      <td></td>\n",
       "      <td>2 days ago</td>\n",
       "      <td>2021-03-05</td>\n",
       "      <td>Company Description Company Description Integr...</td>\n",
       "    </tr>\n",
       "    <tr>\n",
       "      <th>83</th>\n",
       "      <td>Data Scientist (Remote)</td>\n",
       "      <td>SIL International</td>\n",
       "      <td>Dallas, TX 75236</td>\n",
       "      <td>1</td>\n",
       "      <td>$24 - $26 an hour</td>\n",
       "      <td>30+ days ago</td>\n",
       "      <td>2021-03-05</td>\n",
       "      <td>Position's Responsibilities-Ingests and proces...</td>\n",
       "    </tr>\n",
       "    <tr>\n",
       "      <th>593</th>\n",
       "      <td>Data Engineer Remote</td>\n",
       "      <td>Pinnacle Alliances</td>\n",
       "      <td>Baltimore, MD</td>\n",
       "      <td>1</td>\n",
       "      <td>$65 - $70 an hour</td>\n",
       "      <td>16 days ago</td>\n",
       "      <td>2021-03-05</td>\n",
       "      <td>DATA ENGINEERRemoteUSC/GC§ Data engineers buil...</td>\n",
       "    </tr>\n",
       "    <tr>\n",
       "      <th>870</th>\n",
       "      <td>Machine Learning Application Engineer in Healt...</td>\n",
       "      <td>Oak Ridge National Laboratory</td>\n",
       "      <td>Oak Ridge, TN 37831</td>\n",
       "      <td>0</td>\n",
       "      <td></td>\n",
       "      <td>7 days ago</td>\n",
       "      <td>2021-03-05</td>\n",
       "      <td>Requisition Id 5187 Overview and Purpose: We a...</td>\n",
       "    </tr>\n",
       "  </tbody>\n",
       "</table>\n",
       "</div>"
      ],
      "text/plain": [
       "                                             job_title  \\\n",
       "589     Data Engineer, Oncology Translational Research   \n",
       "261                             Data Analyst-Reporting   \n",
       "83                             Data Scientist (Remote)   \n",
       "593                               Data Engineer Remote   \n",
       "870  Machine Learning Application Engineer in Healt...   \n",
       "\n",
       "                           company             location  is_remote  \\\n",
       "589                       Novartis  Cambridge, MA 02139          0   \n",
       "261      Integrity Marketing Group           Dallas, TX          0   \n",
       "83               SIL International     Dallas, TX 75236          1   \n",
       "593             Pinnacle Alliances        Baltimore, MD          1   \n",
       "870  Oak Ridge National Laboratory  Oak Ridge, TN 37831          0   \n",
       "\n",
       "                salary     post_date date_accessed  \\\n",
       "589                       9 days ago    2021-03-05   \n",
       "261                       2 days ago    2021-03-05   \n",
       "83   $24 - $26 an hour  30+ days ago    2021-03-05   \n",
       "593  $65 - $70 an hour   16 days ago    2021-03-05   \n",
       "870                       7 days ago    2021-03-05   \n",
       "\n",
       "                                       job_description  \n",
       "589  799 million! That's how many lives our product...  \n",
       "261  Company Description Company Description Integr...  \n",
       "83   Position's Responsibilities-Ingests and proces...  \n",
       "593  DATA ENGINEERRemoteUSC/GC§ Data engineers buil...  \n",
       "870  Requisition Id 5187 Overview and Purpose: We a...  "
      ]
     },
     "execution_count": 2,
     "metadata": {},
     "output_type": "execute_result"
    }
   ],
   "source": [
    "# Read in the data from a JSON file\n",
    "df = pd.read_json('indeed-data-jobs-FINAL.json')\n",
    "df.sample(5)"
   ]
  },
  {
   "cell_type": "code",
   "execution_count": 3,
   "metadata": {},
   "outputs": [
    {
     "data": {
      "text/html": [
       "<div>\n",
       "<style scoped>\n",
       "    .dataframe tbody tr th:only-of-type {\n",
       "        vertical-align: middle;\n",
       "    }\n",
       "\n",
       "    .dataframe tbody tr th {\n",
       "        vertical-align: top;\n",
       "    }\n",
       "\n",
       "    .dataframe thead th {\n",
       "        text-align: right;\n",
       "    }\n",
       "</style>\n",
       "<table border=\"1\" class=\"dataframe\">\n",
       "  <thead>\n",
       "    <tr style=\"text-align: right;\">\n",
       "      <th></th>\n",
       "      <th>job_title</th>\n",
       "      <th>company</th>\n",
       "      <th>location</th>\n",
       "      <th>is_remote</th>\n",
       "      <th>salary</th>\n",
       "      <th>post_date</th>\n",
       "      <th>date_accessed</th>\n",
       "      <th>job_description</th>\n",
       "    </tr>\n",
       "  </thead>\n",
       "  <tbody>\n",
       "    <tr>\n",
       "      <th>303</th>\n",
       "      <td></td>\n",
       "      <td></td>\n",
       "      <td></td>\n",
       "      <td>0</td>\n",
       "      <td></td>\n",
       "      <td></td>\n",
       "      <td>2021-03-05</td>\n",
       "      <td></td>\n",
       "    </tr>\n",
       "    <tr>\n",
       "      <th>463</th>\n",
       "      <td></td>\n",
       "      <td></td>\n",
       "      <td></td>\n",
       "      <td>0</td>\n",
       "      <td></td>\n",
       "      <td></td>\n",
       "      <td>2021-03-05</td>\n",
       "      <td></td>\n",
       "    </tr>\n",
       "    <tr>\n",
       "      <th>586</th>\n",
       "      <td></td>\n",
       "      <td></td>\n",
       "      <td></td>\n",
       "      <td>0</td>\n",
       "      <td></td>\n",
       "      <td></td>\n",
       "      <td>2021-03-05</td>\n",
       "      <td></td>\n",
       "    </tr>\n",
       "    <tr>\n",
       "      <th>755</th>\n",
       "      <td></td>\n",
       "      <td></td>\n",
       "      <td></td>\n",
       "      <td>0</td>\n",
       "      <td></td>\n",
       "      <td></td>\n",
       "      <td>2021-03-05</td>\n",
       "      <td></td>\n",
       "    </tr>\n",
       "  </tbody>\n",
       "</table>\n",
       "</div>"
      ],
      "text/plain": [
       "    job_title company location  is_remote salary post_date date_accessed  \\\n",
       "303                                     0                     2021-03-05   \n",
       "463                                     0                     2021-03-05   \n",
       "586                                     0                     2021-03-05   \n",
       "755                                     0                     2021-03-05   \n",
       "\n",
       "    job_description  \n",
       "303                  \n",
       "463                  \n",
       "586                  \n",
       "755                  "
      ]
     },
     "execution_count": 3,
     "metadata": {},
     "output_type": "execute_result"
    }
   ],
   "source": [
    "# these were probably removed so I'll remove them from the data\n",
    "df[df.job_description == '']"
   ]
  },
  {
   "cell_type": "code",
   "execution_count": 4,
   "metadata": {},
   "outputs": [],
   "source": [
    "# REMOVED ROWS ABOVE\n",
    "df = df[df.job_description != '']"
   ]
  },
  {
   "cell_type": "code",
   "execution_count": 5,
   "metadata": {},
   "outputs": [
    {
     "data": {
      "text/plain": [
       "(898, 8)"
      ]
     },
     "execution_count": 5,
     "metadata": {},
     "output_type": "execute_result"
    }
   ],
   "source": [
    "# rows, columns\n",
    "df.shape"
   ]
  },
  {
   "cell_type": "code",
   "execution_count": 6,
   "metadata": {},
   "outputs": [
    {
     "name": "stdout",
     "output_type": "stream",
     "text": [
      "<class 'pandas.core.frame.DataFrame'>\n",
      "Int64Index: 898 entries, 0 to 901\n",
      "Data columns (total 8 columns):\n",
      " #   Column           Non-Null Count  Dtype \n",
      "---  ------           --------------  ----- \n",
      " 0   job_title        898 non-null    object\n",
      " 1   company          898 non-null    object\n",
      " 2   location         898 non-null    object\n",
      " 3   is_remote        898 non-null    int64 \n",
      " 4   salary           898 non-null    object\n",
      " 5   post_date        898 non-null    object\n",
      " 6   date_accessed    898 non-null    object\n",
      " 7   job_description  898 non-null    object\n",
      "dtypes: int64(1), object(7)\n",
      "memory usage: 63.1+ KB\n"
     ]
    }
   ],
   "source": [
    "# data summary\n",
    "df.info()"
   ]
  },
  {
   "cell_type": "markdown",
   "metadata": {},
   "source": [
    "### I'll need to create a script that uses the job title to create the label\n",
    "I already see that data entry isn't what I'm looking for so I'll need to iterate over all entries to purge jobs like this that don't fall into 1 of my 4 categories"
   ]
  },
  {
   "cell_type": "code",
   "execution_count": 7,
   "metadata": {},
   "outputs": [
    {
     "data": {
      "text/plain": [
       "0                                      Data Entry\n",
       "1                                  Data Scientist\n",
       "2                                  Data Scientist\n",
       "3                                  Data Scientist\n",
       "4      Early Career Data Scientist - Applied Math\n",
       "                          ...                    \n",
       "897      Machine Learning Engineer, Ads Relevance\n",
       "898                 Machine Learning: AI Engineer\n",
       "899                     Machine Learning Engineer\n",
       "900             Applied Machine Learning Engineer\n",
       "901                     Machine Learning Engineer\n",
       "Name: job_title, Length: 898, dtype: object"
      ]
     },
     "execution_count": 7,
     "metadata": {},
     "output_type": "execute_result"
    }
   ],
   "source": [
    "df.job_title"
   ]
  },
  {
   "cell_type": "code",
   "execution_count": 17,
   "metadata": {},
   "outputs": [
    {
     "data": {
      "text/html": [
       "<div>\n",
       "<style scoped>\n",
       "    .dataframe tbody tr th:only-of-type {\n",
       "        vertical-align: middle;\n",
       "    }\n",
       "\n",
       "    .dataframe tbody tr th {\n",
       "        vertical-align: top;\n",
       "    }\n",
       "\n",
       "    .dataframe thead th {\n",
       "        text-align: right;\n",
       "    }\n",
       "</style>\n",
       "<table border=\"1\" class=\"dataframe\">\n",
       "  <thead>\n",
       "    <tr style=\"text-align: right;\">\n",
       "      <th></th>\n",
       "      <th>job_title</th>\n",
       "      <th>company</th>\n",
       "      <th>location</th>\n",
       "      <th>is_remote</th>\n",
       "      <th>salary</th>\n",
       "      <th>post_date</th>\n",
       "      <th>date_accessed</th>\n",
       "      <th>job_description</th>\n",
       "    </tr>\n",
       "  </thead>\n",
       "  <tbody>\n",
       "    <tr>\n",
       "      <th>0</th>\n",
       "      <td>Data Entry</td>\n",
       "      <td>TransPerfect Translations Inc.</td>\n",
       "      <td>Remote</td>\n",
       "      <td>1</td>\n",
       "      <td></td>\n",
       "      <td>6 days ago</td>\n",
       "      <td>2021-03-05</td>\n",
       "      <td>We are looking for Data Entry Clerks to join o...</td>\n",
       "    </tr>\n",
       "  </tbody>\n",
       "</table>\n",
       "</div>"
      ],
      "text/plain": [
       "    job_title                         company location is_remote salary  \\\n",
       "0  Data Entry  TransPerfect Translations Inc.   Remote         1          \n",
       "\n",
       "    post_date date_accessed                                    job_description  \n",
       "0  6 days ago    2021-03-05  We are looking for Data Entry Clerks to join o...  "
      ]
     },
     "execution_count": 17,
     "metadata": {},
     "output_type": "execute_result"
    }
   ],
   "source": [
    "pd.DataFrame(df.loc[0]).T"
   ]
  },
  {
   "cell_type": "code",
   "execution_count": null,
   "metadata": {},
   "outputs": [],
   "source": [
    "### Regex"
   ]
  },
  {
   "cell_type": "code",
   "execution_count": null,
   "metadata": {},
   "outputs": [],
   "source": []
  }
 ],
 "metadata": {
  "kernelspec": {
   "display_name": "Python 3",
   "language": "python",
   "name": "python3"
  },
  "language_info": {
   "codemirror_mode": {
    "name": "ipython",
    "version": 3
   },
   "file_extension": ".py",
   "mimetype": "text/x-python",
   "name": "python",
   "nbconvert_exporter": "python",
   "pygments_lexer": "ipython3",
   "version": "3.7.6"
  }
 },
 "nbformat": 4,
 "nbformat_minor": 4
}
