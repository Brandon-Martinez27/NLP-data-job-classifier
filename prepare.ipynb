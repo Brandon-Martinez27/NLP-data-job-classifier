{
 "cells": [
  {
   "cell_type": "code",
   "execution_count": 1,
   "metadata": {},
   "outputs": [],
   "source": [
    "import pandas as pd\n",
    "import numpy as np"
   ]
  },
  {
   "cell_type": "code",
   "execution_count": 2,
   "metadata": {},
   "outputs": [
    {
     "data": {
      "text/html": [
       "<div>\n",
       "<style scoped>\n",
       "    .dataframe tbody tr th:only-of-type {\n",
       "        vertical-align: middle;\n",
       "    }\n",
       "\n",
       "    .dataframe tbody tr th {\n",
       "        vertical-align: top;\n",
       "    }\n",
       "\n",
       "    .dataframe thead th {\n",
       "        text-align: right;\n",
       "    }\n",
       "</style>\n",
       "<table border=\"1\" class=\"dataframe\">\n",
       "  <thead>\n",
       "    <tr style=\"text-align: right;\">\n",
       "      <th></th>\n",
       "      <th>job_title</th>\n",
       "      <th>company</th>\n",
       "      <th>location</th>\n",
       "      <th>is_remote</th>\n",
       "      <th>salary</th>\n",
       "      <th>post_date</th>\n",
       "      <th>date_accessed</th>\n",
       "      <th>job_description</th>\n",
       "    </tr>\n",
       "  </thead>\n",
       "  <tbody>\n",
       "    <tr>\n",
       "      <th>750</th>\n",
       "      <td>Machine Learning / Data Engineer</td>\n",
       "      <td>Alignable</td>\n",
       "      <td>United States</td>\n",
       "      <td>0</td>\n",
       "      <td></td>\n",
       "      <td>2 days ago</td>\n",
       "      <td>2021-03-05</td>\n",
       "      <td>We're looking for engineers who are enthralled...</td>\n",
       "    </tr>\n",
       "    <tr>\n",
       "      <th>651</th>\n",
       "      <td>Data Platform Engineer I</td>\n",
       "      <td>Texas Capital Bank</td>\n",
       "      <td>Richardson, TX 75082</td>\n",
       "      <td>0</td>\n",
       "      <td></td>\n",
       "      <td>3 days ago</td>\n",
       "      <td>2021-03-05</td>\n",
       "      <td>Overview:  At Texas Capital Bank, we are drive...</td>\n",
       "    </tr>\n",
       "    <tr>\n",
       "      <th>433</th>\n",
       "      <td>Data Analyst (Sales Operations)</td>\n",
       "      <td>Businessolver</td>\n",
       "      <td>Remote</td>\n",
       "      <td>0</td>\n",
       "      <td>$80,000 - $90,000 a year</td>\n",
       "      <td>7 days ago</td>\n",
       "      <td>2021-03-05</td>\n",
       "      <td>Businessolver is a technology company deliveri...</td>\n",
       "    </tr>\n",
       "    <tr>\n",
       "      <th>157</th>\n",
       "      <td>Data Scientist</td>\n",
       "      <td>Nomi Health</td>\n",
       "      <td>Austin, TX 73301</td>\n",
       "      <td>0</td>\n",
       "      <td></td>\n",
       "      <td>5 days ago</td>\n",
       "      <td>2021-03-05</td>\n",
       "      <td>WHO ARE WE? The way we pay for healthcare in A...</td>\n",
       "    </tr>\n",
       "    <tr>\n",
       "      <th>32</th>\n",
       "      <td>DATA SCIENTIST</td>\n",
       "      <td>Bangura Solutions</td>\n",
       "      <td>Remote</td>\n",
       "      <td>1</td>\n",
       "      <td></td>\n",
       "      <td>16 days ago</td>\n",
       "      <td>2021-03-05</td>\n",
       "      <td>Our prestigious clients are currently looking ...</td>\n",
       "    </tr>\n",
       "  </tbody>\n",
       "</table>\n",
       "</div>"
      ],
      "text/plain": [
       "                            job_title             company  \\\n",
       "750  Machine Learning / Data Engineer           Alignable   \n",
       "651          Data Platform Engineer I  Texas Capital Bank   \n",
       "433   Data Analyst (Sales Operations)       Businessolver   \n",
       "157                    Data Scientist         Nomi Health   \n",
       "32                     DATA SCIENTIST   Bangura Solutions   \n",
       "\n",
       "                 location  is_remote                    salary    post_date  \\\n",
       "750         United States          0                             2 days ago   \n",
       "651  Richardson, TX 75082          0                             3 days ago   \n",
       "433                Remote          0  $80,000 - $90,000 a year   7 days ago   \n",
       "157      Austin, TX 73301          0                             5 days ago   \n",
       "32                 Remote          1                            16 days ago   \n",
       "\n",
       "    date_accessed                                    job_description  \n",
       "750    2021-03-05  We're looking for engineers who are enthralled...  \n",
       "651    2021-03-05  Overview:  At Texas Capital Bank, we are drive...  \n",
       "433    2021-03-05  Businessolver is a technology company deliveri...  \n",
       "157    2021-03-05  WHO ARE WE? The way we pay for healthcare in A...  \n",
       "32     2021-03-05  Our prestigious clients are currently looking ...  "
      ]
     },
     "execution_count": 2,
     "metadata": {},
     "output_type": "execute_result"
    }
   ],
   "source": [
    "# Read in the data from a JSON file\n",
    "df = pd.read_json('indeed-data-jobs-FINAL.json')\n",
    "df.sample(5)"
   ]
  },
  {
   "cell_type": "code",
   "execution_count": 3,
   "metadata": {},
   "outputs": [
    {
     "data": {
      "text/html": [
       "<div>\n",
       "<style scoped>\n",
       "    .dataframe tbody tr th:only-of-type {\n",
       "        vertical-align: middle;\n",
       "    }\n",
       "\n",
       "    .dataframe tbody tr th {\n",
       "        vertical-align: top;\n",
       "    }\n",
       "\n",
       "    .dataframe thead th {\n",
       "        text-align: right;\n",
       "    }\n",
       "</style>\n",
       "<table border=\"1\" class=\"dataframe\">\n",
       "  <thead>\n",
       "    <tr style=\"text-align: right;\">\n",
       "      <th></th>\n",
       "      <th>job_title</th>\n",
       "      <th>company</th>\n",
       "      <th>location</th>\n",
       "      <th>is_remote</th>\n",
       "      <th>salary</th>\n",
       "      <th>post_date</th>\n",
       "      <th>date_accessed</th>\n",
       "      <th>job_description</th>\n",
       "    </tr>\n",
       "  </thead>\n",
       "  <tbody>\n",
       "    <tr>\n",
       "      <th>303</th>\n",
       "      <td></td>\n",
       "      <td></td>\n",
       "      <td></td>\n",
       "      <td>0</td>\n",
       "      <td></td>\n",
       "      <td></td>\n",
       "      <td>2021-03-05</td>\n",
       "      <td></td>\n",
       "    </tr>\n",
       "    <tr>\n",
       "      <th>463</th>\n",
       "      <td></td>\n",
       "      <td></td>\n",
       "      <td></td>\n",
       "      <td>0</td>\n",
       "      <td></td>\n",
       "      <td></td>\n",
       "      <td>2021-03-05</td>\n",
       "      <td></td>\n",
       "    </tr>\n",
       "    <tr>\n",
       "      <th>586</th>\n",
       "      <td></td>\n",
       "      <td></td>\n",
       "      <td></td>\n",
       "      <td>0</td>\n",
       "      <td></td>\n",
       "      <td></td>\n",
       "      <td>2021-03-05</td>\n",
       "      <td></td>\n",
       "    </tr>\n",
       "    <tr>\n",
       "      <th>755</th>\n",
       "      <td></td>\n",
       "      <td></td>\n",
       "      <td></td>\n",
       "      <td>0</td>\n",
       "      <td></td>\n",
       "      <td></td>\n",
       "      <td>2021-03-05</td>\n",
       "      <td></td>\n",
       "    </tr>\n",
       "  </tbody>\n",
       "</table>\n",
       "</div>"
      ],
      "text/plain": [
       "    job_title company location  is_remote salary post_date date_accessed  \\\n",
       "303                                     0                     2021-03-05   \n",
       "463                                     0                     2021-03-05   \n",
       "586                                     0                     2021-03-05   \n",
       "755                                     0                     2021-03-05   \n",
       "\n",
       "    job_description  \n",
       "303                  \n",
       "463                  \n",
       "586                  \n",
       "755                  "
      ]
     },
     "execution_count": 3,
     "metadata": {},
     "output_type": "execute_result"
    }
   ],
   "source": [
    "# these were probably removed so I'll remove them from the data\n",
    "df[df.job_description == '']"
   ]
  },
  {
   "cell_type": "code",
   "execution_count": 5,
   "metadata": {},
   "outputs": [],
   "source": [
    "# REMOVED ROWS ABOVE\n",
    "df = df[df.job_description != '']"
   ]
  },
  {
   "cell_type": "code",
   "execution_count": 6,
   "metadata": {},
   "outputs": [
    {
     "data": {
      "text/plain": [
       "(898, 8)"
      ]
     },
     "execution_count": 6,
     "metadata": {},
     "output_type": "execute_result"
    }
   ],
   "source": [
    "# rows, columns\n",
    "df.shape"
   ]
  },
  {
   "cell_type": "code",
   "execution_count": 7,
   "metadata": {},
   "outputs": [
    {
     "name": "stdout",
     "output_type": "stream",
     "text": [
      "<class 'pandas.core.frame.DataFrame'>\n",
      "Int64Index: 898 entries, 0 to 901\n",
      "Data columns (total 8 columns):\n",
      " #   Column           Non-Null Count  Dtype \n",
      "---  ------           --------------  ----- \n",
      " 0   job_title        898 non-null    object\n",
      " 1   company          898 non-null    object\n",
      " 2   location         898 non-null    object\n",
      " 3   is_remote        898 non-null    int64 \n",
      " 4   salary           898 non-null    object\n",
      " 5   post_date        898 non-null    object\n",
      " 6   date_accessed    898 non-null    object\n",
      " 7   job_description  898 non-null    object\n",
      "dtypes: int64(1), object(7)\n",
      "memory usage: 63.1+ KB\n"
     ]
    }
   ],
   "source": [
    "# data summary\n",
    "df.info()"
   ]
  }
 ],
 "metadata": {
  "kernelspec": {
   "display_name": "Python 3",
   "language": "python",
   "name": "python3"
  },
  "language_info": {
   "codemirror_mode": {
    "name": "ipython",
    "version": 3
   },
   "file_extension": ".py",
   "mimetype": "text/x-python",
   "name": "python",
   "nbconvert_exporter": "python",
   "pygments_lexer": "ipython3",
   "version": "3.7.6"
  }
 },
 "nbformat": 4,
 "nbformat_minor": 4
}
